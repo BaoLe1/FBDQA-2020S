{
 "cells": [
  {
   "cell_type": "markdown",
   "metadata": {},
   "source": [
    "# 新手教程—Pandas库使用示例"
   ]
  },
  {
   "cell_type": "markdown",
   "metadata": {},
   "source": [
    "以下内容是对pandas库的简要介绍，主要面向新用户，您可以访问http://pandas.pydata.org/pandas-docs/dev/10min.html 查看更多示例，如果您想更深入的学习pandas，推荐您查看《利用Python进行数据分析》一书。"
   ]
  },
  {
   "cell_type": "code",
   "execution_count": 1,
   "metadata": {},
   "outputs": [],
   "source": [
    "#导入常用libraries\n",
    "import pandas as pd\n",
    "import numpy as np\n",
    "import matplotlib.pyplot as plt\n",
    ""
   ]
  },
  {
   "cell_type": "code",
   "execution_count": 2,
   "metadata": {},
   "outputs": [],
   "source": [
    "# auth('ID','Password')\n",
    "\n",
    "#auth('13811550483','security421S')\n",
    "#pd.set_option('display.max_rows', 10)\n",
    ""
   ]
  },
  {
   "cell_type": "code",
   "execution_count": 6,
   "metadata": {},
   "outputs": [],
   "source": [
    "pd.options.display.max_rows = 31"
   ]
  },
  {
   "cell_type": "markdown",
   "metadata": {},
   "source": [
    "## 数据结构"
   ]
  },
  {
   "cell_type": "markdown",
   "metadata": {},
   "source": [
    "Pandas最重要的数据结构有Series和DataFrame，这里介绍series一些基本操作。"
   ]
  },
  {
   "cell_type": "markdown",
   "metadata": {},
   "source": [
    "创建一个Series"
   ]
  },
  {
   "cell_type": "code",
   "execution_count": 7,
   "metadata": {},
   "outputs": [
    {
     "output_type": "execute_result",
     "data": {
      "text/plain": "0    1.0\n1    3.0\n2    5.0\n3    NaN\n4    6.0\n5    8.0\ndtype: float64"
     },
     "metadata": {},
     "execution_count": 7
    }
   ],
   "source": [
    "s = pd.Series([1,3,5,np.nan,6,8])\n",
    "s"
   ]
  },
  {
   "cell_type": "markdown",
   "metadata": {},
   "source": [
    "创建一个DataFrame，包括一个numpy array, 时间索引和列名字。"
   ]
  },
  {
   "cell_type": "code",
   "execution_count": 8,
   "metadata": {},
   "outputs": [
    {
     "output_type": "execute_result",
     "data": {
      "text/plain": "DatetimeIndex(['2019-01-01', '2019-01-02', '2019-01-03', '2019-01-04',\n               '2019-01-05', '2019-01-06'],\n              dtype='datetime64[ns]', freq='D')"
     },
     "metadata": {},
     "execution_count": 8
    }
   ],
   "source": [
    "dates = pd.date_range('20190101',periods=6)\n",
    "dates"
   ]
  },
  {
   "cell_type": "code",
   "execution_count": 9,
   "metadata": {},
   "outputs": [
    {
     "output_type": "execute_result",
     "data": {
      "text/plain": "                   A         B         C         D\n2019-01-01 -1.499328 -0.365037  1.022967 -0.619979\n2019-01-02 -0.470142 -0.489732 -0.921085 -0.209115\n2019-01-03 -1.938439  0.928511  0.702133  0.033485\n2019-01-04 -0.387314  0.752152  0.318888  0.041800\n2019-01-05  0.008920 -0.609312  0.856873  0.457907\n2019-01-06 -0.681568  0.010223 -1.014263  0.491377",
      "text/html": "<div>\n<style scoped>\n    .dataframe tbody tr th:only-of-type {\n        vertical-align: middle;\n    }\n\n    .dataframe tbody tr th {\n        vertical-align: top;\n    }\n\n    .dataframe thead th {\n        text-align: right;\n    }\n</style>\n<table border=\"1\" class=\"dataframe\">\n  <thead>\n    <tr style=\"text-align: right;\">\n      <th></th>\n      <th>A</th>\n      <th>B</th>\n      <th>C</th>\n      <th>D</th>\n    </tr>\n  </thead>\n  <tbody>\n    <tr>\n      <th>2019-01-01</th>\n      <td>-1.499328</td>\n      <td>-0.365037</td>\n      <td>1.022967</td>\n      <td>-0.619979</td>\n    </tr>\n    <tr>\n      <th>2019-01-02</th>\n      <td>-0.470142</td>\n      <td>-0.489732</td>\n      <td>-0.921085</td>\n      <td>-0.209115</td>\n    </tr>\n    <tr>\n      <th>2019-01-03</th>\n      <td>-1.938439</td>\n      <td>0.928511</td>\n      <td>0.702133</td>\n      <td>0.033485</td>\n    </tr>\n    <tr>\n      <th>2019-01-04</th>\n      <td>-0.387314</td>\n      <td>0.752152</td>\n      <td>0.318888</td>\n      <td>0.041800</td>\n    </tr>\n    <tr>\n      <th>2019-01-05</th>\n      <td>0.008920</td>\n      <td>-0.609312</td>\n      <td>0.856873</td>\n      <td>0.457907</td>\n    </tr>\n    <tr>\n      <th>2019-01-06</th>\n      <td>-0.681568</td>\n      <td>0.010223</td>\n      <td>-1.014263</td>\n      <td>0.491377</td>\n    </tr>\n  </tbody>\n</table>\n</div>"
     },
     "metadata": {},
     "execution_count": 9
    }
   ],
   "source": [
    "df = pd.DataFrame(np.random.randn(6,4),index=dates,columns=list('ABCD'))\n",
    "df"
   ]
  },
  {
   "cell_type": "markdown",
   "metadata": {},
   "source": [
    "创建一个DataFrame，包括一个可以转化为Series的字典"
   ]
  },
  {
   "cell_type": "code",
   "execution_count": 10,
   "metadata": {},
   "outputs": [
    {
     "output_type": "execute_result",
     "data": {
      "text/plain": "     A          B    C  D      E    F\n0  1.0 2019-01-02  1.0  3   test  foo\n1  1.0 2019-01-02  1.0  3  train  foo\n2  1.0 2019-01-02  1.0  3   test  foo\n3  1.0 2019-01-02  1.0  3  train  foo",
      "text/html": "<div>\n<style scoped>\n    .dataframe tbody tr th:only-of-type {\n        vertical-align: middle;\n    }\n\n    .dataframe tbody tr th {\n        vertical-align: top;\n    }\n\n    .dataframe thead th {\n        text-align: right;\n    }\n</style>\n<table border=\"1\" class=\"dataframe\">\n  <thead>\n    <tr style=\"text-align: right;\">\n      <th></th>\n      <th>A</th>\n      <th>B</th>\n      <th>C</th>\n      <th>D</th>\n      <th>E</th>\n      <th>F</th>\n    </tr>\n  </thead>\n  <tbody>\n    <tr>\n      <th>0</th>\n      <td>1.0</td>\n      <td>2019-01-02</td>\n      <td>1.0</td>\n      <td>3</td>\n      <td>test</td>\n      <td>foo</td>\n    </tr>\n    <tr>\n      <th>1</th>\n      <td>1.0</td>\n      <td>2019-01-02</td>\n      <td>1.0</td>\n      <td>3</td>\n      <td>train</td>\n      <td>foo</td>\n    </tr>\n    <tr>\n      <th>2</th>\n      <td>1.0</td>\n      <td>2019-01-02</td>\n      <td>1.0</td>\n      <td>3</td>\n      <td>test</td>\n      <td>foo</td>\n    </tr>\n    <tr>\n      <th>3</th>\n      <td>1.0</td>\n      <td>2019-01-02</td>\n      <td>1.0</td>\n      <td>3</td>\n      <td>train</td>\n      <td>foo</td>\n    </tr>\n  </tbody>\n</table>\n</div>"
     },
     "metadata": {},
     "execution_count": 10
    }
   ],
   "source": [
    "df2 = pd.DataFrame({ 'A' : 1.,\n",
    "   ....:            'B' : pd.Timestamp('20190102'),\n",
    "   ....:            'C' : pd.Series(1,index=list(range(4)),dtype='float32'),\n",
    "   ....:            'D' : np.array([3] * 4,dtype='int32'),\n",
    "   ....:            'E' : pd.Categorical([\"test\",\"train\",\"test\",\"train\"]),\n",
    "   ....:            'F' : 'foo' })\n",
    "df2"
   ]
  },
  {
   "cell_type": "code",
   "execution_count": 11,
   "metadata": {},
   "outputs": [
    {
     "output_type": "execute_result",
     "data": {
      "text/plain": "A           float64\nB    datetime64[ns]\nC           float32\nD             int32\nE          category\nF            object\ndtype: object"
     },
     "metadata": {},
     "execution_count": 11
    }
   ],
   "source": [
    "df2.dtypes"
   ]
  },
  {
   "cell_type": "markdown",
   "metadata": {},
   "source": [
    "可以完成自动补全功能，下面这是一个例子。"
   ]
  },
  {
   "cell_type": "code",
   "execution_count": 12,
   "metadata": {},
   "outputs": [
    {
     "output_type": "execute_result",
     "data": {
      "text/plain": "     A          B    C  D      E    F\n0  1.0 2019-01-02  1.0  3   test  foo\n1  1.0 2019-01-02  1.0  3  train  foo\n2  1.0 2019-01-02  1.0  3   test  foo\n3  1.0 2019-01-02  1.0  3  train  foo",
      "text/html": "<div>\n<style scoped>\n    .dataframe tbody tr th:only-of-type {\n        vertical-align: middle;\n    }\n\n    .dataframe tbody tr th {\n        vertical-align: top;\n    }\n\n    .dataframe thead th {\n        text-align: right;\n    }\n</style>\n<table border=\"1\" class=\"dataframe\">\n  <thead>\n    <tr style=\"text-align: right;\">\n      <th></th>\n      <th>A</th>\n      <th>B</th>\n      <th>C</th>\n      <th>D</th>\n      <th>E</th>\n      <th>F</th>\n    </tr>\n  </thead>\n  <tbody>\n    <tr>\n      <th>0</th>\n      <td>1.0</td>\n      <td>2019-01-02</td>\n      <td>1.0</td>\n      <td>3</td>\n      <td>test</td>\n      <td>foo</td>\n    </tr>\n    <tr>\n      <th>1</th>\n      <td>1.0</td>\n      <td>2019-01-02</td>\n      <td>1.0</td>\n      <td>3</td>\n      <td>train</td>\n      <td>foo</td>\n    </tr>\n    <tr>\n      <th>2</th>\n      <td>1.0</td>\n      <td>2019-01-02</td>\n      <td>1.0</td>\n      <td>3</td>\n      <td>test</td>\n      <td>foo</td>\n    </tr>\n    <tr>\n      <th>3</th>\n      <td>1.0</td>\n      <td>2019-01-02</td>\n      <td>1.0</td>\n      <td>3</td>\n      <td>train</td>\n      <td>foo</td>\n    </tr>\n  </tbody>\n</table>\n</div>"
     },
     "metadata": {},
     "execution_count": 12
    }
   ],
   "source": [
    "df2"
   ]
  },
  {
   "cell_type": "raw",
   "metadata": {},
   "source": [
    "df2.A                  df2.boxplot\n",
    "df2.abs                df2.C\n",
    "df2.add                df2.clip\n",
    "df2.add_prefix         df2.clip_lower\n",
    "df2.add_suffix         df2.clip_upper\n",
    "df2.align              df2.columns\n",
    "df2.all                df2.combine\n",
    "df2.any                df2.combineAdd\n",
    "df2.append             df2.combine_first\n",
    "df2.apply              df2.combineMult\n",
    "df2.applymap           df2.compound\n",
    "df2.as_blocks          df2.consolidate\n",
    "df2.asfreq             df2.convert_objects\n",
    "df2.as_matrix          df2.copy\n",
    "df2.astype             df2.corr\n",
    "df2.at                 df2.corrwith\n",
    "df2.at_time            df2.count\n",
    "df2.axes               df2.cov\n",
    "df2.B                  df2.cummax\n",
    "df2.between_time       df2.cummin\n",
    "df2.bfill              df2.cumprod\n",
    "df2.blocks             df2.cumsum\n",
    "df2.bool               df2.D"
   ]
  },
  {
   "cell_type": "markdown",
   "metadata": {},
   "source": [
    "## 查看数据"
   ]
  },
  {
   "cell_type": "markdown",
   "metadata": {},
   "source": [
    "查看前几条数据"
   ]
  },
  {
   "cell_type": "code",
   "execution_count": 13,
   "metadata": {},
   "outputs": [
    {
     "output_type": "execute_result",
     "data": {
      "text/plain": "                   A         B         C         D\n2019-01-01 -1.499328 -0.365037  1.022967 -0.619979\n2019-01-02 -0.470142 -0.489732 -0.921085 -0.209115\n2019-01-03 -1.938439  0.928511  0.702133  0.033485\n2019-01-04 -0.387314  0.752152  0.318888  0.041800\n2019-01-05  0.008920 -0.609312  0.856873  0.457907",
      "text/html": "<div>\n<style scoped>\n    .dataframe tbody tr th:only-of-type {\n        vertical-align: middle;\n    }\n\n    .dataframe tbody tr th {\n        vertical-align: top;\n    }\n\n    .dataframe thead th {\n        text-align: right;\n    }\n</style>\n<table border=\"1\" class=\"dataframe\">\n  <thead>\n    <tr style=\"text-align: right;\">\n      <th></th>\n      <th>A</th>\n      <th>B</th>\n      <th>C</th>\n      <th>D</th>\n    </tr>\n  </thead>\n  <tbody>\n    <tr>\n      <th>2019-01-01</th>\n      <td>-1.499328</td>\n      <td>-0.365037</td>\n      <td>1.022967</td>\n      <td>-0.619979</td>\n    </tr>\n    <tr>\n      <th>2019-01-02</th>\n      <td>-0.470142</td>\n      <td>-0.489732</td>\n      <td>-0.921085</td>\n      <td>-0.209115</td>\n    </tr>\n    <tr>\n      <th>2019-01-03</th>\n      <td>-1.938439</td>\n      <td>0.928511</td>\n      <td>0.702133</td>\n      <td>0.033485</td>\n    </tr>\n    <tr>\n      <th>2019-01-04</th>\n      <td>-0.387314</td>\n      <td>0.752152</td>\n      <td>0.318888</td>\n      <td>0.041800</td>\n    </tr>\n    <tr>\n      <th>2019-01-05</th>\n      <td>0.008920</td>\n      <td>-0.609312</td>\n      <td>0.856873</td>\n      <td>0.457907</td>\n    </tr>\n  </tbody>\n</table>\n</div>"
     },
     "metadata": {},
     "execution_count": 13
    }
   ],
   "source": [
    "df.head()"
   ]
  },
  {
   "cell_type": "markdown",
   "metadata": {},
   "source": [
    "查看后几条数据"
   ]
  },
  {
   "cell_type": "code",
   "execution_count": 12,
   "metadata": {},
   "outputs": [
    {
     "data": {
      "text/html": "<div>\n<style scoped>\n    .dataframe tbody tr th:only-of-type {\n        vertical-align: middle;\n    }\n\n    .dataframe tbody tr th {\n        vertical-align: top;\n    }\n\n    .dataframe thead th {\n        text-align: right;\n    }\n</style>\n<table border=\"1\" class=\"dataframe\">\n  <thead>\n    <tr style=\"text-align: right;\">\n      <th></th>\n      <th>A</th>\n      <th>B</th>\n      <th>C</th>\n      <th>D</th>\n    </tr>\n  </thead>\n  <tbody>\n    <tr>\n      <th>2019-01-02</th>\n      <td>1.029138</td>\n      <td>-1.177884</td>\n      <td>0.444500</td>\n      <td>2.922143</td>\n    </tr>\n    <tr>\n      <th>2019-01-03</th>\n      <td>0.725198</td>\n      <td>0.852252</td>\n      <td>0.860231</td>\n      <td>0.451974</td>\n    </tr>\n    <tr>\n      <th>2019-01-04</th>\n      <td>-0.343829</td>\n      <td>0.018926</td>\n      <td>-1.070405</td>\n      <td>0.513421</td>\n    </tr>\n    <tr>\n      <th>2019-01-05</th>\n      <td>-0.423083</td>\n      <td>-0.012015</td>\n      <td>0.883760</td>\n      <td>-1.161349</td>\n    </tr>\n    <tr>\n      <th>2019-01-06</th>\n      <td>-0.597239</td>\n      <td>0.399165</td>\n      <td>-0.412380</td>\n      <td>-1.991003</td>\n    </tr>\n  </tbody>\n</table>\n</div>",
      "text/plain": "                   A         B         C         D\n2019-01-02  1.029138 -1.177884  0.444500  2.922143\n2019-01-03  0.725198  0.852252  0.860231  0.451974\n2019-01-04 -0.343829  0.018926 -1.070405  0.513421\n2019-01-05 -0.423083 -0.012015  0.883760 -1.161349\n2019-01-06 -0.597239  0.399165 -0.412380 -1.991003"
     },
     "execution_count": 12,
     "metadata": {},
     "output_type": "execute_result"
    }
   ],
   "source": [
    "df.tail()"
   ]
  },
  {
   "cell_type": "code",
   "execution_count": 9,
   "metadata": {},
   "outputs": [
    {
     "data": {
      "text/plain": [
       "DatetimeIndex(['2013-01-01', '2013-01-02', '2013-01-03', '2013-01-04',\n",
       "               '2013-01-05', '2013-01-06'],\n",
       "              dtype='datetime64[ns]', freq='D')"
      ]
     },
     "execution_count": 9,
     "metadata": {},
     "output_type": "execute_result"
    }
   ],
   "source": [
    "df.index"
   ]
  },
  {
   "cell_type": "code",
   "execution_count": 13,
   "metadata": {},
   "outputs": [
    {
     "data": {
      "text/plain": "Index(['A', 'B', 'C', 'D'], dtype='object')"
     },
     "execution_count": 13,
     "metadata": {},
     "output_type": "execute_result"
    }
   ],
   "source": [
    "df.columns"
   ]
  },
  {
   "cell_type": "code",
   "execution_count": 14,
   "metadata": {},
   "outputs": [
    {
     "data": {
      "text/plain": "array([[-0.68559103, -0.64853555, -0.41307483,  0.92431697],\n       [ 1.02913753, -1.17788361,  0.44449979,  2.92214252],\n       [ 0.72519805,  0.85225215,  0.86023122,  0.4519736 ],\n       [-0.34382891,  0.01892585, -1.0704046 ,  0.51342125],\n       [-0.42308337, -0.01201461,  0.88376035, -1.16134857],\n       [-0.59723935,  0.39916499, -0.41237967, -1.99100338]])"
     },
     "execution_count": 14,
     "metadata": {},
     "output_type": "execute_result"
    }
   ],
   "source": [
    "df.values"
   ]
  },
  {
   "cell_type": "code",
   "execution_count": 15,
   "metadata": {},
   "outputs": [
    {
     "data": {
      "text/html": "<div>\n<style scoped>\n    .dataframe tbody tr th:only-of-type {\n        vertical-align: middle;\n    }\n\n    .dataframe tbody tr th {\n        vertical-align: top;\n    }\n\n    .dataframe thead th {\n        text-align: right;\n    }\n</style>\n<table border=\"1\" class=\"dataframe\">\n  <thead>\n    <tr style=\"text-align: right;\">\n      <th></th>\n      <th>A</th>\n      <th>B</th>\n      <th>C</th>\n      <th>D</th>\n    </tr>\n  </thead>\n  <tbody>\n    <tr>\n      <th>count</th>\n      <td>6.000000</td>\n      <td>6.000000</td>\n      <td>6.000000</td>\n      <td>6.000000</td>\n    </tr>\n    <tr>\n      <th>mean</th>\n      <td>-0.049235</td>\n      <td>-0.094682</td>\n      <td>0.048772</td>\n      <td>0.276584</td>\n    </tr>\n    <tr>\n      <th>std</th>\n      <td>0.734090</td>\n      <td>0.726690</td>\n      <td>0.798848</td>\n      <td>1.715517</td>\n    </tr>\n    <tr>\n      <th>min</th>\n      <td>-0.685591</td>\n      <td>-1.177884</td>\n      <td>-1.070405</td>\n      <td>-1.991003</td>\n    </tr>\n    <tr>\n      <th>25%</th>\n      <td>-0.553700</td>\n      <td>-0.489405</td>\n      <td>-0.412901</td>\n      <td>-0.758018</td>\n    </tr>\n    <tr>\n      <th>50%</th>\n      <td>-0.383456</td>\n      <td>0.003456</td>\n      <td>0.016060</td>\n      <td>0.482697</td>\n    </tr>\n    <tr>\n      <th>75%</th>\n      <td>0.457941</td>\n      <td>0.304105</td>\n      <td>0.756298</td>\n      <td>0.821593</td>\n    </tr>\n    <tr>\n      <th>max</th>\n      <td>1.029138</td>\n      <td>0.852252</td>\n      <td>0.883760</td>\n      <td>2.922143</td>\n    </tr>\n  </tbody>\n</table>\n</div>",
      "text/plain": "              A         B         C         D\ncount  6.000000  6.000000  6.000000  6.000000\nmean  -0.049235 -0.094682  0.048772  0.276584\nstd    0.734090  0.726690  0.798848  1.715517\nmin   -0.685591 -1.177884 -1.070405 -1.991003\n25%   -0.553700 -0.489405 -0.412901 -0.758018\n50%   -0.383456  0.003456  0.016060  0.482697\n75%    0.457941  0.304105  0.756298  0.821593\nmax    1.029138  0.852252  0.883760  2.922143"
     },
     "execution_count": 15,
     "metadata": {},
     "output_type": "execute_result"
    }
   ],
   "source": [
    "df.describe()"
   ]
  },
  {
   "cell_type": "code",
   "execution_count": 16,
   "metadata": {},
   "outputs": [
    {
     "data": {
      "text/html": "<div>\n<style scoped>\n    .dataframe tbody tr th:only-of-type {\n        vertical-align: middle;\n    }\n\n    .dataframe tbody tr th {\n        vertical-align: top;\n    }\n\n    .dataframe thead th {\n        text-align: right;\n    }\n</style>\n<table border=\"1\" class=\"dataframe\">\n  <thead>\n    <tr style=\"text-align: right;\">\n      <th></th>\n      <th>2019-01-01 00:00:00</th>\n      <th>2019-01-02 00:00:00</th>\n      <th>2019-01-03 00:00:00</th>\n      <th>2019-01-04 00:00:00</th>\n      <th>2019-01-05 00:00:00</th>\n      <th>2019-01-06 00:00:00</th>\n    </tr>\n  </thead>\n  <tbody>\n    <tr>\n      <th>A</th>\n      <td>-0.685591</td>\n      <td>1.029138</td>\n      <td>0.725198</td>\n      <td>-0.343829</td>\n      <td>-0.423083</td>\n      <td>-0.597239</td>\n    </tr>\n    <tr>\n      <th>B</th>\n      <td>-0.648536</td>\n      <td>-1.177884</td>\n      <td>0.852252</td>\n      <td>0.018926</td>\n      <td>-0.012015</td>\n      <td>0.399165</td>\n    </tr>\n    <tr>\n      <th>C</th>\n      <td>-0.413075</td>\n      <td>0.444500</td>\n      <td>0.860231</td>\n      <td>-1.070405</td>\n      <td>0.883760</td>\n      <td>-0.412380</td>\n    </tr>\n    <tr>\n      <th>D</th>\n      <td>0.924317</td>\n      <td>2.922143</td>\n      <td>0.451974</td>\n      <td>0.513421</td>\n      <td>-1.161349</td>\n      <td>-1.991003</td>\n    </tr>\n  </tbody>\n</table>\n</div>",
      "text/plain": "   2019-01-01  2019-01-02  2019-01-03  2019-01-04  2019-01-05  2019-01-06\nA   -0.685591    1.029138    0.725198   -0.343829   -0.423083   -0.597239\nB   -0.648536   -1.177884    0.852252    0.018926   -0.012015    0.399165\nC   -0.413075    0.444500    0.860231   -1.070405    0.883760   -0.412380\nD    0.924317    2.922143    0.451974    0.513421   -1.161349   -1.991003"
     },
     "execution_count": 16,
     "metadata": {},
     "output_type": "execute_result"
    }
   ],
   "source": [
    "df.T"
   ]
  },
  {
   "cell_type": "code",
   "execution_count": 14,
   "metadata": {},
   "outputs": [],
   "source": [
    "# df.sort removed\n",
    "#df.sort(columns='B')"
   ]
  },
  {
   "cell_type": "markdown",
   "metadata": {},
   "source": [
    "## 选择数据"
   ]
  },
  {
   "cell_type": "code",
   "execution_count": 17,
   "metadata": {},
   "outputs": [
    {
     "data": {
      "text/plain": "2019-01-01   -0.685591\n2019-01-02    1.029138\n2019-01-03    0.725198\n2019-01-04   -0.343829\n2019-01-05   -0.423083\n2019-01-06   -0.597239\nFreq: D, Name: A, dtype: float64"
     },
     "execution_count": 17,
     "metadata": {},
     "output_type": "execute_result"
    }
   ],
   "source": [
    "df['A']"
   ]
  },
  {
   "cell_type": "code",
   "execution_count": 18,
   "metadata": {},
   "outputs": [
    {
     "data": {
      "text/html": "<div>\n<style scoped>\n    .dataframe tbody tr th:only-of-type {\n        vertical-align: middle;\n    }\n\n    .dataframe tbody tr th {\n        vertical-align: top;\n    }\n\n    .dataframe thead th {\n        text-align: right;\n    }\n</style>\n<table border=\"1\" class=\"dataframe\">\n  <thead>\n    <tr style=\"text-align: right;\">\n      <th></th>\n      <th>A</th>\n      <th>B</th>\n      <th>C</th>\n      <th>D</th>\n    </tr>\n  </thead>\n  <tbody>\n    <tr>\n      <th>2019-01-01</th>\n      <td>-0.685591</td>\n      <td>-0.648536</td>\n      <td>-0.413075</td>\n      <td>0.924317</td>\n    </tr>\n    <tr>\n      <th>2019-01-02</th>\n      <td>1.029138</td>\n      <td>-1.177884</td>\n      <td>0.444500</td>\n      <td>2.922143</td>\n    </tr>\n    <tr>\n      <th>2019-01-03</th>\n      <td>0.725198</td>\n      <td>0.852252</td>\n      <td>0.860231</td>\n      <td>0.451974</td>\n    </tr>\n  </tbody>\n</table>\n</div>",
      "text/plain": "                   A         B         C         D\n2019-01-01 -0.685591 -0.648536 -0.413075  0.924317\n2019-01-02  1.029138 -1.177884  0.444500  2.922143\n2019-01-03  0.725198  0.852252  0.860231  0.451974"
     },
     "execution_count": 18,
     "metadata": {},
     "output_type": "execute_result"
    }
   ],
   "source": [
    "df[0:3]"
   ]
  },
  {
   "cell_type": "code",
   "execution_count": 19,
   "metadata": {},
   "outputs": [
    {
     "data": {
      "text/html": "<div>\n<style scoped>\n    .dataframe tbody tr th:only-of-type {\n        vertical-align: middle;\n    }\n\n    .dataframe tbody tr th {\n        vertical-align: top;\n    }\n\n    .dataframe thead th {\n        text-align: right;\n    }\n</style>\n<table border=\"1\" class=\"dataframe\">\n  <thead>\n    <tr style=\"text-align: right;\">\n      <th></th>\n      <th>A</th>\n      <th>B</th>\n      <th>C</th>\n      <th>D</th>\n    </tr>\n  </thead>\n  <tbody>\n    <tr>\n      <th>2019-01-04</th>\n      <td>-0.343829</td>\n      <td>0.018926</td>\n      <td>-1.070405</td>\n      <td>0.513421</td>\n    </tr>\n    <tr>\n      <th>2019-01-05</th>\n      <td>-0.423083</td>\n      <td>-0.012015</td>\n      <td>0.883760</td>\n      <td>-1.161349</td>\n    </tr>\n    <tr>\n      <th>2019-01-06</th>\n      <td>-0.597239</td>\n      <td>0.399165</td>\n      <td>-0.412380</td>\n      <td>-1.991003</td>\n    </tr>\n  </tbody>\n</table>\n</div>",
      "text/plain": "                   A         B         C         D\n2019-01-04 -0.343829  0.018926 -1.070405  0.513421\n2019-01-05 -0.423083 -0.012015  0.883760 -1.161349\n2019-01-06 -0.597239  0.399165 -0.412380 -1.991003"
     },
     "execution_count": 19,
     "metadata": {},
     "output_type": "execute_result"
    }
   ],
   "source": [
    "df['20190104':'20190106']"
   ]
  },
  {
   "cell_type": "code",
   "execution_count": 20,
   "metadata": {},
   "outputs": [
    {
     "data": {
      "text/plain": "A   -0.685591\nB   -0.648536\nC   -0.413075\nD    0.924317\nName: 2019-01-01 00:00:00, dtype: float64"
     },
     "execution_count": 20,
     "metadata": {},
     "output_type": "execute_result"
    }
   ],
   "source": [
    "df.loc[dates[0]]"
   ]
  },
  {
   "cell_type": "code",
   "execution_count": 21,
   "metadata": {},
   "outputs": [
    {
     "data": {
      "text/html": "<div>\n<style scoped>\n    .dataframe tbody tr th:only-of-type {\n        vertical-align: middle;\n    }\n\n    .dataframe tbody tr th {\n        vertical-align: top;\n    }\n\n    .dataframe thead th {\n        text-align: right;\n    }\n</style>\n<table border=\"1\" class=\"dataframe\">\n  <thead>\n    <tr style=\"text-align: right;\">\n      <th></th>\n      <th>A</th>\n      <th>B</th>\n    </tr>\n  </thead>\n  <tbody>\n    <tr>\n      <th>2019-01-01</th>\n      <td>-0.685591</td>\n      <td>-0.648536</td>\n    </tr>\n    <tr>\n      <th>2019-01-02</th>\n      <td>1.029138</td>\n      <td>-1.177884</td>\n    </tr>\n    <tr>\n      <th>2019-01-03</th>\n      <td>0.725198</td>\n      <td>0.852252</td>\n    </tr>\n    <tr>\n      <th>2019-01-04</th>\n      <td>-0.343829</td>\n      <td>0.018926</td>\n    </tr>\n    <tr>\n      <th>2019-01-05</th>\n      <td>-0.423083</td>\n      <td>-0.012015</td>\n    </tr>\n    <tr>\n      <th>2019-01-06</th>\n      <td>-0.597239</td>\n      <td>0.399165</td>\n    </tr>\n  </tbody>\n</table>\n</div>",
      "text/plain": "                   A         B\n2019-01-01 -0.685591 -0.648536\n2019-01-02  1.029138 -1.177884\n2019-01-03  0.725198  0.852252\n2019-01-04 -0.343829  0.018926\n2019-01-05 -0.423083 -0.012015\n2019-01-06 -0.597239  0.399165"
     },
     "execution_count": 21,
     "metadata": {},
     "output_type": "execute_result"
    }
   ],
   "source": [
    "df.loc[:,['A','B']]"
   ]
  },
  {
   "cell_type": "code",
   "execution_count": 20,
   "metadata": {},
   "outputs": [
    {
     "data": {
      "text/html": [
       "<div>\n",
       "<style>\n",
       "    .dataframe thead tr:only-child th {\n",
       "        text-align: right;\n",
       "    }\n",
       "\n",
       "    .dataframe thead th {\n",
       "        text-align: left;\n",
       "    }\n",
       "\n",
       "    .dataframe tbody tr th {\n",
       "        vertical-align: top;\n",
       "    }\n",
       "</style>\n",
       "<table border=\"1\" class=\"dataframe\">\n",
       "  <thead>\n",
       "    <tr style=\"text-align: right;\">\n",
       "      <th></th>\n",
       "      <th>A</th>\n",
       "      <th>B</th>\n",
       "    </tr>\n",
       "  </thead>\n",
       "  <tbody>\n",
       "    <tr>\n",
       "      <th>2013-01-01</th>\n",
       "      <td>-1.290152</td>\n",
       "      <td>-1.284711</td>\n",
       "    </tr>\n",
       "    <tr>\n",
       "      <th>2013-01-02</th>\n",
       "      <td>0.190730</td>\n",
       "      <td>-0.016160</td>\n",
       "    </tr>\n",
       "    <tr>\n",
       "      <th>2013-01-03</th>\n",
       "      <td>-1.026162</td>\n",
       "      <td>0.463271</td>\n",
       "    </tr>\n",
       "  </tbody>\n",
       "</table>\n",
       "</div>"
      ],
      "text/plain": [
       "                   A         B\n",
       "2013-01-01 -1.290152 -1.284711\n",
       "2013-01-02  0.190730 -0.016160\n",
       "2013-01-03 -1.026162  0.463271"
      ]
     },
     "execution_count": 20,
     "metadata": {},
     "output_type": "execute_result"
    }
   ],
   "source": [
    "df.loc['20190101':'20190103','A':'B']"
   ]
  },
  {
   "cell_type": "code",
   "execution_count": 21,
   "metadata": {},
   "outputs": [
    {
     "data": {
      "text/plain": [
       "A   -1.290152\n",
       "B   -1.284711\n",
       "Name: 2013-01-01 00:00:00, dtype: float64"
      ]
     },
     "execution_count": 21,
     "metadata": {},
     "output_type": "execute_result"
    }
   ],
   "source": [
    "df.loc['20190101','A':'B']"
   ]
  },
  {
   "cell_type": "code",
   "execution_count": 22,
   "metadata": {},
   "outputs": [
    {
     "data": {
      "text/plain": [
       "-1.2901518173417785"
      ]
     },
     "execution_count": 22,
     "metadata": {},
     "output_type": "execute_result"
    }
   ],
   "source": [
    "df.loc[dates[0],'A']"
   ]
  },
  {
   "cell_type": "code",
   "execution_count": 23,
   "metadata": {},
   "outputs": [
    {
     "data": {
      "text/plain": [
       "-1.2901518173417785"
      ]
     },
     "execution_count": 23,
     "metadata": {},
     "output_type": "execute_result"
    }
   ],
   "source": [
    "df.at[dates[0],'A']"
   ]
  },
  {
   "cell_type": "code",
   "execution_count": 24,
   "metadata": {},
   "outputs": [
    {
     "data": {
      "text/plain": [
       "A   -0.198799\n",
       "B   -0.275693\n",
       "C    0.006771\n",
       "D   -0.103106\n",
       "Name: 2013-01-04 00:00:00, dtype: float64"
      ]
     },
     "execution_count": 24,
     "metadata": {},
     "output_type": "execute_result"
    }
   ],
   "source": [
    "df.iloc[3]"
   ]
  },
  {
   "cell_type": "code",
   "execution_count": 25,
   "metadata": {},
   "outputs": [
    {
     "data": {
      "text/html": [
       "<div>\n",
       "<style>\n",
       "    .dataframe thead tr:only-child th {\n",
       "        text-align: right;\n",
       "    }\n",
       "\n",
       "    .dataframe thead th {\n",
       "        text-align: left;\n",
       "    }\n",
       "\n",
       "    .dataframe tbody tr th {\n",
       "        vertical-align: top;\n",
       "    }\n",
       "</style>\n",
       "<table border=\"1\" class=\"dataframe\">\n",
       "  <thead>\n",
       "    <tr style=\"text-align: right;\">\n",
       "      <th></th>\n",
       "      <th>A</th>\n",
       "      <th>B</th>\n",
       "    </tr>\n",
       "  </thead>\n",
       "  <tbody>\n",
       "    <tr>\n",
       "      <th>2013-01-04</th>\n",
       "      <td>-0.198799</td>\n",
       "      <td>-0.275693</td>\n",
       "    </tr>\n",
       "    <tr>\n",
       "      <th>2013-01-05</th>\n",
       "      <td>0.630479</td>\n",
       "      <td>-0.174670</td>\n",
       "    </tr>\n",
       "  </tbody>\n",
       "</table>\n",
       "</div>"
      ],
      "text/plain": [
       "                   A         B\n",
       "2013-01-04 -0.198799 -0.275693\n",
       "2013-01-05  0.630479 -0.174670"
      ]
     },
     "execution_count": 25,
     "metadata": {},
     "output_type": "execute_result"
    }
   ],
   "source": [
    "df.iloc[3:5,0:2]"
   ]
  },
  {
   "cell_type": "code",
   "execution_count": 26,
   "metadata": {},
   "outputs": [
    {
     "data": {
      "text/html": [
       "<div>\n",
       "<style>\n",
       "    .dataframe thead tr:only-child th {\n",
       "        text-align: right;\n",
       "    }\n",
       "\n",
       "    .dataframe thead th {\n",
       "        text-align: left;\n",
       "    }\n",
       "\n",
       "    .dataframe tbody tr th {\n",
       "        vertical-align: top;\n",
       "    }\n",
       "</style>\n",
       "<table border=\"1\" class=\"dataframe\">\n",
       "  <thead>\n",
       "    <tr style=\"text-align: right;\">\n",
       "      <th></th>\n",
       "      <th>A</th>\n",
       "      <th>C</th>\n",
       "    </tr>\n",
       "  </thead>\n",
       "  <tbody>\n",
       "    <tr>\n",
       "      <th>2013-01-02</th>\n",
       "      <td>0.190730</td>\n",
       "      <td>-1.401204</td>\n",
       "    </tr>\n",
       "    <tr>\n",
       "      <th>2013-01-03</th>\n",
       "      <td>-1.026162</td>\n",
       "      <td>-1.506031</td>\n",
       "    </tr>\n",
       "    <tr>\n",
       "      <th>2013-01-05</th>\n",
       "      <td>0.630479</td>\n",
       "      <td>-1.938372</td>\n",
       "    </tr>\n",
       "  </tbody>\n",
       "</table>\n",
       "</div>"
      ],
      "text/plain": [
       "                   A         C\n",
       "2013-01-02  0.190730 -1.401204\n",
       "2013-01-03 -1.026162 -1.506031\n",
       "2013-01-05  0.630479 -1.938372"
      ]
     },
     "execution_count": 26,
     "metadata": {},
     "output_type": "execute_result"
    }
   ],
   "source": [
    "df.iloc[[1,2,4],[0,2]]"
   ]
  },
  {
   "cell_type": "code",
   "execution_count": 27,
   "metadata": {},
   "outputs": [
    {
     "data": {
      "text/html": [
       "<div>\n",
       "<style>\n",
       "    .dataframe thead tr:only-child th {\n",
       "        text-align: right;\n",
       "    }\n",
       "\n",
       "    .dataframe thead th {\n",
       "        text-align: left;\n",
       "    }\n",
       "\n",
       "    .dataframe tbody tr th {\n",
       "        vertical-align: top;\n",
       "    }\n",
       "</style>\n",
       "<table border=\"1\" class=\"dataframe\">\n",
       "  <thead>\n",
       "    <tr style=\"text-align: right;\">\n",
       "      <th></th>\n",
       "      <th>A</th>\n",
       "      <th>B</th>\n",
       "      <th>C</th>\n",
       "      <th>D</th>\n",
       "    </tr>\n",
       "  </thead>\n",
       "  <tbody>\n",
       "    <tr>\n",
       "      <th>2013-01-02</th>\n",
       "      <td>0.190730</td>\n",
       "      <td>-0.016160</td>\n",
       "      <td>-1.401204</td>\n",
       "      <td>-0.763948</td>\n",
       "    </tr>\n",
       "    <tr>\n",
       "      <th>2013-01-03</th>\n",
       "      <td>-1.026162</td>\n",
       "      <td>0.463271</td>\n",
       "      <td>-1.506031</td>\n",
       "      <td>0.346041</td>\n",
       "    </tr>\n",
       "  </tbody>\n",
       "</table>\n",
       "</div>"
      ],
      "text/plain": [
       "                   A         B         C         D\n",
       "2013-01-02  0.190730 -0.016160 -1.401204 -0.763948\n",
       "2013-01-03 -1.026162  0.463271 -1.506031  0.346041"
      ]
     },
     "execution_count": 27,
     "metadata": {},
     "output_type": "execute_result"
    }
   ],
   "source": [
    "df.iloc[1:3,:]"
   ]
  },
  {
   "cell_type": "code",
   "execution_count": 28,
   "metadata": {},
   "outputs": [
    {
     "data": {
      "text/html": [
       "<div>\n",
       "<style>\n",
       "    .dataframe thead tr:only-child th {\n",
       "        text-align: right;\n",
       "    }\n",
       "\n",
       "    .dataframe thead th {\n",
       "        text-align: left;\n",
       "    }\n",
       "\n",
       "    .dataframe tbody tr th {\n",
       "        vertical-align: top;\n",
       "    }\n",
       "</style>\n",
       "<table border=\"1\" class=\"dataframe\">\n",
       "  <thead>\n",
       "    <tr style=\"text-align: right;\">\n",
       "      <th></th>\n",
       "      <th>B</th>\n",
       "      <th>C</th>\n",
       "    </tr>\n",
       "  </thead>\n",
       "  <tbody>\n",
       "    <tr>\n",
       "      <th>2013-01-01</th>\n",
       "      <td>-1.284711</td>\n",
       "      <td>0.305865</td>\n",
       "    </tr>\n",
       "    <tr>\n",
       "      <th>2013-01-02</th>\n",
       "      <td>-0.016160</td>\n",
       "      <td>-1.401204</td>\n",
       "    </tr>\n",
       "    <tr>\n",
       "      <th>2013-01-03</th>\n",
       "      <td>0.463271</td>\n",
       "      <td>-1.506031</td>\n",
       "    </tr>\n",
       "    <tr>\n",
       "      <th>2013-01-04</th>\n",
       "      <td>-0.275693</td>\n",
       "      <td>0.006771</td>\n",
       "    </tr>\n",
       "    <tr>\n",
       "      <th>2013-01-05</th>\n",
       "      <td>-0.174670</td>\n",
       "      <td>-1.938372</td>\n",
       "    </tr>\n",
       "    <tr>\n",
       "      <th>2013-01-06</th>\n",
       "      <td>3.614363</td>\n",
       "      <td>1.706878</td>\n",
       "    </tr>\n",
       "  </tbody>\n",
       "</table>\n",
       "</div>"
      ],
      "text/plain": [
       "                   B         C\n",
       "2013-01-01 -1.284711  0.305865\n",
       "2013-01-02 -0.016160 -1.401204\n",
       "2013-01-03  0.463271 -1.506031\n",
       "2013-01-04 -0.275693  0.006771\n",
       "2013-01-05 -0.174670 -1.938372\n",
       "2013-01-06  3.614363  1.706878"
      ]
     },
     "execution_count": 28,
     "metadata": {},
     "output_type": "execute_result"
    }
   ],
   "source": [
    "df.iloc[:,1:3]"
   ]
  },
  {
   "cell_type": "code",
   "execution_count": 29,
   "metadata": {},
   "outputs": [
    {
     "data": {
      "text/plain": [
       "-0.016159972797852588"
      ]
     },
     "execution_count": 29,
     "metadata": {},
     "output_type": "execute_result"
    }
   ],
   "source": [
    "df.iloc[1,1]"
   ]
  },
  {
   "cell_type": "code",
   "execution_count": 30,
   "metadata": {},
   "outputs": [
    {
     "data": {
      "text/html": [
       "<div>\n",
       "<style>\n",
       "    .dataframe thead tr:only-child th {\n",
       "        text-align: right;\n",
       "    }\n",
       "\n",
       "    .dataframe thead th {\n",
       "        text-align: left;\n",
       "    }\n",
       "\n",
       "    .dataframe tbody tr th {\n",
       "        vertical-align: top;\n",
       "    }\n",
       "</style>\n",
       "<table border=\"1\" class=\"dataframe\">\n",
       "  <thead>\n",
       "    <tr style=\"text-align: right;\">\n",
       "      <th></th>\n",
       "      <th>A</th>\n",
       "      <th>B</th>\n",
       "      <th>C</th>\n",
       "      <th>D</th>\n",
       "    </tr>\n",
       "  </thead>\n",
       "  <tbody>\n",
       "    <tr>\n",
       "      <th>2013-01-02</th>\n",
       "      <td>0.190730</td>\n",
       "      <td>-0.016160</td>\n",
       "      <td>-1.401204</td>\n",
       "      <td>-0.763948</td>\n",
       "    </tr>\n",
       "    <tr>\n",
       "      <th>2013-01-05</th>\n",
       "      <td>0.630479</td>\n",
       "      <td>-0.174670</td>\n",
       "      <td>-1.938372</td>\n",
       "      <td>0.612056</td>\n",
       "    </tr>\n",
       "    <tr>\n",
       "      <th>2013-01-06</th>\n",
       "      <td>1.341044</td>\n",
       "      <td>3.614363</td>\n",
       "      <td>1.706878</td>\n",
       "      <td>0.334069</td>\n",
       "    </tr>\n",
       "  </tbody>\n",
       "</table>\n",
       "</div>"
      ],
      "text/plain": [
       "                   A         B         C         D\n",
       "2013-01-02  0.190730 -0.016160 -1.401204 -0.763948\n",
       "2013-01-05  0.630479 -0.174670 -1.938372  0.612056\n",
       "2013-01-06  1.341044  3.614363  1.706878  0.334069"
      ]
     },
     "execution_count": 30,
     "metadata": {},
     "output_type": "execute_result"
    }
   ],
   "source": [
    "df[df.A>0]"
   ]
  },
  {
   "cell_type": "code",
   "execution_count": 31,
   "metadata": {},
   "outputs": [
    {
     "data": {
      "text/html": [
       "<div>\n",
       "<style>\n",
       "    .dataframe thead tr:only-child th {\n",
       "        text-align: right;\n",
       "    }\n",
       "\n",
       "    .dataframe thead th {\n",
       "        text-align: left;\n",
       "    }\n",
       "\n",
       "    .dataframe tbody tr th {\n",
       "        vertical-align: top;\n",
       "    }\n",
       "</style>\n",
       "<table border=\"1\" class=\"dataframe\">\n",
       "  <thead>\n",
       "    <tr style=\"text-align: right;\">\n",
       "      <th></th>\n",
       "      <th>A</th>\n",
       "      <th>B</th>\n",
       "      <th>C</th>\n",
       "      <th>D</th>\n",
       "    </tr>\n",
       "  </thead>\n",
       "  <tbody>\n",
       "    <tr>\n",
       "      <th>2013-01-01</th>\n",
       "      <td>NaN</td>\n",
       "      <td>NaN</td>\n",
       "      <td>0.305865</td>\n",
       "      <td>0.253011</td>\n",
       "    </tr>\n",
       "    <tr>\n",
       "      <th>2013-01-02</th>\n",
       "      <td>0.190730</td>\n",
       "      <td>NaN</td>\n",
       "      <td>NaN</td>\n",
       "      <td>NaN</td>\n",
       "    </tr>\n",
       "    <tr>\n",
       "      <th>2013-01-03</th>\n",
       "      <td>NaN</td>\n",
       "      <td>0.463271</td>\n",
       "      <td>NaN</td>\n",
       "      <td>0.346041</td>\n",
       "    </tr>\n",
       "    <tr>\n",
       "      <th>2013-01-04</th>\n",
       "      <td>NaN</td>\n",
       "      <td>NaN</td>\n",
       "      <td>0.006771</td>\n",
       "      <td>NaN</td>\n",
       "    </tr>\n",
       "    <tr>\n",
       "      <th>2013-01-05</th>\n",
       "      <td>0.630479</td>\n",
       "      <td>NaN</td>\n",
       "      <td>NaN</td>\n",
       "      <td>0.612056</td>\n",
       "    </tr>\n",
       "    <tr>\n",
       "      <th>2013-01-06</th>\n",
       "      <td>1.341044</td>\n",
       "      <td>3.614363</td>\n",
       "      <td>1.706878</td>\n",
       "      <td>0.334069</td>\n",
       "    </tr>\n",
       "  </tbody>\n",
       "</table>\n",
       "</div>"
      ],
      "text/plain": [
       "                   A         B         C         D\n",
       "2013-01-01       NaN       NaN  0.305865  0.253011\n",
       "2013-01-02  0.190730       NaN       NaN       NaN\n",
       "2013-01-03       NaN  0.463271       NaN  0.346041\n",
       "2013-01-04       NaN       NaN  0.006771       NaN\n",
       "2013-01-05  0.630479       NaN       NaN  0.612056\n",
       "2013-01-06  1.341044  3.614363  1.706878  0.334069"
      ]
     },
     "execution_count": 31,
     "metadata": {},
     "output_type": "execute_result"
    }
   ],
   "source": [
    "df[df>0]"
   ]
  },
  {
   "cell_type": "code",
   "execution_count": 32,
   "metadata": {},
   "outputs": [
    {
     "data": {
      "text/html": [
       "<div>\n",
       "<style>\n",
       "    .dataframe thead tr:only-child th {\n",
       "        text-align: right;\n",
       "    }\n",
       "\n",
       "    .dataframe thead th {\n",
       "        text-align: left;\n",
       "    }\n",
       "\n",
       "    .dataframe tbody tr th {\n",
       "        vertical-align: top;\n",
       "    }\n",
       "</style>\n",
       "<table border=\"1\" class=\"dataframe\">\n",
       "  <thead>\n",
       "    <tr style=\"text-align: right;\">\n",
       "      <th></th>\n",
       "      <th>A</th>\n",
       "      <th>B</th>\n",
       "      <th>C</th>\n",
       "      <th>D</th>\n",
       "      <th>E</th>\n",
       "    </tr>\n",
       "  </thead>\n",
       "  <tbody>\n",
       "    <tr>\n",
       "      <th>2013-01-01</th>\n",
       "      <td>-1.290152</td>\n",
       "      <td>-1.284711</td>\n",
       "      <td>0.305865</td>\n",
       "      <td>0.253011</td>\n",
       "      <td>one</td>\n",
       "    </tr>\n",
       "    <tr>\n",
       "      <th>2013-01-02</th>\n",
       "      <td>0.190730</td>\n",
       "      <td>-0.016160</td>\n",
       "      <td>-1.401204</td>\n",
       "      <td>-0.763948</td>\n",
       "      <td>one</td>\n",
       "    </tr>\n",
       "    <tr>\n",
       "      <th>2013-01-03</th>\n",
       "      <td>-1.026162</td>\n",
       "      <td>0.463271</td>\n",
       "      <td>-1.506031</td>\n",
       "      <td>0.346041</td>\n",
       "      <td>two</td>\n",
       "    </tr>\n",
       "    <tr>\n",
       "      <th>2013-01-04</th>\n",
       "      <td>-0.198799</td>\n",
       "      <td>-0.275693</td>\n",
       "      <td>0.006771</td>\n",
       "      <td>-0.103106</td>\n",
       "      <td>three</td>\n",
       "    </tr>\n",
       "    <tr>\n",
       "      <th>2013-01-05</th>\n",
       "      <td>0.630479</td>\n",
       "      <td>-0.174670</td>\n",
       "      <td>-1.938372</td>\n",
       "      <td>0.612056</td>\n",
       "      <td>four</td>\n",
       "    </tr>\n",
       "    <tr>\n",
       "      <th>2013-01-06</th>\n",
       "      <td>1.341044</td>\n",
       "      <td>3.614363</td>\n",
       "      <td>1.706878</td>\n",
       "      <td>0.334069</td>\n",
       "      <td>three</td>\n",
       "    </tr>\n",
       "  </tbody>\n",
       "</table>\n",
       "</div>"
      ],
      "text/plain": [
       "                   A         B         C         D      E\n",
       "2013-01-01 -1.290152 -1.284711  0.305865  0.253011    one\n",
       "2013-01-02  0.190730 -0.016160 -1.401204 -0.763948    one\n",
       "2013-01-03 -1.026162  0.463271 -1.506031  0.346041    two\n",
       "2013-01-04 -0.198799 -0.275693  0.006771 -0.103106  three\n",
       "2013-01-05  0.630479 -0.174670 -1.938372  0.612056   four\n",
       "2013-01-06  1.341044  3.614363  1.706878  0.334069  three"
      ]
     },
     "execution_count": 32,
     "metadata": {},
     "output_type": "execute_result"
    }
   ],
   "source": [
    "df2=df.copy()\n",
    "\n",
    "df2['E']=['one', 'one','two','three','four','three']\n",
    "\n",
    "df2"
   ]
  },
  {
   "cell_type": "code",
   "execution_count": 33,
   "metadata": {},
   "outputs": [
    {
     "data": {
      "text/html": [
       "<div>\n",
       "<style>\n",
       "    .dataframe thead tr:only-child th {\n",
       "        text-align: right;\n",
       "    }\n",
       "\n",
       "    .dataframe thead th {\n",
       "        text-align: left;\n",
       "    }\n",
       "\n",
       "    .dataframe tbody tr th {\n",
       "        vertical-align: top;\n",
       "    }\n",
       "</style>\n",
       "<table border=\"1\" class=\"dataframe\">\n",
       "  <thead>\n",
       "    <tr style=\"text-align: right;\">\n",
       "      <th></th>\n",
       "      <th>A</th>\n",
       "      <th>B</th>\n",
       "      <th>C</th>\n",
       "      <th>D</th>\n",
       "      <th>E</th>\n",
       "    </tr>\n",
       "  </thead>\n",
       "  <tbody>\n",
       "    <tr>\n",
       "      <th>2013-01-03</th>\n",
       "      <td>-1.026162</td>\n",
       "      <td>0.463271</td>\n",
       "      <td>-1.506031</td>\n",
       "      <td>0.346041</td>\n",
       "      <td>two</td>\n",
       "    </tr>\n",
       "    <tr>\n",
       "      <th>2013-01-05</th>\n",
       "      <td>0.630479</td>\n",
       "      <td>-0.174670</td>\n",
       "      <td>-1.938372</td>\n",
       "      <td>0.612056</td>\n",
       "      <td>four</td>\n",
       "    </tr>\n",
       "  </tbody>\n",
       "</table>\n",
       "</div>"
      ],
      "text/plain": [
       "                   A         B         C         D     E\n",
       "2013-01-03 -1.026162  0.463271 -1.506031  0.346041   two\n",
       "2013-01-05  0.630479 -0.174670 -1.938372  0.612056  four"
      ]
     },
     "execution_count": 33,
     "metadata": {},
     "output_type": "execute_result"
    }
   ],
   "source": [
    "df2[df2['E'].isin(['two','four'])]"
   ]
  },
  {
   "cell_type": "code",
   "execution_count": 34,
   "metadata": {},
   "outputs": [
    {
     "data": {
      "text/plain": [
       "2013-01-02    1\n",
       "2013-01-03    2\n",
       "2013-01-04    3\n",
       "2013-01-05    4\n",
       "2013-01-06    5\n",
       "2013-01-07    6\n",
       "Freq: D, dtype: int64"
      ]
     },
     "execution_count": 34,
     "metadata": {},
     "output_type": "execute_result"
    }
   ],
   "source": [
    "s1 = pd.Series([1,2,3,4,5,6],index=pd.date_range('20190102',periods=6))\n",
    "\n",
    "s1"
   ]
  },
  {
   "cell_type": "code",
   "execution_count": 35,
   "metadata": {},
   "outputs": [],
   "source": [
    "df['F'] = s1"
   ]
  },
  {
   "cell_type": "code",
   "execution_count": 36,
   "metadata": {},
   "outputs": [],
   "source": [
    "df.at[dates[0],'A'] = 0"
   ]
  },
  {
   "cell_type": "code",
   "execution_count": 37,
   "metadata": {},
   "outputs": [],
   "source": [
    "df.iat[0,1] = 0"
   ]
  },
  {
   "cell_type": "code",
   "execution_count": 38,
   "metadata": {},
   "outputs": [],
   "source": [
    "df.loc[:,'D'] = np.array([5] * len(df))"
   ]
  },
  {
   "cell_type": "code",
   "execution_count": 39,
   "metadata": {},
   "outputs": [
    {
     "data": {
      "text/html": [
       "<div>\n",
       "<style>\n",
       "    .dataframe thead tr:only-child th {\n",
       "        text-align: right;\n",
       "    }\n",
       "\n",
       "    .dataframe thead th {\n",
       "        text-align: left;\n",
       "    }\n",
       "\n",
       "    .dataframe tbody tr th {\n",
       "        vertical-align: top;\n",
       "    }\n",
       "</style>\n",
       "<table border=\"1\" class=\"dataframe\">\n",
       "  <thead>\n",
       "    <tr style=\"text-align: right;\">\n",
       "      <th></th>\n",
       "      <th>A</th>\n",
       "      <th>B</th>\n",
       "      <th>C</th>\n",
       "      <th>D</th>\n",
       "      <th>F</th>\n",
       "    </tr>\n",
       "  </thead>\n",
       "  <tbody>\n",
       "    <tr>\n",
       "      <th>2013-01-01</th>\n",
       "      <td>0.000000</td>\n",
       "      <td>0.000000</td>\n",
       "      <td>0.305865</td>\n",
       "      <td>5</td>\n",
       "      <td>NaN</td>\n",
       "    </tr>\n",
       "    <tr>\n",
       "      <th>2013-01-02</th>\n",
       "      <td>0.190730</td>\n",
       "      <td>-0.016160</td>\n",
       "      <td>-1.401204</td>\n",
       "      <td>5</td>\n",
       "      <td>1.0</td>\n",
       "    </tr>\n",
       "    <tr>\n",
       "      <th>2013-01-03</th>\n",
       "      <td>-1.026162</td>\n",
       "      <td>0.463271</td>\n",
       "      <td>-1.506031</td>\n",
       "      <td>5</td>\n",
       "      <td>2.0</td>\n",
       "    </tr>\n",
       "    <tr>\n",
       "      <th>2013-01-04</th>\n",
       "      <td>-0.198799</td>\n",
       "      <td>-0.275693</td>\n",
       "      <td>0.006771</td>\n",
       "      <td>5</td>\n",
       "      <td>3.0</td>\n",
       "    </tr>\n",
       "    <tr>\n",
       "      <th>2013-01-05</th>\n",
       "      <td>0.630479</td>\n",
       "      <td>-0.174670</td>\n",
       "      <td>-1.938372</td>\n",
       "      <td>5</td>\n",
       "      <td>4.0</td>\n",
       "    </tr>\n",
       "    <tr>\n",
       "      <th>2013-01-06</th>\n",
       "      <td>1.341044</td>\n",
       "      <td>3.614363</td>\n",
       "      <td>1.706878</td>\n",
       "      <td>5</td>\n",
       "      <td>5.0</td>\n",
       "    </tr>\n",
       "  </tbody>\n",
       "</table>\n",
       "</div>"
      ],
      "text/plain": [
       "                   A         B         C  D    F\n",
       "2013-01-01  0.000000  0.000000  0.305865  5  NaN\n",
       "2013-01-02  0.190730 -0.016160 -1.401204  5  1.0\n",
       "2013-01-03 -1.026162  0.463271 -1.506031  5  2.0\n",
       "2013-01-04 -0.198799 -0.275693  0.006771  5  3.0\n",
       "2013-01-05  0.630479 -0.174670 -1.938372  5  4.0\n",
       "2013-01-06  1.341044  3.614363  1.706878  5  5.0"
      ]
     },
     "execution_count": 39,
     "metadata": {},
     "output_type": "execute_result"
    }
   ],
   "source": [
    "df"
   ]
  },
  {
   "cell_type": "code",
   "execution_count": 40,
   "metadata": {},
   "outputs": [
    {
     "data": {
      "text/html": [
       "<div>\n",
       "<style>\n",
       "    .dataframe thead tr:only-child th {\n",
       "        text-align: right;\n",
       "    }\n",
       "\n",
       "    .dataframe thead th {\n",
       "        text-align: left;\n",
       "    }\n",
       "\n",
       "    .dataframe tbody tr th {\n",
       "        vertical-align: top;\n",
       "    }\n",
       "</style>\n",
       "<table border=\"1\" class=\"dataframe\">\n",
       "  <thead>\n",
       "    <tr style=\"text-align: right;\">\n",
       "      <th></th>\n",
       "      <th>A</th>\n",
       "      <th>B</th>\n",
       "      <th>C</th>\n",
       "      <th>D</th>\n",
       "      <th>F</th>\n",
       "    </tr>\n",
       "  </thead>\n",
       "  <tbody>\n",
       "    <tr>\n",
       "      <th>2013-01-01</th>\n",
       "      <td>0.000000</td>\n",
       "      <td>0.000000</td>\n",
       "      <td>-0.305865</td>\n",
       "      <td>-5</td>\n",
       "      <td>NaN</td>\n",
       "    </tr>\n",
       "    <tr>\n",
       "      <th>2013-01-02</th>\n",
       "      <td>-0.190730</td>\n",
       "      <td>-0.016160</td>\n",
       "      <td>-1.401204</td>\n",
       "      <td>-5</td>\n",
       "      <td>-1.0</td>\n",
       "    </tr>\n",
       "    <tr>\n",
       "      <th>2013-01-03</th>\n",
       "      <td>-1.026162</td>\n",
       "      <td>-0.463271</td>\n",
       "      <td>-1.506031</td>\n",
       "      <td>-5</td>\n",
       "      <td>-2.0</td>\n",
       "    </tr>\n",
       "    <tr>\n",
       "      <th>2013-01-04</th>\n",
       "      <td>-0.198799</td>\n",
       "      <td>-0.275693</td>\n",
       "      <td>-0.006771</td>\n",
       "      <td>-5</td>\n",
       "      <td>-3.0</td>\n",
       "    </tr>\n",
       "    <tr>\n",
       "      <th>2013-01-05</th>\n",
       "      <td>-0.630479</td>\n",
       "      <td>-0.174670</td>\n",
       "      <td>-1.938372</td>\n",
       "      <td>-5</td>\n",
       "      <td>-4.0</td>\n",
       "    </tr>\n",
       "    <tr>\n",
       "      <th>2013-01-06</th>\n",
       "      <td>-1.341044</td>\n",
       "      <td>-3.614363</td>\n",
       "      <td>-1.706878</td>\n",
       "      <td>-5</td>\n",
       "      <td>-5.0</td>\n",
       "    </tr>\n",
       "  </tbody>\n",
       "</table>\n",
       "</div>"
      ],
      "text/plain": [
       "                   A         B         C  D    F\n",
       "2013-01-01  0.000000  0.000000 -0.305865 -5  NaN\n",
       "2013-01-02 -0.190730 -0.016160 -1.401204 -5 -1.0\n",
       "2013-01-03 -1.026162 -0.463271 -1.506031 -5 -2.0\n",
       "2013-01-04 -0.198799 -0.275693 -0.006771 -5 -3.0\n",
       "2013-01-05 -0.630479 -0.174670 -1.938372 -5 -4.0\n",
       "2013-01-06 -1.341044 -3.614363 -1.706878 -5 -5.0"
      ]
     },
     "execution_count": 40,
     "metadata": {},
     "output_type": "execute_result"
    }
   ],
   "source": [
    "df2 = df.copy()\n",
    "\n",
    "df2[df2 > 0] = -df2\n",
    "\n",
    "df2"
   ]
  },
  {
   "cell_type": "markdown",
   "metadata": {},
   "source": [
    "## 缺失数据"
   ]
  },
  {
   "cell_type": "markdown",
   "metadata": {},
   "source": [
    "缺失数据使用np.nan表示，默认不包括在计算内，可以通过下列方法更改缺失数据。"
   ]
  },
  {
   "cell_type": "code",
   "execution_count": 41,
   "metadata": {},
   "outputs": [
    {
     "data": {
      "text/html": [
       "<div>\n",
       "<style>\n",
       "    .dataframe thead tr:only-child th {\n",
       "        text-align: right;\n",
       "    }\n",
       "\n",
       "    .dataframe thead th {\n",
       "        text-align: left;\n",
       "    }\n",
       "\n",
       "    .dataframe tbody tr th {\n",
       "        vertical-align: top;\n",
       "    }\n",
       "</style>\n",
       "<table border=\"1\" class=\"dataframe\">\n",
       "  <thead>\n",
       "    <tr style=\"text-align: right;\">\n",
       "      <th></th>\n",
       "      <th>A</th>\n",
       "      <th>B</th>\n",
       "      <th>C</th>\n",
       "      <th>D</th>\n",
       "      <th>F</th>\n",
       "      <th>E</th>\n",
       "    </tr>\n",
       "  </thead>\n",
       "  <tbody>\n",
       "    <tr>\n",
       "      <th>2013-01-01</th>\n",
       "      <td>0.000000</td>\n",
       "      <td>0.000000</td>\n",
       "      <td>0.305865</td>\n",
       "      <td>5</td>\n",
       "      <td>NaN</td>\n",
       "      <td>1.0</td>\n",
       "    </tr>\n",
       "    <tr>\n",
       "      <th>2013-01-02</th>\n",
       "      <td>0.190730</td>\n",
       "      <td>-0.016160</td>\n",
       "      <td>-1.401204</td>\n",
       "      <td>5</td>\n",
       "      <td>1.0</td>\n",
       "      <td>1.0</td>\n",
       "    </tr>\n",
       "    <tr>\n",
       "      <th>2013-01-03</th>\n",
       "      <td>-1.026162</td>\n",
       "      <td>0.463271</td>\n",
       "      <td>-1.506031</td>\n",
       "      <td>5</td>\n",
       "      <td>2.0</td>\n",
       "      <td>NaN</td>\n",
       "    </tr>\n",
       "    <tr>\n",
       "      <th>2013-01-04</th>\n",
       "      <td>-0.198799</td>\n",
       "      <td>-0.275693</td>\n",
       "      <td>0.006771</td>\n",
       "      <td>5</td>\n",
       "      <td>3.0</td>\n",
       "      <td>NaN</td>\n",
       "    </tr>\n",
       "  </tbody>\n",
       "</table>\n",
       "</div>"
      ],
      "text/plain": [
       "                   A         B         C  D    F    E\n",
       "2013-01-01  0.000000  0.000000  0.305865  5  NaN  1.0\n",
       "2013-01-02  0.190730 -0.016160 -1.401204  5  1.0  1.0\n",
       "2013-01-03 -1.026162  0.463271 -1.506031  5  2.0  NaN\n",
       "2013-01-04 -0.198799 -0.275693  0.006771  5  3.0  NaN"
      ]
     },
     "execution_count": 41,
     "metadata": {},
     "output_type": "execute_result"
    }
   ],
   "source": [
    "df1 = df.reindex(index=dates[0:4],columns=list(df.columns) + ['E'])\n",
    "\n",
    "df1.loc[dates[0]:dates[1],'E'] = 1\n",
    "\n",
    "df1"
   ]
  },
  {
   "cell_type": "code",
   "execution_count": 42,
   "metadata": {},
   "outputs": [
    {
     "data": {
      "text/html": [
       "<div>\n",
       "<style>\n",
       "    .dataframe thead tr:only-child th {\n",
       "        text-align: right;\n",
       "    }\n",
       "\n",
       "    .dataframe thead th {\n",
       "        text-align: left;\n",
       "    }\n",
       "\n",
       "    .dataframe tbody tr th {\n",
       "        vertical-align: top;\n",
       "    }\n",
       "</style>\n",
       "<table border=\"1\" class=\"dataframe\">\n",
       "  <thead>\n",
       "    <tr style=\"text-align: right;\">\n",
       "      <th></th>\n",
       "      <th>A</th>\n",
       "      <th>B</th>\n",
       "      <th>C</th>\n",
       "      <th>D</th>\n",
       "      <th>F</th>\n",
       "      <th>E</th>\n",
       "    </tr>\n",
       "  </thead>\n",
       "  <tbody>\n",
       "    <tr>\n",
       "      <th>2013-01-02</th>\n",
       "      <td>0.19073</td>\n",
       "      <td>-0.01616</td>\n",
       "      <td>-1.401204</td>\n",
       "      <td>5</td>\n",
       "      <td>1.0</td>\n",
       "      <td>1.0</td>\n",
       "    </tr>\n",
       "  </tbody>\n",
       "</table>\n",
       "</div>"
      ],
      "text/plain": [
       "                  A        B         C  D    F    E\n",
       "2013-01-02  0.19073 -0.01616 -1.401204  5  1.0  1.0"
      ]
     },
     "execution_count": 42,
     "metadata": {},
     "output_type": "execute_result"
    }
   ],
   "source": [
    "df1.dropna(how='any')"
   ]
  },
  {
   "cell_type": "code",
   "execution_count": 43,
   "metadata": {},
   "outputs": [
    {
     "data": {
      "text/html": [
       "<div>\n",
       "<style>\n",
       "    .dataframe thead tr:only-child th {\n",
       "        text-align: right;\n",
       "    }\n",
       "\n",
       "    .dataframe thead th {\n",
       "        text-align: left;\n",
       "    }\n",
       "\n",
       "    .dataframe tbody tr th {\n",
       "        vertical-align: top;\n",
       "    }\n",
       "</style>\n",
       "<table border=\"1\" class=\"dataframe\">\n",
       "  <thead>\n",
       "    <tr style=\"text-align: right;\">\n",
       "      <th></th>\n",
       "      <th>A</th>\n",
       "      <th>B</th>\n",
       "      <th>C</th>\n",
       "      <th>D</th>\n",
       "      <th>F</th>\n",
       "      <th>E</th>\n",
       "    </tr>\n",
       "  </thead>\n",
       "  <tbody>\n",
       "    <tr>\n",
       "      <th>2013-01-01</th>\n",
       "      <td>0.000000</td>\n",
       "      <td>0.000000</td>\n",
       "      <td>0.305865</td>\n",
       "      <td>5</td>\n",
       "      <td>5.0</td>\n",
       "      <td>1.0</td>\n",
       "    </tr>\n",
       "    <tr>\n",
       "      <th>2013-01-02</th>\n",
       "      <td>0.190730</td>\n",
       "      <td>-0.016160</td>\n",
       "      <td>-1.401204</td>\n",
       "      <td>5</td>\n",
       "      <td>1.0</td>\n",
       "      <td>1.0</td>\n",
       "    </tr>\n",
       "    <tr>\n",
       "      <th>2013-01-03</th>\n",
       "      <td>-1.026162</td>\n",
       "      <td>0.463271</td>\n",
       "      <td>-1.506031</td>\n",
       "      <td>5</td>\n",
       "      <td>2.0</td>\n",
       "      <td>5.0</td>\n",
       "    </tr>\n",
       "    <tr>\n",
       "      <th>2013-01-04</th>\n",
       "      <td>-0.198799</td>\n",
       "      <td>-0.275693</td>\n",
       "      <td>0.006771</td>\n",
       "      <td>5</td>\n",
       "      <td>3.0</td>\n",
       "      <td>5.0</td>\n",
       "    </tr>\n",
       "  </tbody>\n",
       "</table>\n",
       "</div>"
      ],
      "text/plain": [
       "                   A         B         C  D    F    E\n",
       "2013-01-01  0.000000  0.000000  0.305865  5  5.0  1.0\n",
       "2013-01-02  0.190730 -0.016160 -1.401204  5  1.0  1.0\n",
       "2013-01-03 -1.026162  0.463271 -1.506031  5  2.0  5.0\n",
       "2013-01-04 -0.198799 -0.275693  0.006771  5  3.0  5.0"
      ]
     },
     "execution_count": 43,
     "metadata": {},
     "output_type": "execute_result"
    }
   ],
   "source": [
    "df1.fillna(value=5)"
   ]
  },
  {
   "cell_type": "code",
   "execution_count": 44,
   "metadata": {},
   "outputs": [
    {
     "data": {
      "text/html": [
       "<div>\n",
       "<style>\n",
       "    .dataframe thead tr:only-child th {\n",
       "        text-align: right;\n",
       "    }\n",
       "\n",
       "    .dataframe thead th {\n",
       "        text-align: left;\n",
       "    }\n",
       "\n",
       "    .dataframe tbody tr th {\n",
       "        vertical-align: top;\n",
       "    }\n",
       "</style>\n",
       "<table border=\"1\" class=\"dataframe\">\n",
       "  <thead>\n",
       "    <tr style=\"text-align: right;\">\n",
       "      <th></th>\n",
       "      <th>A</th>\n",
       "      <th>B</th>\n",
       "      <th>C</th>\n",
       "      <th>D</th>\n",
       "      <th>F</th>\n",
       "      <th>E</th>\n",
       "    </tr>\n",
       "  </thead>\n",
       "  <tbody>\n",
       "    <tr>\n",
       "      <th>2013-01-01</th>\n",
       "      <td>False</td>\n",
       "      <td>False</td>\n",
       "      <td>False</td>\n",
       "      <td>False</td>\n",
       "      <td>True</td>\n",
       "      <td>False</td>\n",
       "    </tr>\n",
       "    <tr>\n",
       "      <th>2013-01-02</th>\n",
       "      <td>False</td>\n",
       "      <td>False</td>\n",
       "      <td>False</td>\n",
       "      <td>False</td>\n",
       "      <td>False</td>\n",
       "      <td>False</td>\n",
       "    </tr>\n",
       "    <tr>\n",
       "      <th>2013-01-03</th>\n",
       "      <td>False</td>\n",
       "      <td>False</td>\n",
       "      <td>False</td>\n",
       "      <td>False</td>\n",
       "      <td>False</td>\n",
       "      <td>True</td>\n",
       "    </tr>\n",
       "    <tr>\n",
       "      <th>2013-01-04</th>\n",
       "      <td>False</td>\n",
       "      <td>False</td>\n",
       "      <td>False</td>\n",
       "      <td>False</td>\n",
       "      <td>False</td>\n",
       "      <td>True</td>\n",
       "    </tr>\n",
       "  </tbody>\n",
       "</table>\n",
       "</div>"
      ],
      "text/plain": [
       "                A      B      C      D      F      E\n",
       "2013-01-01  False  False  False  False   True  False\n",
       "2013-01-02  False  False  False  False  False  False\n",
       "2013-01-03  False  False  False  False  False   True\n",
       "2013-01-04  False  False  False  False  False   True"
      ]
     },
     "execution_count": 44,
     "metadata": {},
     "output_type": "execute_result"
    }
   ],
   "source": [
    "pd.isnull(df1)"
   ]
  },
  {
   "cell_type": "markdown",
   "metadata": {},
   "source": [
    "## 统计"
   ]
  },
  {
   "cell_type": "code",
   "execution_count": 45,
   "metadata": {},
   "outputs": [
    {
     "data": {
      "text/plain": [
       "A    0.156215\n",
       "B    0.601852\n",
       "C   -0.471016\n",
       "D    5.000000\n",
       "F    3.000000\n",
       "dtype: float64"
      ]
     },
     "execution_count": 45,
     "metadata": {},
     "output_type": "execute_result"
    }
   ],
   "source": [
    "df.mean()#列计算"
   ]
  },
  {
   "cell_type": "code",
   "execution_count": 46,
   "metadata": {},
   "outputs": [
    {
     "data": {
      "text/plain": [
       "2013-01-01    1.326466\n",
       "2013-01-02    0.954673\n",
       "2013-01-03    0.986216\n",
       "2013-01-04    1.506456\n",
       "2013-01-05    1.503487\n",
       "2013-01-06    3.332457\n",
       "Freq: D, dtype: float64"
      ]
     },
     "execution_count": 46,
     "metadata": {},
     "output_type": "execute_result"
    }
   ],
   "source": [
    "df.mean(1)#行计算"
   ]
  },
  {
   "cell_type": "code",
   "execution_count": 47,
   "metadata": {},
   "outputs": [
    {
     "data": {
      "text/plain": [
       "2013-01-01    1.0\n",
       "2013-01-02    3.0\n",
       "2013-01-03    5.0\n",
       "2013-01-04    NaN\n",
       "2013-01-05    6.0\n",
       "2013-01-06    8.0\n",
       "Freq: D, dtype: float64"
      ]
     },
     "execution_count": 47,
     "metadata": {},
     "output_type": "execute_result"
    }
   ],
   "source": [
    "s = pd.Series([1,3,5,np.nan,6,8],index=dates)#.shift(2)\n",
    "\n",
    "s"
   ]
  },
  {
   "cell_type": "code",
   "execution_count": 48,
   "metadata": {},
   "outputs": [
    {
     "data": {
      "text/plain": [
       "2013-01-01    NaN\n",
       "2013-01-02    NaN\n",
       "2013-01-03    1.0\n",
       "2013-01-04    3.0\n",
       "2013-01-05    5.0\n",
       "2013-01-06    NaN\n",
       "Freq: D, dtype: float64"
      ]
     },
     "execution_count": 48,
     "metadata": {},
     "output_type": "execute_result"
    }
   ],
   "source": [
    "s = pd.Series([1,3,5,np.nan,6,8],index=dates).shift(2)\n",
    "\n",
    "s"
   ]
  },
  {
   "cell_type": "code",
   "execution_count": 49,
   "metadata": {},
   "outputs": [
    {
     "data": {
      "text/html": [
       "<div>\n",
       "<style>\n",
       "    .dataframe thead tr:only-child th {\n",
       "        text-align: right;\n",
       "    }\n",
       "\n",
       "    .dataframe thead th {\n",
       "        text-align: left;\n",
       "    }\n",
       "\n",
       "    .dataframe tbody tr th {\n",
       "        vertical-align: top;\n",
       "    }\n",
       "</style>\n",
       "<table border=\"1\" class=\"dataframe\">\n",
       "  <thead>\n",
       "    <tr style=\"text-align: right;\">\n",
       "      <th></th>\n",
       "      <th>A</th>\n",
       "      <th>B</th>\n",
       "      <th>C</th>\n",
       "      <th>D</th>\n",
       "      <th>F</th>\n",
       "    </tr>\n",
       "  </thead>\n",
       "  <tbody>\n",
       "    <tr>\n",
       "      <th>2013-01-01</th>\n",
       "      <td>NaN</td>\n",
       "      <td>NaN</td>\n",
       "      <td>NaN</td>\n",
       "      <td>NaN</td>\n",
       "      <td>NaN</td>\n",
       "    </tr>\n",
       "    <tr>\n",
       "      <th>2013-01-02</th>\n",
       "      <td>NaN</td>\n",
       "      <td>NaN</td>\n",
       "      <td>NaN</td>\n",
       "      <td>NaN</td>\n",
       "      <td>NaN</td>\n",
       "    </tr>\n",
       "    <tr>\n",
       "      <th>2013-01-03</th>\n",
       "      <td>-2.026162</td>\n",
       "      <td>-0.536729</td>\n",
       "      <td>-2.506031</td>\n",
       "      <td>4.0</td>\n",
       "      <td>1.0</td>\n",
       "    </tr>\n",
       "    <tr>\n",
       "      <th>2013-01-04</th>\n",
       "      <td>-3.198799</td>\n",
       "      <td>-3.275693</td>\n",
       "      <td>-2.993229</td>\n",
       "      <td>2.0</td>\n",
       "      <td>0.0</td>\n",
       "    </tr>\n",
       "    <tr>\n",
       "      <th>2013-01-05</th>\n",
       "      <td>-4.369521</td>\n",
       "      <td>-5.174670</td>\n",
       "      <td>-6.938372</td>\n",
       "      <td>0.0</td>\n",
       "      <td>-1.0</td>\n",
       "    </tr>\n",
       "    <tr>\n",
       "      <th>2013-01-06</th>\n",
       "      <td>NaN</td>\n",
       "      <td>NaN</td>\n",
       "      <td>NaN</td>\n",
       "      <td>NaN</td>\n",
       "      <td>NaN</td>\n",
       "    </tr>\n",
       "  </tbody>\n",
       "</table>\n",
       "</div>"
      ],
      "text/plain": [
       "                   A         B         C    D    F\n",
       "2013-01-01       NaN       NaN       NaN  NaN  NaN\n",
       "2013-01-02       NaN       NaN       NaN  NaN  NaN\n",
       "2013-01-03 -2.026162 -0.536729 -2.506031  4.0  1.0\n",
       "2013-01-04 -3.198799 -3.275693 -2.993229  2.0  0.0\n",
       "2013-01-05 -4.369521 -5.174670 -6.938372  0.0 -1.0\n",
       "2013-01-06       NaN       NaN       NaN  NaN  NaN"
      ]
     },
     "execution_count": 49,
     "metadata": {},
     "output_type": "execute_result"
    }
   ],
   "source": [
    "df.sub(s,axis='index')"
   ]
  },
  {
   "cell_type": "code",
   "execution_count": 50,
   "metadata": {},
   "outputs": [
    {
     "data": {
      "text/html": [
       "<div>\n",
       "<style>\n",
       "    .dataframe thead tr:only-child th {\n",
       "        text-align: right;\n",
       "    }\n",
       "\n",
       "    .dataframe thead th {\n",
       "        text-align: left;\n",
       "    }\n",
       "\n",
       "    .dataframe tbody tr th {\n",
       "        vertical-align: top;\n",
       "    }\n",
       "</style>\n",
       "<table border=\"1\" class=\"dataframe\">\n",
       "  <thead>\n",
       "    <tr style=\"text-align: right;\">\n",
       "      <th></th>\n",
       "      <th>A</th>\n",
       "      <th>B</th>\n",
       "      <th>C</th>\n",
       "      <th>D</th>\n",
       "      <th>F</th>\n",
       "    </tr>\n",
       "  </thead>\n",
       "  <tbody>\n",
       "    <tr>\n",
       "      <th>2013-01-01</th>\n",
       "      <td>0.000000</td>\n",
       "      <td>0.000000</td>\n",
       "      <td>0.305865</td>\n",
       "      <td>5</td>\n",
       "      <td>NaN</td>\n",
       "    </tr>\n",
       "    <tr>\n",
       "      <th>2013-01-02</th>\n",
       "      <td>0.190730</td>\n",
       "      <td>-0.016160</td>\n",
       "      <td>-1.401204</td>\n",
       "      <td>5</td>\n",
       "      <td>1.0</td>\n",
       "    </tr>\n",
       "    <tr>\n",
       "      <th>2013-01-03</th>\n",
       "      <td>-1.026162</td>\n",
       "      <td>0.463271</td>\n",
       "      <td>-1.506031</td>\n",
       "      <td>5</td>\n",
       "      <td>2.0</td>\n",
       "    </tr>\n",
       "    <tr>\n",
       "      <th>2013-01-04</th>\n",
       "      <td>-0.198799</td>\n",
       "      <td>-0.275693</td>\n",
       "      <td>0.006771</td>\n",
       "      <td>5</td>\n",
       "      <td>3.0</td>\n",
       "    </tr>\n",
       "    <tr>\n",
       "      <th>2013-01-05</th>\n",
       "      <td>0.630479</td>\n",
       "      <td>-0.174670</td>\n",
       "      <td>-1.938372</td>\n",
       "      <td>5</td>\n",
       "      <td>4.0</td>\n",
       "    </tr>\n",
       "    <tr>\n",
       "      <th>2013-01-06</th>\n",
       "      <td>1.341044</td>\n",
       "      <td>3.614363</td>\n",
       "      <td>1.706878</td>\n",
       "      <td>5</td>\n",
       "      <td>5.0</td>\n",
       "    </tr>\n",
       "  </tbody>\n",
       "</table>\n",
       "</div>"
      ],
      "text/plain": [
       "                   A         B         C  D    F\n",
       "2013-01-01  0.000000  0.000000  0.305865  5  NaN\n",
       "2013-01-02  0.190730 -0.016160 -1.401204  5  1.0\n",
       "2013-01-03 -1.026162  0.463271 -1.506031  5  2.0\n",
       "2013-01-04 -0.198799 -0.275693  0.006771  5  3.0\n",
       "2013-01-05  0.630479 -0.174670 -1.938372  5  4.0\n",
       "2013-01-06  1.341044  3.614363  1.706878  5  5.0"
      ]
     },
     "execution_count": 50,
     "metadata": {},
     "output_type": "execute_result"
    }
   ],
   "source": [
    "df"
   ]
  },
  {
   "cell_type": "code",
   "execution_count": 51,
   "metadata": {},
   "outputs": [
    {
     "data": {
      "text/html": [
       "<div>\n",
       "<style>\n",
       "    .dataframe thead tr:only-child th {\n",
       "        text-align: right;\n",
       "    }\n",
       "\n",
       "    .dataframe thead th {\n",
       "        text-align: left;\n",
       "    }\n",
       "\n",
       "    .dataframe tbody tr th {\n",
       "        vertical-align: top;\n",
       "    }\n",
       "</style>\n",
       "<table border=\"1\" class=\"dataframe\">\n",
       "  <thead>\n",
       "    <tr style=\"text-align: right;\">\n",
       "      <th></th>\n",
       "      <th>A</th>\n",
       "      <th>B</th>\n",
       "      <th>C</th>\n",
       "      <th>D</th>\n",
       "      <th>F</th>\n",
       "    </tr>\n",
       "  </thead>\n",
       "  <tbody>\n",
       "    <tr>\n",
       "      <th>2013-01-01</th>\n",
       "      <td>0.000000</td>\n",
       "      <td>0.000000</td>\n",
       "      <td>0.305865</td>\n",
       "      <td>5</td>\n",
       "      <td>NaN</td>\n",
       "    </tr>\n",
       "    <tr>\n",
       "      <th>2013-01-02</th>\n",
       "      <td>0.190730</td>\n",
       "      <td>-0.016160</td>\n",
       "      <td>-1.095339</td>\n",
       "      <td>10</td>\n",
       "      <td>1.0</td>\n",
       "    </tr>\n",
       "    <tr>\n",
       "      <th>2013-01-03</th>\n",
       "      <td>-0.835432</td>\n",
       "      <td>0.447111</td>\n",
       "      <td>-2.601370</td>\n",
       "      <td>15</td>\n",
       "      <td>3.0</td>\n",
       "    </tr>\n",
       "    <tr>\n",
       "      <th>2013-01-04</th>\n",
       "      <td>-1.034231</td>\n",
       "      <td>0.171419</td>\n",
       "      <td>-2.594599</td>\n",
       "      <td>20</td>\n",
       "      <td>6.0</td>\n",
       "    </tr>\n",
       "    <tr>\n",
       "      <th>2013-01-05</th>\n",
       "      <td>-0.403752</td>\n",
       "      <td>-0.003251</td>\n",
       "      <td>-4.532971</td>\n",
       "      <td>25</td>\n",
       "      <td>10.0</td>\n",
       "    </tr>\n",
       "    <tr>\n",
       "      <th>2013-01-06</th>\n",
       "      <td>0.937292</td>\n",
       "      <td>3.611112</td>\n",
       "      <td>-2.826093</td>\n",
       "      <td>30</td>\n",
       "      <td>15.0</td>\n",
       "    </tr>\n",
       "  </tbody>\n",
       "</table>\n",
       "</div>"
      ],
      "text/plain": [
       "                   A         B         C   D     F\n",
       "2013-01-01  0.000000  0.000000  0.305865   5   NaN\n",
       "2013-01-02  0.190730 -0.016160 -1.095339  10   1.0\n",
       "2013-01-03 -0.835432  0.447111 -2.601370  15   3.0\n",
       "2013-01-04 -1.034231  0.171419 -2.594599  20   6.0\n",
       "2013-01-05 -0.403752 -0.003251 -4.532971  25  10.0\n",
       "2013-01-06  0.937292  3.611112 -2.826093  30  15.0"
      ]
     },
     "execution_count": 51,
     "metadata": {},
     "output_type": "execute_result"
    }
   ],
   "source": [
    "df.apply(np.cumsum)"
   ]
  },
  {
   "cell_type": "code",
   "execution_count": 52,
   "metadata": {},
   "outputs": [
    {
     "data": {
      "text/plain": [
       "A    2.367206\n",
       "B    3.890056\n",
       "C    3.645249\n",
       "D    0.000000\n",
       "F    4.000000\n",
       "dtype: float64"
      ]
     },
     "execution_count": 52,
     "metadata": {},
     "output_type": "execute_result"
    }
   ],
   "source": [
    "df.apply(lambda x: x.max() - x.min())"
   ]
  },
  {
   "cell_type": "code",
   "execution_count": 53,
   "metadata": {},
   "outputs": [
    {
     "data": {
      "text/plain": [
       "0    5\n",
       "1    2\n",
       "2    5\n",
       "3    0\n",
       "4    5\n",
       "5    3\n",
       "6    0\n",
       "7    6\n",
       "8    2\n",
       "9    0\n",
       "dtype: int64"
      ]
     },
     "execution_count": 53,
     "metadata": {},
     "output_type": "execute_result"
    }
   ],
   "source": [
    "s = pd.Series(np.random.randint(0,7,size=10))\n",
    "\n",
    "s"
   ]
  },
  {
   "cell_type": "code",
   "execution_count": 54,
   "metadata": {},
   "outputs": [
    {
     "data": {
      "text/plain": [
       "5    3\n",
       "0    3\n",
       "2    2\n",
       "6    1\n",
       "3    1\n",
       "dtype: int64"
      ]
     },
     "execution_count": 54,
     "metadata": {},
     "output_type": "execute_result"
    }
   ],
   "source": [
    "s.value_counts()#统计频率"
   ]
  },
  {
   "cell_type": "code",
   "execution_count": 55,
   "metadata": {},
   "outputs": [
    {
     "data": {
      "text/plain": [
       "0       a\n",
       "1       b\n",
       "2       c\n",
       "3    aaba\n",
       "4    baca\n",
       "5     NaN\n",
       "6    caba\n",
       "7     dog\n",
       "8     cat\n",
       "dtype: object"
      ]
     },
     "execution_count": 55,
     "metadata": {},
     "output_type": "execute_result"
    }
   ],
   "source": [
    "s = pd.Series(['A', 'B', 'C', 'Aaba', 'Baca', np.nan, 'CABA', 'dog', 'cat'])\n",
    "\n",
    "s.str.lower()"
   ]
  },
  {
   "cell_type": "markdown",
   "metadata": {},
   "source": [
    "## 规整 Merge"
   ]
  },
  {
   "cell_type": "markdown",
   "metadata": {},
   "source": [
    "### concat"
   ]
  },
  {
   "cell_type": "code",
   "execution_count": 56,
   "metadata": {},
   "outputs": [
    {
     "data": {
      "text/html": [
       "<div>\n",
       "<style>\n",
       "    .dataframe thead tr:only-child th {\n",
       "        text-align: right;\n",
       "    }\n",
       "\n",
       "    .dataframe thead th {\n",
       "        text-align: left;\n",
       "    }\n",
       "\n",
       "    .dataframe tbody tr th {\n",
       "        vertical-align: top;\n",
       "    }\n",
       "</style>\n",
       "<table border=\"1\" class=\"dataframe\">\n",
       "  <thead>\n",
       "    <tr style=\"text-align: right;\">\n",
       "      <th></th>\n",
       "      <th>0</th>\n",
       "      <th>1</th>\n",
       "      <th>2</th>\n",
       "      <th>3</th>\n",
       "    </tr>\n",
       "  </thead>\n",
       "  <tbody>\n",
       "    <tr>\n",
       "      <th>0</th>\n",
       "      <td>1.131243</td>\n",
       "      <td>-0.383814</td>\n",
       "      <td>-1.147596</td>\n",
       "      <td>0.342241</td>\n",
       "    </tr>\n",
       "    <tr>\n",
       "      <th>1</th>\n",
       "      <td>-0.974153</td>\n",
       "      <td>0.579128</td>\n",
       "      <td>0.427777</td>\n",
       "      <td>1.003659</td>\n",
       "    </tr>\n",
       "    <tr>\n",
       "      <th>2</th>\n",
       "      <td>1.122058</td>\n",
       "      <td>0.162732</td>\n",
       "      <td>0.748263</td>\n",
       "      <td>0.241594</td>\n",
       "    </tr>\n",
       "    <tr>\n",
       "      <th>3</th>\n",
       "      <td>0.539217</td>\n",
       "      <td>-0.178712</td>\n",
       "      <td>-1.023993</td>\n",
       "      <td>0.885924</td>\n",
       "    </tr>\n",
       "    <tr>\n",
       "      <th>4</th>\n",
       "      <td>0.347573</td>\n",
       "      <td>-0.061660</td>\n",
       "      <td>-0.223924</td>\n",
       "      <td>0.809106</td>\n",
       "    </tr>\n",
       "    <tr>\n",
       "      <th>5</th>\n",
       "      <td>0.189326</td>\n",
       "      <td>-1.419243</td>\n",
       "      <td>-1.509009</td>\n",
       "      <td>-1.921227</td>\n",
       "    </tr>\n",
       "    <tr>\n",
       "      <th>6</th>\n",
       "      <td>1.297445</td>\n",
       "      <td>-0.259724</td>\n",
       "      <td>0.950509</td>\n",
       "      <td>-3.342635</td>\n",
       "    </tr>\n",
       "    <tr>\n",
       "      <th>7</th>\n",
       "      <td>1.444150</td>\n",
       "      <td>-0.943037</td>\n",
       "      <td>0.473343</td>\n",
       "      <td>0.100755</td>\n",
       "    </tr>\n",
       "    <tr>\n",
       "      <th>8</th>\n",
       "      <td>-0.893656</td>\n",
       "      <td>-1.804846</td>\n",
       "      <td>0.359391</td>\n",
       "      <td>0.872148</td>\n",
       "    </tr>\n",
       "    <tr>\n",
       "      <th>9</th>\n",
       "      <td>-0.292879</td>\n",
       "      <td>-0.223761</td>\n",
       "      <td>-0.140937</td>\n",
       "      <td>0.881455</td>\n",
       "    </tr>\n",
       "  </tbody>\n",
       "</table>\n",
       "</div>"
      ],
      "text/plain": [
       "          0         1         2         3\n",
       "0  1.131243 -0.383814 -1.147596  0.342241\n",
       "1 -0.974153  0.579128  0.427777  1.003659\n",
       "2  1.122058  0.162732  0.748263  0.241594\n",
       "3  0.539217 -0.178712 -1.023993  0.885924\n",
       "4  0.347573 -0.061660 -0.223924  0.809106\n",
       "5  0.189326 -1.419243 -1.509009 -1.921227\n",
       "6  1.297445 -0.259724  0.950509 -3.342635\n",
       "7  1.444150 -0.943037  0.473343  0.100755\n",
       "8 -0.893656 -1.804846  0.359391  0.872148\n",
       "9 -0.292879 -0.223761 -0.140937  0.881455"
      ]
     },
     "execution_count": 56,
     "metadata": {},
     "output_type": "execute_result"
    }
   ],
   "source": [
    "df = pd.DataFrame(np.random.randn(10, 4))\n",
    "\n",
    "df"
   ]
  },
  {
   "cell_type": "code",
   "execution_count": 57,
   "metadata": {},
   "outputs": [
    {
     "data": {
      "text/html": [
       "<div>\n",
       "<style>\n",
       "    .dataframe thead tr:only-child th {\n",
       "        text-align: right;\n",
       "    }\n",
       "\n",
       "    .dataframe thead th {\n",
       "        text-align: left;\n",
       "    }\n",
       "\n",
       "    .dataframe tbody tr th {\n",
       "        vertical-align: top;\n",
       "    }\n",
       "</style>\n",
       "<table border=\"1\" class=\"dataframe\">\n",
       "  <thead>\n",
       "    <tr style=\"text-align: right;\">\n",
       "      <th></th>\n",
       "      <th>0</th>\n",
       "      <th>1</th>\n",
       "      <th>2</th>\n",
       "      <th>3</th>\n",
       "    </tr>\n",
       "  </thead>\n",
       "  <tbody>\n",
       "    <tr>\n",
       "      <th>0</th>\n",
       "      <td>1.131243</td>\n",
       "      <td>-0.383814</td>\n",
       "      <td>-1.147596</td>\n",
       "      <td>0.342241</td>\n",
       "    </tr>\n",
       "    <tr>\n",
       "      <th>1</th>\n",
       "      <td>-0.974153</td>\n",
       "      <td>0.579128</td>\n",
       "      <td>0.427777</td>\n",
       "      <td>1.003659</td>\n",
       "    </tr>\n",
       "    <tr>\n",
       "      <th>2</th>\n",
       "      <td>1.122058</td>\n",
       "      <td>0.162732</td>\n",
       "      <td>0.748263</td>\n",
       "      <td>0.241594</td>\n",
       "    </tr>\n",
       "    <tr>\n",
       "      <th>3</th>\n",
       "      <td>0.539217</td>\n",
       "      <td>-0.178712</td>\n",
       "      <td>-1.023993</td>\n",
       "      <td>0.885924</td>\n",
       "    </tr>\n",
       "    <tr>\n",
       "      <th>4</th>\n",
       "      <td>0.347573</td>\n",
       "      <td>-0.061660</td>\n",
       "      <td>-0.223924</td>\n",
       "      <td>0.809106</td>\n",
       "    </tr>\n",
       "    <tr>\n",
       "      <th>5</th>\n",
       "      <td>0.189326</td>\n",
       "      <td>-1.419243</td>\n",
       "      <td>-1.509009</td>\n",
       "      <td>-1.921227</td>\n",
       "    </tr>\n",
       "    <tr>\n",
       "      <th>6</th>\n",
       "      <td>1.297445</td>\n",
       "      <td>-0.259724</td>\n",
       "      <td>0.950509</td>\n",
       "      <td>-3.342635</td>\n",
       "    </tr>\n",
       "    <tr>\n",
       "      <th>7</th>\n",
       "      <td>1.444150</td>\n",
       "      <td>-0.943037</td>\n",
       "      <td>0.473343</td>\n",
       "      <td>0.100755</td>\n",
       "    </tr>\n",
       "    <tr>\n",
       "      <th>8</th>\n",
       "      <td>-0.893656</td>\n",
       "      <td>-1.804846</td>\n",
       "      <td>0.359391</td>\n",
       "      <td>0.872148</td>\n",
       "    </tr>\n",
       "    <tr>\n",
       "      <th>9</th>\n",
       "      <td>-0.292879</td>\n",
       "      <td>-0.223761</td>\n",
       "      <td>-0.140937</td>\n",
       "      <td>0.881455</td>\n",
       "    </tr>\n",
       "  </tbody>\n",
       "</table>\n",
       "</div>"
      ],
      "text/plain": [
       "          0         1         2         3\n",
       "0  1.131243 -0.383814 -1.147596  0.342241\n",
       "1 -0.974153  0.579128  0.427777  1.003659\n",
       "2  1.122058  0.162732  0.748263  0.241594\n",
       "3  0.539217 -0.178712 -1.023993  0.885924\n",
       "4  0.347573 -0.061660 -0.223924  0.809106\n",
       "5  0.189326 -1.419243 -1.509009 -1.921227\n",
       "6  1.297445 -0.259724  0.950509 -3.342635\n",
       "7  1.444150 -0.943037  0.473343  0.100755\n",
       "8 -0.893656 -1.804846  0.359391  0.872148\n",
       "9 -0.292879 -0.223761 -0.140937  0.881455"
      ]
     },
     "execution_count": 57,
     "metadata": {},
     "output_type": "execute_result"
    }
   ],
   "source": [
    "# break it into pieces\n",
    "\n",
    "pieces = [df[:3], df[3:7], df[7:]]\n",
    "\n",
    "pd.concat(pieces)"
   ]
  },
  {
   "cell_type": "markdown",
   "metadata": {},
   "source": [
    "### merge"
   ]
  },
  {
   "cell_type": "code",
   "execution_count": 58,
   "metadata": {},
   "outputs": [],
   "source": [
    "left = pd.DataFrame({'key': ['foo', 'foo'], 'lval': [1, 2]})\n",
    "\n",
    "right = pd.DataFrame({'key': ['foo', 'foo'], 'rval': [4, 5]})"
   ]
  },
  {
   "cell_type": "code",
   "execution_count": 59,
   "metadata": {},
   "outputs": [
    {
     "data": {
      "text/html": [
       "<div>\n",
       "<style>\n",
       "    .dataframe thead tr:only-child th {\n",
       "        text-align: right;\n",
       "    }\n",
       "\n",
       "    .dataframe thead th {\n",
       "        text-align: left;\n",
       "    }\n",
       "\n",
       "    .dataframe tbody tr th {\n",
       "        vertical-align: top;\n",
       "    }\n",
       "</style>\n",
       "<table border=\"1\" class=\"dataframe\">\n",
       "  <thead>\n",
       "    <tr style=\"text-align: right;\">\n",
       "      <th></th>\n",
       "      <th>key</th>\n",
       "      <th>lval</th>\n",
       "    </tr>\n",
       "  </thead>\n",
       "  <tbody>\n",
       "    <tr>\n",
       "      <th>0</th>\n",
       "      <td>foo</td>\n",
       "      <td>1</td>\n",
       "    </tr>\n",
       "    <tr>\n",
       "      <th>1</th>\n",
       "      <td>foo</td>\n",
       "      <td>2</td>\n",
       "    </tr>\n",
       "  </tbody>\n",
       "</table>\n",
       "</div>"
      ],
      "text/plain": [
       "   key  lval\n",
       "0  foo     1\n",
       "1  foo     2"
      ]
     },
     "execution_count": 59,
     "metadata": {},
     "output_type": "execute_result"
    }
   ],
   "source": [
    "left"
   ]
  },
  {
   "cell_type": "code",
   "execution_count": 60,
   "metadata": {},
   "outputs": [
    {
     "data": {
      "text/html": [
       "<div>\n",
       "<style>\n",
       "    .dataframe thead tr:only-child th {\n",
       "        text-align: right;\n",
       "    }\n",
       "\n",
       "    .dataframe thead th {\n",
       "        text-align: left;\n",
       "    }\n",
       "\n",
       "    .dataframe tbody tr th {\n",
       "        vertical-align: top;\n",
       "    }\n",
       "</style>\n",
       "<table border=\"1\" class=\"dataframe\">\n",
       "  <thead>\n",
       "    <tr style=\"text-align: right;\">\n",
       "      <th></th>\n",
       "      <th>key</th>\n",
       "      <th>rval</th>\n",
       "    </tr>\n",
       "  </thead>\n",
       "  <tbody>\n",
       "    <tr>\n",
       "      <th>0</th>\n",
       "      <td>foo</td>\n",
       "      <td>4</td>\n",
       "    </tr>\n",
       "    <tr>\n",
       "      <th>1</th>\n",
       "      <td>foo</td>\n",
       "      <td>5</td>\n",
       "    </tr>\n",
       "  </tbody>\n",
       "</table>\n",
       "</div>"
      ],
      "text/plain": [
       "   key  rval\n",
       "0  foo     4\n",
       "1  foo     5"
      ]
     },
     "execution_count": 60,
     "metadata": {},
     "output_type": "execute_result"
    }
   ],
   "source": [
    "right"
   ]
  },
  {
   "cell_type": "code",
   "execution_count": 61,
   "metadata": {},
   "outputs": [
    {
     "data": {
      "text/html": [
       "<div>\n",
       "<style>\n",
       "    .dataframe thead tr:only-child th {\n",
       "        text-align: right;\n",
       "    }\n",
       "\n",
       "    .dataframe thead th {\n",
       "        text-align: left;\n",
       "    }\n",
       "\n",
       "    .dataframe tbody tr th {\n",
       "        vertical-align: top;\n",
       "    }\n",
       "</style>\n",
       "<table border=\"1\" class=\"dataframe\">\n",
       "  <thead>\n",
       "    <tr style=\"text-align: right;\">\n",
       "      <th></th>\n",
       "      <th>key</th>\n",
       "      <th>lval</th>\n",
       "      <th>rval</th>\n",
       "    </tr>\n",
       "  </thead>\n",
       "  <tbody>\n",
       "    <tr>\n",
       "      <th>0</th>\n",
       "      <td>foo</td>\n",
       "      <td>1</td>\n",
       "      <td>4</td>\n",
       "    </tr>\n",
       "    <tr>\n",
       "      <th>1</th>\n",
       "      <td>foo</td>\n",
       "      <td>1</td>\n",
       "      <td>5</td>\n",
       "    </tr>\n",
       "    <tr>\n",
       "      <th>2</th>\n",
       "      <td>foo</td>\n",
       "      <td>2</td>\n",
       "      <td>4</td>\n",
       "    </tr>\n",
       "    <tr>\n",
       "      <th>3</th>\n",
       "      <td>foo</td>\n",
       "      <td>2</td>\n",
       "      <td>5</td>\n",
       "    </tr>\n",
       "  </tbody>\n",
       "</table>\n",
       "</div>"
      ],
      "text/plain": [
       "   key  lval  rval\n",
       "0  foo     1     4\n",
       "1  foo     1     5\n",
       "2  foo     2     4\n",
       "3  foo     2     5"
      ]
     },
     "execution_count": 61,
     "metadata": {},
     "output_type": "execute_result"
    }
   ],
   "source": [
    "pd.merge(left, right, on='key')"
   ]
  },
  {
   "cell_type": "markdown",
   "metadata": {},
   "source": [
    "### append"
   ]
  },
  {
   "cell_type": "code",
   "execution_count": 62,
   "metadata": {},
   "outputs": [
    {
     "data": {
      "text/html": [
       "<div>\n",
       "<style>\n",
       "    .dataframe thead tr:only-child th {\n",
       "        text-align: right;\n",
       "    }\n",
       "\n",
       "    .dataframe thead th {\n",
       "        text-align: left;\n",
       "    }\n",
       "\n",
       "    .dataframe tbody tr th {\n",
       "        vertical-align: top;\n",
       "    }\n",
       "</style>\n",
       "<table border=\"1\" class=\"dataframe\">\n",
       "  <thead>\n",
       "    <tr style=\"text-align: right;\">\n",
       "      <th></th>\n",
       "      <th>A</th>\n",
       "      <th>B</th>\n",
       "      <th>C</th>\n",
       "      <th>D</th>\n",
       "    </tr>\n",
       "  </thead>\n",
       "  <tbody>\n",
       "    <tr>\n",
       "      <th>0</th>\n",
       "      <td>0.011434</td>\n",
       "      <td>0.561576</td>\n",
       "      <td>-0.404883</td>\n",
       "      <td>-0.379071</td>\n",
       "    </tr>\n",
       "    <tr>\n",
       "      <th>1</th>\n",
       "      <td>0.219870</td>\n",
       "      <td>-0.262600</td>\n",
       "      <td>1.655387</td>\n",
       "      <td>-1.337430</td>\n",
       "    </tr>\n",
       "    <tr>\n",
       "      <th>2</th>\n",
       "      <td>0.049214</td>\n",
       "      <td>0.755147</td>\n",
       "      <td>-0.627302</td>\n",
       "      <td>0.222629</td>\n",
       "    </tr>\n",
       "    <tr>\n",
       "      <th>3</th>\n",
       "      <td>0.473009</td>\n",
       "      <td>-0.855307</td>\n",
       "      <td>0.353166</td>\n",
       "      <td>-0.914310</td>\n",
       "    </tr>\n",
       "    <tr>\n",
       "      <th>4</th>\n",
       "      <td>-0.514169</td>\n",
       "      <td>0.412218</td>\n",
       "      <td>0.982430</td>\n",
       "      <td>0.125486</td>\n",
       "    </tr>\n",
       "    <tr>\n",
       "      <th>5</th>\n",
       "      <td>0.517962</td>\n",
       "      <td>-0.516783</td>\n",
       "      <td>-1.503420</td>\n",
       "      <td>-0.822614</td>\n",
       "    </tr>\n",
       "    <tr>\n",
       "      <th>6</th>\n",
       "      <td>0.669895</td>\n",
       "      <td>-0.772236</td>\n",
       "      <td>1.306589</td>\n",
       "      <td>-1.052182</td>\n",
       "    </tr>\n",
       "    <tr>\n",
       "      <th>7</th>\n",
       "      <td>-0.698510</td>\n",
       "      <td>-0.473854</td>\n",
       "      <td>-0.716590</td>\n",
       "      <td>0.728072</td>\n",
       "    </tr>\n",
       "  </tbody>\n",
       "</table>\n",
       "</div>"
      ],
      "text/plain": [
       "          A         B         C         D\n",
       "0  0.011434  0.561576 -0.404883 -0.379071\n",
       "1  0.219870 -0.262600  1.655387 -1.337430\n",
       "2  0.049214  0.755147 -0.627302  0.222629\n",
       "3  0.473009 -0.855307  0.353166 -0.914310\n",
       "4 -0.514169  0.412218  0.982430  0.125486\n",
       "5  0.517962 -0.516783 -1.503420 -0.822614\n",
       "6  0.669895 -0.772236  1.306589 -1.052182\n",
       "7 -0.698510 -0.473854 -0.716590  0.728072"
      ]
     },
     "execution_count": 62,
     "metadata": {},
     "output_type": "execute_result"
    }
   ],
   "source": [
    "df = pd.DataFrame(np.random.randn(8, 4), columns=['A','B','C','D'])\n",
    "\n",
    "df"
   ]
  },
  {
   "cell_type": "code",
   "execution_count": 63,
   "metadata": {},
   "outputs": [
    {
     "data": {
      "text/html": [
       "<div>\n",
       "<style>\n",
       "    .dataframe thead tr:only-child th {\n",
       "        text-align: right;\n",
       "    }\n",
       "\n",
       "    .dataframe thead th {\n",
       "        text-align: left;\n",
       "    }\n",
       "\n",
       "    .dataframe tbody tr th {\n",
       "        vertical-align: top;\n",
       "    }\n",
       "</style>\n",
       "<table border=\"1\" class=\"dataframe\">\n",
       "  <thead>\n",
       "    <tr style=\"text-align: right;\">\n",
       "      <th></th>\n",
       "      <th>A</th>\n",
       "      <th>B</th>\n",
       "      <th>C</th>\n",
       "      <th>D</th>\n",
       "    </tr>\n",
       "  </thead>\n",
       "  <tbody>\n",
       "    <tr>\n",
       "      <th>0</th>\n",
       "      <td>0.011434</td>\n",
       "      <td>0.561576</td>\n",
       "      <td>-0.404883</td>\n",
       "      <td>-0.379071</td>\n",
       "    </tr>\n",
       "    <tr>\n",
       "      <th>1</th>\n",
       "      <td>0.219870</td>\n",
       "      <td>-0.262600</td>\n",
       "      <td>1.655387</td>\n",
       "      <td>-1.337430</td>\n",
       "    </tr>\n",
       "    <tr>\n",
       "      <th>2</th>\n",
       "      <td>0.049214</td>\n",
       "      <td>0.755147</td>\n",
       "      <td>-0.627302</td>\n",
       "      <td>0.222629</td>\n",
       "    </tr>\n",
       "    <tr>\n",
       "      <th>3</th>\n",
       "      <td>0.473009</td>\n",
       "      <td>-0.855307</td>\n",
       "      <td>0.353166</td>\n",
       "      <td>-0.914310</td>\n",
       "    </tr>\n",
       "    <tr>\n",
       "      <th>4</th>\n",
       "      <td>-0.514169</td>\n",
       "      <td>0.412218</td>\n",
       "      <td>0.982430</td>\n",
       "      <td>0.125486</td>\n",
       "    </tr>\n",
       "    <tr>\n",
       "      <th>5</th>\n",
       "      <td>0.517962</td>\n",
       "      <td>-0.516783</td>\n",
       "      <td>-1.503420</td>\n",
       "      <td>-0.822614</td>\n",
       "    </tr>\n",
       "    <tr>\n",
       "      <th>6</th>\n",
       "      <td>0.669895</td>\n",
       "      <td>-0.772236</td>\n",
       "      <td>1.306589</td>\n",
       "      <td>-1.052182</td>\n",
       "    </tr>\n",
       "    <tr>\n",
       "      <th>7</th>\n",
       "      <td>-0.698510</td>\n",
       "      <td>-0.473854</td>\n",
       "      <td>-0.716590</td>\n",
       "      <td>0.728072</td>\n",
       "    </tr>\n",
       "    <tr>\n",
       "      <th>8</th>\n",
       "      <td>0.473009</td>\n",
       "      <td>-0.855307</td>\n",
       "      <td>0.353166</td>\n",
       "      <td>-0.914310</td>\n",
       "    </tr>\n",
       "  </tbody>\n",
       "</table>\n",
       "</div>"
      ],
      "text/plain": [
       "          A         B         C         D\n",
       "0  0.011434  0.561576 -0.404883 -0.379071\n",
       "1  0.219870 -0.262600  1.655387 -1.337430\n",
       "2  0.049214  0.755147 -0.627302  0.222629\n",
       "3  0.473009 -0.855307  0.353166 -0.914310\n",
       "4 -0.514169  0.412218  0.982430  0.125486\n",
       "5  0.517962 -0.516783 -1.503420 -0.822614\n",
       "6  0.669895 -0.772236  1.306589 -1.052182\n",
       "7 -0.698510 -0.473854 -0.716590  0.728072\n",
       "8  0.473009 -0.855307  0.353166 -0.914310"
      ]
     },
     "execution_count": 63,
     "metadata": {},
     "output_type": "execute_result"
    }
   ],
   "source": [
    "s = df.iloc[3]\n",
    "\n",
    "df.append(s, ignore_index=True)"
   ]
  },
  {
   "cell_type": "code",
   "execution_count": 64,
   "metadata": {},
   "outputs": [
    {
     "data": {
      "text/html": [
       "<div>\n",
       "<style>\n",
       "    .dataframe thead tr:only-child th {\n",
       "        text-align: right;\n",
       "    }\n",
       "\n",
       "    .dataframe thead th {\n",
       "        text-align: left;\n",
       "    }\n",
       "\n",
       "    .dataframe tbody tr th {\n",
       "        vertical-align: top;\n",
       "    }\n",
       "</style>\n",
       "<table border=\"1\" class=\"dataframe\">\n",
       "  <thead>\n",
       "    <tr style=\"text-align: right;\">\n",
       "      <th></th>\n",
       "      <th>A</th>\n",
       "      <th>B</th>\n",
       "      <th>C</th>\n",
       "      <th>D</th>\n",
       "    </tr>\n",
       "  </thead>\n",
       "  <tbody>\n",
       "    <tr>\n",
       "      <th>0</th>\n",
       "      <td>foo</td>\n",
       "      <td>one</td>\n",
       "      <td>-1.041123</td>\n",
       "      <td>0.737415</td>\n",
       "    </tr>\n",
       "    <tr>\n",
       "      <th>1</th>\n",
       "      <td>bar</td>\n",
       "      <td>one</td>\n",
       "      <td>0.291852</td>\n",
       "      <td>0.013531</td>\n",
       "    </tr>\n",
       "    <tr>\n",
       "      <th>2</th>\n",
       "      <td>foo</td>\n",
       "      <td>two</td>\n",
       "      <td>-1.224050</td>\n",
       "      <td>0.391930</td>\n",
       "    </tr>\n",
       "    <tr>\n",
       "      <th>3</th>\n",
       "      <td>bar</td>\n",
       "      <td>three</td>\n",
       "      <td>0.621681</td>\n",
       "      <td>-0.534412</td>\n",
       "    </tr>\n",
       "    <tr>\n",
       "      <th>4</th>\n",
       "      <td>foo</td>\n",
       "      <td>two</td>\n",
       "      <td>0.760493</td>\n",
       "      <td>-0.294558</td>\n",
       "    </tr>\n",
       "    <tr>\n",
       "      <th>5</th>\n",
       "      <td>bar</td>\n",
       "      <td>two</td>\n",
       "      <td>0.313155</td>\n",
       "      <td>2.205908</td>\n",
       "    </tr>\n",
       "    <tr>\n",
       "      <th>6</th>\n",
       "      <td>foo</td>\n",
       "      <td>one</td>\n",
       "      <td>0.868063</td>\n",
       "      <td>0.460429</td>\n",
       "    </tr>\n",
       "    <tr>\n",
       "      <th>7</th>\n",
       "      <td>foo</td>\n",
       "      <td>three</td>\n",
       "      <td>-0.594629</td>\n",
       "      <td>0.504813</td>\n",
       "    </tr>\n",
       "  </tbody>\n",
       "</table>\n",
       "</div>"
      ],
      "text/plain": [
       "     A      B         C         D\n",
       "0  foo    one -1.041123  0.737415\n",
       "1  bar    one  0.291852  0.013531\n",
       "2  foo    two -1.224050  0.391930\n",
       "3  bar  three  0.621681 -0.534412\n",
       "4  foo    two  0.760493 -0.294558\n",
       "5  bar    two  0.313155  2.205908\n",
       "6  foo    one  0.868063  0.460429\n",
       "7  foo  three -0.594629  0.504813"
      ]
     },
     "execution_count": 64,
     "metadata": {},
     "output_type": "execute_result"
    }
   ],
   "source": [
    "df = pd.DataFrame({'A' : ['foo', 'bar', 'foo', 'bar',\n",
    "   ....:                          'foo', 'bar', 'foo', 'foo'],\n",
    "   ....:                    'B' : ['one', 'one', 'two', 'three',\n",
    "   ....:                          'two', 'two', 'one', 'three'],\n",
    "   ....:                    'C' : np.random.randn(8),\n",
    "   ....:                    'D' : np.random.randn(8)})\n",
    "   ....: \n",
    "        \n",
    "df"
   ]
  },
  {
   "cell_type": "markdown",
   "metadata": {},
   "source": [
    "## Grouping"
   ]
  },
  {
   "cell_type": "code",
   "execution_count": 65,
   "metadata": {},
   "outputs": [
    {
     "data": {
      "text/html": [
       "<div>\n",
       "<style>\n",
       "    .dataframe thead tr:only-child th {\n",
       "        text-align: right;\n",
       "    }\n",
       "\n",
       "    .dataframe thead th {\n",
       "        text-align: left;\n",
       "    }\n",
       "\n",
       "    .dataframe tbody tr th {\n",
       "        vertical-align: top;\n",
       "    }\n",
       "</style>\n",
       "<table border=\"1\" class=\"dataframe\">\n",
       "  <thead>\n",
       "    <tr style=\"text-align: right;\">\n",
       "      <th></th>\n",
       "      <th>C</th>\n",
       "      <th>D</th>\n",
       "    </tr>\n",
       "    <tr>\n",
       "      <th>A</th>\n",
       "      <th></th>\n",
       "      <th></th>\n",
       "    </tr>\n",
       "  </thead>\n",
       "  <tbody>\n",
       "    <tr>\n",
       "      <th>bar</th>\n",
       "      <td>1.226688</td>\n",
       "      <td>1.685026</td>\n",
       "    </tr>\n",
       "    <tr>\n",
       "      <th>foo</th>\n",
       "      <td>-1.231246</td>\n",
       "      <td>1.800030</td>\n",
       "    </tr>\n",
       "  </tbody>\n",
       "</table>\n",
       "</div>"
      ],
      "text/plain": [
       "            C         D\n",
       "A                      \n",
       "bar  1.226688  1.685026\n",
       "foo -1.231246  1.800030"
      ]
     },
     "execution_count": 65,
     "metadata": {},
     "output_type": "execute_result"
    }
   ],
   "source": [
    "df.groupby('A').sum()"
   ]
  },
  {
   "cell_type": "code",
   "execution_count": 66,
   "metadata": {},
   "outputs": [
    {
     "data": {
      "text/html": [
       "<div>\n",
       "<style>\n",
       "    .dataframe thead tr:only-child th {\n",
       "        text-align: right;\n",
       "    }\n",
       "\n",
       "    .dataframe thead th {\n",
       "        text-align: left;\n",
       "    }\n",
       "\n",
       "    .dataframe tbody tr th {\n",
       "        vertical-align: top;\n",
       "    }\n",
       "</style>\n",
       "<table border=\"1\" class=\"dataframe\">\n",
       "  <thead>\n",
       "    <tr style=\"text-align: right;\">\n",
       "      <th></th>\n",
       "      <th></th>\n",
       "      <th>C</th>\n",
       "      <th>D</th>\n",
       "    </tr>\n",
       "    <tr>\n",
       "      <th>A</th>\n",
       "      <th>B</th>\n",
       "      <th></th>\n",
       "      <th></th>\n",
       "    </tr>\n",
       "  </thead>\n",
       "  <tbody>\n",
       "    <tr>\n",
       "      <th rowspan=\"3\" valign=\"top\">bar</th>\n",
       "      <th>one</th>\n",
       "      <td>0.291852</td>\n",
       "      <td>0.013531</td>\n",
       "    </tr>\n",
       "    <tr>\n",
       "      <th>three</th>\n",
       "      <td>0.621681</td>\n",
       "      <td>-0.534412</td>\n",
       "    </tr>\n",
       "    <tr>\n",
       "      <th>two</th>\n",
       "      <td>0.313155</td>\n",
       "      <td>2.205908</td>\n",
       "    </tr>\n",
       "    <tr>\n",
       "      <th rowspan=\"3\" valign=\"top\">foo</th>\n",
       "      <th>one</th>\n",
       "      <td>-0.173060</td>\n",
       "      <td>1.197845</td>\n",
       "    </tr>\n",
       "    <tr>\n",
       "      <th>three</th>\n",
       "      <td>-0.594629</td>\n",
       "      <td>0.504813</td>\n",
       "    </tr>\n",
       "    <tr>\n",
       "      <th>two</th>\n",
       "      <td>-0.463557</td>\n",
       "      <td>0.097372</td>\n",
       "    </tr>\n",
       "  </tbody>\n",
       "</table>\n",
       "</div>"
      ],
      "text/plain": [
       "                  C         D\n",
       "A   B                        \n",
       "bar one    0.291852  0.013531\n",
       "    three  0.621681 -0.534412\n",
       "    two    0.313155  2.205908\n",
       "foo one   -0.173060  1.197845\n",
       "    three -0.594629  0.504813\n",
       "    two   -0.463557  0.097372"
      ]
     },
     "execution_count": 66,
     "metadata": {},
     "output_type": "execute_result"
    }
   ],
   "source": [
    "df.groupby(['A','B']).sum()"
   ]
  },
  {
   "cell_type": "markdown",
   "metadata": {},
   "source": [
    "## Stack"
   ]
  },
  {
   "cell_type": "code",
   "execution_count": 67,
   "metadata": {},
   "outputs": [
    {
     "data": {
      "text/html": [
       "<div>\n",
       "<style>\n",
       "    .dataframe thead tr:only-child th {\n",
       "        text-align: right;\n",
       "    }\n",
       "\n",
       "    .dataframe thead th {\n",
       "        text-align: left;\n",
       "    }\n",
       "\n",
       "    .dataframe tbody tr th {\n",
       "        vertical-align: top;\n",
       "    }\n",
       "</style>\n",
       "<table border=\"1\" class=\"dataframe\">\n",
       "  <thead>\n",
       "    <tr style=\"text-align: right;\">\n",
       "      <th></th>\n",
       "      <th></th>\n",
       "      <th>A</th>\n",
       "      <th>B</th>\n",
       "    </tr>\n",
       "    <tr>\n",
       "      <th>first</th>\n",
       "      <th>second</th>\n",
       "      <th></th>\n",
       "      <th></th>\n",
       "    </tr>\n",
       "  </thead>\n",
       "  <tbody>\n",
       "    <tr>\n",
       "      <th rowspan=\"2\" valign=\"top\">bar</th>\n",
       "      <th>one</th>\n",
       "      <td>0.080766</td>\n",
       "      <td>-0.354664</td>\n",
       "    </tr>\n",
       "    <tr>\n",
       "      <th>two</th>\n",
       "      <td>0.303445</td>\n",
       "      <td>1.277421</td>\n",
       "    </tr>\n",
       "    <tr>\n",
       "      <th rowspan=\"2\" valign=\"top\">baz</th>\n",
       "      <th>one</th>\n",
       "      <td>1.062678</td>\n",
       "      <td>-0.129409</td>\n",
       "    </tr>\n",
       "    <tr>\n",
       "      <th>two</th>\n",
       "      <td>-0.212398</td>\n",
       "      <td>1.429073</td>\n",
       "    </tr>\n",
       "  </tbody>\n",
       "</table>\n",
       "</div>"
      ],
      "text/plain": [
       "                     A         B\n",
       "first second                    \n",
       "bar   one     0.080766 -0.354664\n",
       "      two     0.303445  1.277421\n",
       "baz   one     1.062678 -0.129409\n",
       "      two    -0.212398  1.429073"
      ]
     },
     "execution_count": 67,
     "metadata": {},
     "output_type": "execute_result"
    }
   ],
   "source": [
    "tuples = list(zip(*[['bar', 'bar', 'baz', 'baz',\n",
    "   ....:                      'foo', 'foo', 'qux', 'qux'],\n",
    "   ....:                     ['one', 'two', 'one', 'two',\n",
    "   ....:                      'one', 'two', 'one', 'two']]))\n",
    "   ....: \n",
    "        \n",
    "index = pd.MultiIndex.from_tuples(tuples, names=['first', 'second'])\n",
    "\n",
    "df = pd.DataFrame(np.random.randn(8, 2), index=index, columns=['A', 'B'])\n",
    "\n",
    "df2 = df[:4]\n",
    "\n",
    "df2"
   ]
  },
  {
   "cell_type": "code",
   "execution_count": 68,
   "metadata": {},
   "outputs": [
    {
     "data": {
      "text/plain": [
       "first  second   \n",
       "bar    one     A    0.080766\n",
       "               B   -0.354664\n",
       "       two     A    0.303445\n",
       "               B    1.277421\n",
       "baz    one     A    1.062678\n",
       "               B   -0.129409\n",
       "       two     A   -0.212398\n",
       "               B    1.429073\n",
       "dtype: float64"
      ]
     },
     "execution_count": 68,
     "metadata": {},
     "output_type": "execute_result"
    }
   ],
   "source": [
    "stacked = df2.stack()\n",
    "\n",
    "stacked "
   ]
  },
  {
   "cell_type": "code",
   "execution_count": 69,
   "metadata": {},
   "outputs": [
    {
     "data": {
      "text/html": [
       "<div>\n",
       "<style>\n",
       "    .dataframe thead tr:only-child th {\n",
       "        text-align: right;\n",
       "    }\n",
       "\n",
       "    .dataframe thead th {\n",
       "        text-align: left;\n",
       "    }\n",
       "\n",
       "    .dataframe tbody tr th {\n",
       "        vertical-align: top;\n",
       "    }\n",
       "</style>\n",
       "<table border=\"1\" class=\"dataframe\">\n",
       "  <thead>\n",
       "    <tr style=\"text-align: right;\">\n",
       "      <th></th>\n",
       "      <th></th>\n",
       "      <th>A</th>\n",
       "      <th>B</th>\n",
       "    </tr>\n",
       "    <tr>\n",
       "      <th>first</th>\n",
       "      <th>second</th>\n",
       "      <th></th>\n",
       "      <th></th>\n",
       "    </tr>\n",
       "  </thead>\n",
       "  <tbody>\n",
       "    <tr>\n",
       "      <th rowspan=\"2\" valign=\"top\">bar</th>\n",
       "      <th>one</th>\n",
       "      <td>0.080766</td>\n",
       "      <td>-0.354664</td>\n",
       "    </tr>\n",
       "    <tr>\n",
       "      <th>two</th>\n",
       "      <td>0.303445</td>\n",
       "      <td>1.277421</td>\n",
       "    </tr>\n",
       "    <tr>\n",
       "      <th rowspan=\"2\" valign=\"top\">baz</th>\n",
       "      <th>one</th>\n",
       "      <td>1.062678</td>\n",
       "      <td>-0.129409</td>\n",
       "    </tr>\n",
       "    <tr>\n",
       "      <th>two</th>\n",
       "      <td>-0.212398</td>\n",
       "      <td>1.429073</td>\n",
       "    </tr>\n",
       "  </tbody>\n",
       "</table>\n",
       "</div>"
      ],
      "text/plain": [
       "                     A         B\n",
       "first second                    \n",
       "bar   one     0.080766 -0.354664\n",
       "      two     0.303445  1.277421\n",
       "baz   one     1.062678 -0.129409\n",
       "      two    -0.212398  1.429073"
      ]
     },
     "execution_count": 69,
     "metadata": {},
     "output_type": "execute_result"
    }
   ],
   "source": [
    "stacked.unstack()"
   ]
  },
  {
   "cell_type": "code",
   "execution_count": 70,
   "metadata": {},
   "outputs": [
    {
     "data": {
      "text/html": [
       "<div>\n",
       "<style>\n",
       "    .dataframe thead tr:only-child th {\n",
       "        text-align: right;\n",
       "    }\n",
       "\n",
       "    .dataframe thead th {\n",
       "        text-align: left;\n",
       "    }\n",
       "\n",
       "    .dataframe tbody tr th {\n",
       "        vertical-align: top;\n",
       "    }\n",
       "</style>\n",
       "<table border=\"1\" class=\"dataframe\">\n",
       "  <thead>\n",
       "    <tr style=\"text-align: right;\">\n",
       "      <th></th>\n",
       "      <th>second</th>\n",
       "      <th>one</th>\n",
       "      <th>two</th>\n",
       "    </tr>\n",
       "    <tr>\n",
       "      <th>first</th>\n",
       "      <th></th>\n",
       "      <th></th>\n",
       "      <th></th>\n",
       "    </tr>\n",
       "  </thead>\n",
       "  <tbody>\n",
       "    <tr>\n",
       "      <th rowspan=\"2\" valign=\"top\">bar</th>\n",
       "      <th>A</th>\n",
       "      <td>0.080766</td>\n",
       "      <td>0.303445</td>\n",
       "    </tr>\n",
       "    <tr>\n",
       "      <th>B</th>\n",
       "      <td>-0.354664</td>\n",
       "      <td>1.277421</td>\n",
       "    </tr>\n",
       "    <tr>\n",
       "      <th rowspan=\"2\" valign=\"top\">baz</th>\n",
       "      <th>A</th>\n",
       "      <td>1.062678</td>\n",
       "      <td>-0.212398</td>\n",
       "    </tr>\n",
       "    <tr>\n",
       "      <th>B</th>\n",
       "      <td>-0.129409</td>\n",
       "      <td>1.429073</td>\n",
       "    </tr>\n",
       "  </tbody>\n",
       "</table>\n",
       "</div>"
      ],
      "text/plain": [
       "second        one       two\n",
       "first                      \n",
       "bar   A  0.080766  0.303445\n",
       "      B -0.354664  1.277421\n",
       "baz   A  1.062678 -0.212398\n",
       "      B -0.129409  1.429073"
      ]
     },
     "execution_count": 70,
     "metadata": {},
     "output_type": "execute_result"
    }
   ],
   "source": [
    "stacked.unstack(1)"
   ]
  },
  {
   "cell_type": "code",
   "execution_count": 71,
   "metadata": {},
   "outputs": [
    {
     "data": {
      "text/html": [
       "<div>\n",
       "<style>\n",
       "    .dataframe thead tr:only-child th {\n",
       "        text-align: right;\n",
       "    }\n",
       "\n",
       "    .dataframe thead th {\n",
       "        text-align: left;\n",
       "    }\n",
       "\n",
       "    .dataframe tbody tr th {\n",
       "        vertical-align: top;\n",
       "    }\n",
       "</style>\n",
       "<table border=\"1\" class=\"dataframe\">\n",
       "  <thead>\n",
       "    <tr style=\"text-align: right;\">\n",
       "      <th></th>\n",
       "      <th>first</th>\n",
       "      <th>bar</th>\n",
       "      <th>baz</th>\n",
       "    </tr>\n",
       "    <tr>\n",
       "      <th>second</th>\n",
       "      <th></th>\n",
       "      <th></th>\n",
       "      <th></th>\n",
       "    </tr>\n",
       "  </thead>\n",
       "  <tbody>\n",
       "    <tr>\n",
       "      <th rowspan=\"2\" valign=\"top\">one</th>\n",
       "      <th>A</th>\n",
       "      <td>0.080766</td>\n",
       "      <td>1.062678</td>\n",
       "    </tr>\n",
       "    <tr>\n",
       "      <th>B</th>\n",
       "      <td>-0.354664</td>\n",
       "      <td>-0.129409</td>\n",
       "    </tr>\n",
       "    <tr>\n",
       "      <th rowspan=\"2\" valign=\"top\">two</th>\n",
       "      <th>A</th>\n",
       "      <td>0.303445</td>\n",
       "      <td>-0.212398</td>\n",
       "    </tr>\n",
       "    <tr>\n",
       "      <th>B</th>\n",
       "      <td>1.277421</td>\n",
       "      <td>1.429073</td>\n",
       "    </tr>\n",
       "  </tbody>\n",
       "</table>\n",
       "</div>"
      ],
      "text/plain": [
       "first          bar       baz\n",
       "second                      \n",
       "one    A  0.080766  1.062678\n",
       "       B -0.354664 -0.129409\n",
       "two    A  0.303445 -0.212398\n",
       "       B  1.277421  1.429073"
      ]
     },
     "execution_count": 71,
     "metadata": {},
     "output_type": "execute_result"
    }
   ],
   "source": [
    "stacked.unstack(0)"
   ]
  },
  {
   "cell_type": "code",
   "execution_count": 72,
   "metadata": {},
   "outputs": [
    {
     "data": {
      "text/html": [
       "<div>\n",
       "<style>\n",
       "    .dataframe thead tr:only-child th {\n",
       "        text-align: right;\n",
       "    }\n",
       "\n",
       "    .dataframe thead th {\n",
       "        text-align: left;\n",
       "    }\n",
       "\n",
       "    .dataframe tbody tr th {\n",
       "        vertical-align: top;\n",
       "    }\n",
       "</style>\n",
       "<table border=\"1\" class=\"dataframe\">\n",
       "  <thead>\n",
       "    <tr style=\"text-align: right;\">\n",
       "      <th></th>\n",
       "      <th>A</th>\n",
       "      <th>B</th>\n",
       "      <th>C</th>\n",
       "      <th>D</th>\n",
       "      <th>E</th>\n",
       "    </tr>\n",
       "  </thead>\n",
       "  <tbody>\n",
       "    <tr>\n",
       "      <th>0</th>\n",
       "      <td>one</td>\n",
       "      <td>A</td>\n",
       "      <td>foo</td>\n",
       "      <td>-0.205510</td>\n",
       "      <td>-0.679928</td>\n",
       "    </tr>\n",
       "    <tr>\n",
       "      <th>1</th>\n",
       "      <td>one</td>\n",
       "      <td>B</td>\n",
       "      <td>foo</td>\n",
       "      <td>1.103425</td>\n",
       "      <td>1.041510</td>\n",
       "    </tr>\n",
       "    <tr>\n",
       "      <th>2</th>\n",
       "      <td>two</td>\n",
       "      <td>C</td>\n",
       "      <td>foo</td>\n",
       "      <td>1.125007</td>\n",
       "      <td>-1.420997</td>\n",
       "    </tr>\n",
       "    <tr>\n",
       "      <th>3</th>\n",
       "      <td>three</td>\n",
       "      <td>A</td>\n",
       "      <td>bar</td>\n",
       "      <td>-0.119722</td>\n",
       "      <td>1.008541</td>\n",
       "    </tr>\n",
       "    <tr>\n",
       "      <th>4</th>\n",
       "      <td>one</td>\n",
       "      <td>B</td>\n",
       "      <td>bar</td>\n",
       "      <td>-1.490830</td>\n",
       "      <td>-0.352484</td>\n",
       "    </tr>\n",
       "    <tr>\n",
       "      <th>5</th>\n",
       "      <td>one</td>\n",
       "      <td>C</td>\n",
       "      <td>bar</td>\n",
       "      <td>-1.001101</td>\n",
       "      <td>0.345048</td>\n",
       "    </tr>\n",
       "    <tr>\n",
       "      <th>6</th>\n",
       "      <td>two</td>\n",
       "      <td>A</td>\n",
       "      <td>foo</td>\n",
       "      <td>-1.130468</td>\n",
       "      <td>0.621845</td>\n",
       "    </tr>\n",
       "    <tr>\n",
       "      <th>7</th>\n",
       "      <td>three</td>\n",
       "      <td>B</td>\n",
       "      <td>foo</td>\n",
       "      <td>0.406999</td>\n",
       "      <td>0.905440</td>\n",
       "    </tr>\n",
       "    <tr>\n",
       "      <th>8</th>\n",
       "      <td>one</td>\n",
       "      <td>C</td>\n",
       "      <td>foo</td>\n",
       "      <td>0.404920</td>\n",
       "      <td>-0.179066</td>\n",
       "    </tr>\n",
       "    <tr>\n",
       "      <th>9</th>\n",
       "      <td>one</td>\n",
       "      <td>A</td>\n",
       "      <td>bar</td>\n",
       "      <td>1.385306</td>\n",
       "      <td>0.123467</td>\n",
       "    </tr>\n",
       "    <tr>\n",
       "      <th>10</th>\n",
       "      <td>two</td>\n",
       "      <td>B</td>\n",
       "      <td>bar</td>\n",
       "      <td>0.838099</td>\n",
       "      <td>-2.222877</td>\n",
       "    </tr>\n",
       "    <tr>\n",
       "      <th>11</th>\n",
       "      <td>three</td>\n",
       "      <td>C</td>\n",
       "      <td>bar</td>\n",
       "      <td>0.007584</td>\n",
       "      <td>1.438431</td>\n",
       "    </tr>\n",
       "  </tbody>\n",
       "</table>\n",
       "</div>"
      ],
      "text/plain": [
       "        A  B    C         D         E\n",
       "0     one  A  foo -0.205510 -0.679928\n",
       "1     one  B  foo  1.103425  1.041510\n",
       "2     two  C  foo  1.125007 -1.420997\n",
       "3   three  A  bar -0.119722  1.008541\n",
       "4     one  B  bar -1.490830 -0.352484\n",
       "5     one  C  bar -1.001101  0.345048\n",
       "6     two  A  foo -1.130468  0.621845\n",
       "7   three  B  foo  0.406999  0.905440\n",
       "8     one  C  foo  0.404920 -0.179066\n",
       "9     one  A  bar  1.385306  0.123467\n",
       "10    two  B  bar  0.838099 -2.222877\n",
       "11  three  C  bar  0.007584  1.438431"
      ]
     },
     "execution_count": 72,
     "metadata": {},
     "output_type": "execute_result"
    }
   ],
   "source": [
    "df = pd.DataFrame({'A' : ['one', 'one', 'two', 'three'] * 3,\n",
    "   .....:                    'B' : ['A', 'B', 'C'] * 4,\n",
    "   .....:                    'C' : ['foo', 'foo', 'foo', 'bar', 'bar', 'bar'] * 2,\n",
    "   .....:                    'D' : np.random.randn(12),\n",
    "   .....:                    'E' : np.random.randn(12)})\n",
    "   .....: \n",
    "        \n",
    "df "
   ]
  },
  {
   "cell_type": "code",
   "execution_count": 73,
   "metadata": {},
   "outputs": [
    {
     "data": {
      "text/html": [
       "<div>\n",
       "<style>\n",
       "    .dataframe thead tr:only-child th {\n",
       "        text-align: right;\n",
       "    }\n",
       "\n",
       "    .dataframe thead th {\n",
       "        text-align: left;\n",
       "    }\n",
       "\n",
       "    .dataframe tbody tr th {\n",
       "        vertical-align: top;\n",
       "    }\n",
       "</style>\n",
       "<table border=\"1\" class=\"dataframe\">\n",
       "  <thead>\n",
       "    <tr style=\"text-align: right;\">\n",
       "      <th></th>\n",
       "      <th>C</th>\n",
       "      <th>bar</th>\n",
       "      <th>foo</th>\n",
       "    </tr>\n",
       "    <tr>\n",
       "      <th>A</th>\n",
       "      <th>B</th>\n",
       "      <th></th>\n",
       "      <th></th>\n",
       "    </tr>\n",
       "  </thead>\n",
       "  <tbody>\n",
       "    <tr>\n",
       "      <th rowspan=\"3\" valign=\"top\">one</th>\n",
       "      <th>A</th>\n",
       "      <td>1.385306</td>\n",
       "      <td>-0.205510</td>\n",
       "    </tr>\n",
       "    <tr>\n",
       "      <th>B</th>\n",
       "      <td>-1.490830</td>\n",
       "      <td>1.103425</td>\n",
       "    </tr>\n",
       "    <tr>\n",
       "      <th>C</th>\n",
       "      <td>-1.001101</td>\n",
       "      <td>0.404920</td>\n",
       "    </tr>\n",
       "    <tr>\n",
       "      <th rowspan=\"3\" valign=\"top\">three</th>\n",
       "      <th>A</th>\n",
       "      <td>-0.119722</td>\n",
       "      <td>NaN</td>\n",
       "    </tr>\n",
       "    <tr>\n",
       "      <th>B</th>\n",
       "      <td>NaN</td>\n",
       "      <td>0.406999</td>\n",
       "    </tr>\n",
       "    <tr>\n",
       "      <th>C</th>\n",
       "      <td>0.007584</td>\n",
       "      <td>NaN</td>\n",
       "    </tr>\n",
       "    <tr>\n",
       "      <th rowspan=\"3\" valign=\"top\">two</th>\n",
       "      <th>A</th>\n",
       "      <td>NaN</td>\n",
       "      <td>-1.130468</td>\n",
       "    </tr>\n",
       "    <tr>\n",
       "      <th>B</th>\n",
       "      <td>0.838099</td>\n",
       "      <td>NaN</td>\n",
       "    </tr>\n",
       "    <tr>\n",
       "      <th>C</th>\n",
       "      <td>NaN</td>\n",
       "      <td>1.125007</td>\n",
       "    </tr>\n",
       "  </tbody>\n",
       "</table>\n",
       "</div>"
      ],
      "text/plain": [
       "C             bar       foo\n",
       "A     B                    \n",
       "one   A  1.385306 -0.205510\n",
       "      B -1.490830  1.103425\n",
       "      C -1.001101  0.404920\n",
       "three A -0.119722       NaN\n",
       "      B       NaN  0.406999\n",
       "      C  0.007584       NaN\n",
       "two   A       NaN -1.130468\n",
       "      B  0.838099       NaN\n",
       "      C       NaN  1.125007"
      ]
     },
     "execution_count": 73,
     "metadata": {},
     "output_type": "execute_result"
    }
   ],
   "source": [
    "pd.pivot_table(df, values='D', index=['A', 'B'], columns=['C'])"
   ]
  },
  {
   "cell_type": "markdown",
   "metadata": {},
   "source": [
    "## Time Series"
   ]
  },
  {
   "cell_type": "code",
   "execution_count": 14,
   "metadata": {},
   "outputs": [
    {
     "output_type": "execute_result",
     "data": {
      "text/plain": "2019-01-01    25540\nFreq: 5T, dtype: int32"
     },
     "metadata": {},
     "execution_count": 14
    }
   ],
   "source": [
    "rng = pd.date_range('1/1/2019', periods=100, freq='S')\n",
    "\n",
    "ts = pd.Series(np.random.randint(0, 500, len(rng)), index=rng)\n",
    "\n",
    "ts.resample('5Min', how='sum')"
   ]
  },
  {
   "cell_type": "code",
   "execution_count": 75,
   "metadata": {},
   "outputs": [
    {
     "data": {
      "text/plain": [
       "2012-01-01 00:00:00    371\n",
       "2012-01-01 00:00:01    157\n",
       "2012-01-01 00:00:02    344\n",
       "2012-01-01 00:00:03    470\n",
       "2012-01-01 00:00:04    486\n",
       "2012-01-01 00:00:05    397\n",
       "2012-01-01 00:00:06     46\n",
       "2012-01-01 00:00:07     77\n",
       "2012-01-01 00:00:08    390\n",
       "2012-01-01 00:00:09      0\n",
       "2012-01-01 00:00:10    208\n",
       "2012-01-01 00:00:11    259\n",
       "2012-01-01 00:00:12    364\n",
       "2012-01-01 00:00:13    441\n",
       "2012-01-01 00:00:14    290\n",
       "                      ... \n",
       "2012-01-01 00:01:25    164\n",
       "2012-01-01 00:01:26    218\n",
       "2012-01-01 00:01:27     91\n",
       "2012-01-01 00:01:28    170\n",
       "2012-01-01 00:01:29    427\n",
       "2012-01-01 00:01:30    224\n",
       "2012-01-01 00:01:31    130\n",
       "2012-01-01 00:01:32    482\n",
       "2012-01-01 00:01:33    375\n",
       "2012-01-01 00:01:34    292\n",
       "2012-01-01 00:01:35    114\n",
       "2012-01-01 00:01:36    143\n",
       "2012-01-01 00:01:37    448\n",
       "2012-01-01 00:01:38    435\n",
       "2012-01-01 00:01:39    471\n",
       "Freq: S, Length: 100, dtype: int64"
      ]
     },
     "execution_count": 75,
     "metadata": {},
     "output_type": "execute_result"
    }
   ],
   "source": [
    "ts"
   ]
  },
  {
   "cell_type": "code",
   "execution_count": 15,
   "metadata": {},
   "outputs": [
    {
     "output_type": "execute_result",
     "data": {
      "text/plain": "2012-03-06   -0.335075\n2012-03-07    1.021619\n2012-03-08    0.783749\n2012-03-09   -0.399156\n2012-03-10    0.869651\nFreq: D, dtype: float64"
     },
     "metadata": {},
     "execution_count": 15
    }
   ],
   "source": [
    "rng = pd.date_range('3/6/2012 00:00', periods=5, freq='D')\n",
    " \n",
    "ts = pd.Series(np.random.randn(len(rng)), rng)\n",
    "\n",
    "ts"
   ]
  },
  {
   "cell_type": "code",
   "execution_count": 16,
   "metadata": {},
   "outputs": [
    {
     "output_type": "execute_result",
     "data": {
      "text/plain": "2012-03-06 00:00:00+00:00   -0.335075\n2012-03-07 00:00:00+00:00    1.021619\n2012-03-08 00:00:00+00:00    0.783749\n2012-03-09 00:00:00+00:00   -0.399156\n2012-03-10 00:00:00+00:00    0.869651\nFreq: D, dtype: float64"
     },
     "metadata": {},
     "execution_count": 16
    }
   ],
   "source": [
    "ts_utc = ts.tz_localize('UTC')\n",
    "\n",
    "ts_utc"
   ]
  },
  {
   "cell_type": "code",
   "execution_count": 78,
   "metadata": {},
   "outputs": [
    {
     "data": {
      "text/plain": [
       "2012-03-05 19:00:00-05:00    0.947631\n",
       "2012-03-06 19:00:00-05:00    0.067918\n",
       "2012-03-07 19:00:00-05:00   -0.136712\n",
       "2012-03-08 19:00:00-05:00   -1.338626\n",
       "2012-03-09 19:00:00-05:00    0.187815\n",
       "Freq: D, dtype: float64"
      ]
     },
     "execution_count": 78,
     "metadata": {},
     "output_type": "execute_result"
    }
   ],
   "source": [
    "ts_utc.tz_convert('US/Eastern')"
   ]
  },
  {
   "cell_type": "code",
   "execution_count": 79,
   "metadata": {},
   "outputs": [
    {
     "data": {
      "text/plain": [
       "2012-01-31    1.394655\n",
       "2012-02-29    0.062511\n",
       "2012-03-31    0.457832\n",
       "2012-04-30   -0.907441\n",
       "2012-05-31   -1.054522\n",
       "Freq: M, dtype: float64"
      ]
     },
     "execution_count": 79,
     "metadata": {},
     "output_type": "execute_result"
    }
   ],
   "source": [
    "rng = pd.date_range('1/1/2012', periods=5, freq='M')\n",
    "\n",
    "ts = pd.Series(np.random.randn(len(rng)), index=rng)\n",
    "\n",
    "ts"
   ]
  },
  {
   "cell_type": "code",
   "execution_count": 80,
   "metadata": {},
   "outputs": [
    {
     "data": {
      "text/plain": [
       "2012-01    1.394655\n",
       "2012-02    0.062511\n",
       "2012-03    0.457832\n",
       "2012-04   -0.907441\n",
       "2012-05   -1.054522\n",
       "Freq: M, dtype: float64"
      ]
     },
     "execution_count": 80,
     "metadata": {},
     "output_type": "execute_result"
    }
   ],
   "source": [
    "ps = ts.to_period()\n",
    "\n",
    "ps"
   ]
  },
  {
   "cell_type": "code",
   "execution_count": 81,
   "metadata": {},
   "outputs": [
    {
     "data": {
      "text/plain": [
       "2012-01-01    1.394655\n",
       "2012-02-01    0.062511\n",
       "2012-03-01    0.457832\n",
       "2012-04-01   -0.907441\n",
       "2012-05-01   -1.054522\n",
       "Freq: MS, dtype: float64"
      ]
     },
     "execution_count": 81,
     "metadata": {},
     "output_type": "execute_result"
    }
   ],
   "source": [
    "ps.to_timestamp()"
   ]
  },
  {
   "cell_type": "code",
   "execution_count": 82,
   "metadata": {},
   "outputs": [
    {
     "data": {
      "text/plain": [
       "1990-03-01 09:00   -1.309780\n",
       "1990-06-01 09:00    0.140386\n",
       "1990-09-01 09:00    0.857485\n",
       "1990-12-01 09:00    2.320029\n",
       "1991-03-01 09:00   -1.019216\n",
       "Freq: H, dtype: float64"
      ]
     },
     "execution_count": 82,
     "metadata": {},
     "output_type": "execute_result"
    }
   ],
   "source": [
    "prng = pd.period_range('1990Q1', '2000Q4', freq='Q-NOV')\n",
    "\n",
    "ts = pd.Series(np.random.randn(len(prng)), prng)\n",
    "\n",
    "ts.index = (prng.asfreq('M', 'e') + 1).asfreq('H', 's') + 9\n",
    "\n",
    "ts.head()"
   ]
  },
  {
   "cell_type": "markdown",
   "metadata": {
    "collapsed": true
   },
   "source": [
    "## Categoricals"
   ]
  },
  {
   "cell_type": "code",
   "execution_count": 83,
   "metadata": {},
   "outputs": [
    {
     "data": {
      "text/html": [
       "<div>\n",
       "<style>\n",
       "    .dataframe thead tr:only-child th {\n",
       "        text-align: right;\n",
       "    }\n",
       "\n",
       "    .dataframe thead th {\n",
       "        text-align: left;\n",
       "    }\n",
       "\n",
       "    .dataframe tbody tr th {\n",
       "        vertical-align: top;\n",
       "    }\n",
       "</style>\n",
       "<table border=\"1\" class=\"dataframe\">\n",
       "  <thead>\n",
       "    <tr style=\"text-align: right;\">\n",
       "      <th></th>\n",
       "      <th>id</th>\n",
       "      <th>raw_grade</th>\n",
       "    </tr>\n",
       "  </thead>\n",
       "  <tbody>\n",
       "    <tr>\n",
       "      <th>0</th>\n",
       "      <td>1</td>\n",
       "      <td>a</td>\n",
       "    </tr>\n",
       "    <tr>\n",
       "      <th>1</th>\n",
       "      <td>2</td>\n",
       "      <td>b</td>\n",
       "    </tr>\n",
       "    <tr>\n",
       "      <th>2</th>\n",
       "      <td>3</td>\n",
       "      <td>b</td>\n",
       "    </tr>\n",
       "    <tr>\n",
       "      <th>3</th>\n",
       "      <td>4</td>\n",
       "      <td>a</td>\n",
       "    </tr>\n",
       "    <tr>\n",
       "      <th>4</th>\n",
       "      <td>5</td>\n",
       "      <td>a</td>\n",
       "    </tr>\n",
       "    <tr>\n",
       "      <th>5</th>\n",
       "      <td>6</td>\n",
       "      <td>e</td>\n",
       "    </tr>\n",
       "  </tbody>\n",
       "</table>\n",
       "</div>"
      ],
      "text/plain": [
       "   id raw_grade\n",
       "0   1         a\n",
       "1   2         b\n",
       "2   3         b\n",
       "3   4         a\n",
       "4   5         a\n",
       "5   6         e"
      ]
     },
     "execution_count": 83,
     "metadata": {},
     "output_type": "execute_result"
    }
   ],
   "source": [
    "df = pd.DataFrame({\"id\":[1,2,3,4,5,6], \"raw_grade\":['a', 'b', 'b', 'a', 'a', 'e']})\n",
    "\n",
    "df"
   ]
  },
  {
   "cell_type": "code",
   "execution_count": 84,
   "metadata": {},
   "outputs": [
    {
     "data": {
      "text/plain": [
       "0    a\n",
       "1    b\n",
       "2    b\n",
       "3    a\n",
       "4    a\n",
       "5    e\n",
       "Name: grade, dtype: category\n",
       "Categories (3, object): [a, b, e]"
      ]
     },
     "execution_count": 84,
     "metadata": {},
     "output_type": "execute_result"
    }
   ],
   "source": [
    "df[\"grade\"] = df[\"raw_grade\"].astype(\"category\")\n",
    "\n",
    "df[\"grade\"]"
   ]
  },
  {
   "cell_type": "code",
   "execution_count": 85,
   "metadata": {},
   "outputs": [],
   "source": [
    "df[\"grade\"].cat.categories = [\"very good\", \"good\", \"very bad\"]"
   ]
  },
  {
   "cell_type": "code",
   "execution_count": 86,
   "metadata": {},
   "outputs": [],
   "source": [
    "# df.sort removed\n",
    "# df.sort(\"grade\")"
   ]
  },
  {
   "cell_type": "code",
   "execution_count": 87,
   "metadata": {},
   "outputs": [
    {
     "data": {
      "text/plain": [
       "grade\n",
       "very good    3\n",
       "good         2\n",
       "very bad     1\n",
       "dtype: int64"
      ]
     },
     "execution_count": 87,
     "metadata": {},
     "output_type": "execute_result"
    }
   ],
   "source": [
    "df.groupby(\"grade\").size()"
   ]
  },
  {
   "cell_type": "markdown",
   "metadata": {
    "collapsed": true
   },
   "source": [
    "## Plotting"
   ]
  },
  {
   "cell_type": "code",
   "execution_count": 17,
   "metadata": {},
   "outputs": [
    {
     "output_type": "execute_result",
     "data": {
      "text/plain": "<matplotlib.axes._subplots.AxesSubplot at 0x205cb030b48>"
     },
     "metadata": {},
     "execution_count": 17
    },
    {
     "output_type": "display_data",
     "data": {
      "text/plain": "<Figure size 432x288 with 1 Axes>",
      "image/svg+xml": "<?xml version=\"1.0\" encoding=\"utf-8\" standalone=\"no\"?>\r\n<!DOCTYPE svg PUBLIC \"-//W3C//DTD SVG 1.1//EN\"\r\n  \"http://www.w3.org/Graphics/SVG/1.1/DTD/svg11.dtd\">\r\n<!-- Created with matplotlib (https://matplotlib.org/) -->\r\n<svg height=\"259.715937pt\" version=\"1.1\" viewBox=\"0 0 377.304688 259.715937\" width=\"377.304688pt\" xmlns=\"http://www.w3.org/2000/svg\" xmlns:xlink=\"http://www.w3.org/1999/xlink\">\r\n <defs>\r\n  <style type=\"text/css\">\r\n*{stroke-linecap:butt;stroke-linejoin:round;}\r\n  </style>\r\n </defs>\r\n <g id=\"figure_1\">\r\n  <g id=\"patch_1\">\r\n   <path d=\"M 0 259.715937 \r\nL 377.304688 259.715937 \r\nL 377.304688 0 \r\nL 0 0 \r\nz\r\n\" style=\"fill:none;\"/>\r\n  </g>\r\n  <g id=\"axes_1\">\r\n   <g id=\"patch_2\">\r\n    <path d=\"M 35.304688 224.64 \r\nL 370.104688 224.64 \r\nL 370.104688 7.2 \r\nL 35.304688 7.2 \r\nz\r\n\" style=\"fill:#ffffff;\"/>\r\n   </g>\r\n   <g id=\"matplotlib.axis_1\">\r\n    <g id=\"xtick_1\">\r\n     <g id=\"line2d_1\">\r\n      <defs>\r\n       <path d=\"M 0 0 \r\nL 0 3.5 \r\n\" id=\"mecce3d5d5a\" style=\"stroke:#000000;stroke-width:0.8;\"/>\r\n      </defs>\r\n      <g>\r\n       <use style=\"stroke:#000000;stroke-width:0.8;\" x=\"35.304688\" xlink:href=\"#mecce3d5d5a\" y=\"224.64\"/>\r\n      </g>\r\n     </g>\r\n     <g id=\"text_1\">\r\n      <!-- Jan -->\r\n      <defs>\r\n       <path d=\"M 9.8125 72.90625 \r\nL 19.671875 72.90625 \r\nL 19.671875 5.078125 \r\nQ 19.671875 -8.109375 14.671875 -14.0625 \r\nQ 9.671875 -20.015625 -1.421875 -20.015625 \r\nL -5.171875 -20.015625 \r\nL -5.171875 -11.71875 \r\nL -2.09375 -11.71875 \r\nQ 4.4375 -11.71875 7.125 -8.046875 \r\nQ 9.8125 -4.390625 9.8125 5.078125 \r\nz\r\n\" id=\"DejaVuSans-74\"/>\r\n       <path d=\"M 34.28125 27.484375 \r\nQ 23.390625 27.484375 19.1875 25 \r\nQ 14.984375 22.515625 14.984375 16.5 \r\nQ 14.984375 11.71875 18.140625 8.90625 \r\nQ 21.296875 6.109375 26.703125 6.109375 \r\nQ 34.1875 6.109375 38.703125 11.40625 \r\nQ 43.21875 16.703125 43.21875 25.484375 \r\nL 43.21875 27.484375 \r\nz\r\nM 52.203125 31.203125 \r\nL 52.203125 0 \r\nL 43.21875 0 \r\nL 43.21875 8.296875 \r\nQ 40.140625 3.328125 35.546875 0.953125 \r\nQ 30.953125 -1.421875 24.3125 -1.421875 \r\nQ 15.921875 -1.421875 10.953125 3.296875 \r\nQ 6 8.015625 6 15.921875 \r\nQ 6 25.140625 12.171875 29.828125 \r\nQ 18.359375 34.515625 30.609375 34.515625 \r\nL 43.21875 34.515625 \r\nL 43.21875 35.40625 \r\nQ 43.21875 41.609375 39.140625 45 \r\nQ 35.0625 48.390625 27.6875 48.390625 \r\nQ 23 48.390625 18.546875 47.265625 \r\nQ 14.109375 46.140625 10.015625 43.890625 \r\nL 10.015625 52.203125 \r\nQ 14.9375 54.109375 19.578125 55.046875 \r\nQ 24.21875 56 28.609375 56 \r\nQ 40.484375 56 46.34375 49.84375 \r\nQ 52.203125 43.703125 52.203125 31.203125 \r\nz\r\n\" id=\"DejaVuSans-97\"/>\r\n       <path d=\"M 54.890625 33.015625 \r\nL 54.890625 0 \r\nL 45.90625 0 \r\nL 45.90625 32.71875 \r\nQ 45.90625 40.484375 42.875 44.328125 \r\nQ 39.84375 48.1875 33.796875 48.1875 \r\nQ 26.515625 48.1875 22.3125 43.546875 \r\nQ 18.109375 38.921875 18.109375 30.90625 \r\nL 18.109375 0 \r\nL 9.078125 0 \r\nL 9.078125 54.6875 \r\nL 18.109375 54.6875 \r\nL 18.109375 46.1875 \r\nQ 21.34375 51.125 25.703125 53.5625 \r\nQ 30.078125 56 35.796875 56 \r\nQ 45.21875 56 50.046875 50.171875 \r\nQ 54.890625 44.34375 54.890625 33.015625 \r\nz\r\n\" id=\"DejaVuSans-110\"/>\r\n      </defs>\r\n      <g transform=\"translate(27.596875 239.238438)scale(0.1 -0.1)\">\r\n       <use xlink:href=\"#DejaVuSans-74\"/>\r\n       <use x=\"29.492188\" xlink:href=\"#DejaVuSans-97\"/>\r\n       <use x=\"90.771484\" xlink:href=\"#DejaVuSans-110\"/>\r\n      </g>\r\n      <!-- 2000 -->\r\n      <defs>\r\n       <path d=\"M 19.1875 8.296875 \r\nL 53.609375 8.296875 \r\nL 53.609375 0 \r\nL 7.328125 0 \r\nL 7.328125 8.296875 \r\nQ 12.9375 14.109375 22.625 23.890625 \r\nQ 32.328125 33.6875 34.8125 36.53125 \r\nQ 39.546875 41.84375 41.421875 45.53125 \r\nQ 43.3125 49.21875 43.3125 52.78125 \r\nQ 43.3125 58.59375 39.234375 62.25 \r\nQ 35.15625 65.921875 28.609375 65.921875 \r\nQ 23.96875 65.921875 18.8125 64.3125 \r\nQ 13.671875 62.703125 7.8125 59.421875 \r\nL 7.8125 69.390625 \r\nQ 13.765625 71.78125 18.9375 73 \r\nQ 24.125 74.21875 28.421875 74.21875 \r\nQ 39.75 74.21875 46.484375 68.546875 \r\nQ 53.21875 62.890625 53.21875 53.421875 \r\nQ 53.21875 48.921875 51.53125 44.890625 \r\nQ 49.859375 40.875 45.40625 35.40625 \r\nQ 44.1875 33.984375 37.640625 27.21875 \r\nQ 31.109375 20.453125 19.1875 8.296875 \r\nz\r\n\" id=\"DejaVuSans-50\"/>\r\n       <path d=\"M 31.78125 66.40625 \r\nQ 24.171875 66.40625 20.328125 58.90625 \r\nQ 16.5 51.421875 16.5 36.375 \r\nQ 16.5 21.390625 20.328125 13.890625 \r\nQ 24.171875 6.390625 31.78125 6.390625 \r\nQ 39.453125 6.390625 43.28125 13.890625 \r\nQ 47.125 21.390625 47.125 36.375 \r\nQ 47.125 51.421875 43.28125 58.90625 \r\nQ 39.453125 66.40625 31.78125 66.40625 \r\nz\r\nM 31.78125 74.21875 \r\nQ 44.046875 74.21875 50.515625 64.515625 \r\nQ 56.984375 54.828125 56.984375 36.375 \r\nQ 56.984375 17.96875 50.515625 8.265625 \r\nQ 44.046875 -1.421875 31.78125 -1.421875 \r\nQ 19.53125 -1.421875 13.0625 8.265625 \r\nQ 6.59375 17.96875 6.59375 36.375 \r\nQ 6.59375 54.828125 13.0625 64.515625 \r\nQ 19.53125 74.21875 31.78125 74.21875 \r\nz\r\n\" id=\"DejaVuSans-48\"/>\r\n      </defs>\r\n      <g transform=\"translate(22.579687 250.43625)scale(0.1 -0.1)\">\r\n       <use xlink:href=\"#DejaVuSans-50\"/>\r\n       <use x=\"63.623047\" xlink:href=\"#DejaVuSans-48\"/>\r\n       <use x=\"127.246094\" xlink:href=\"#DejaVuSans-48\"/>\r\n       <use x=\"190.869141\" xlink:href=\"#DejaVuSans-48\"/>\r\n      </g>\r\n     </g>\r\n    </g>\r\n    <g id=\"xtick_2\">\r\n     <g id=\"line2d_2\">\r\n      <g>\r\n       <use style=\"stroke:#000000;stroke-width:0.8;\" x=\"157.964147\" xlink:href=\"#mecce3d5d5a\" y=\"224.64\"/>\r\n      </g>\r\n     </g>\r\n     <g id=\"text_2\">\r\n      <!-- Jan -->\r\n      <g transform=\"translate(150.256334 239.238438)scale(0.1 -0.1)\">\r\n       <use xlink:href=\"#DejaVuSans-74\"/>\r\n       <use x=\"29.492188\" xlink:href=\"#DejaVuSans-97\"/>\r\n       <use x=\"90.771484\" xlink:href=\"#DejaVuSans-110\"/>\r\n      </g>\r\n      <!-- 2001 -->\r\n      <defs>\r\n       <path d=\"M 12.40625 8.296875 \r\nL 28.515625 8.296875 \r\nL 28.515625 63.921875 \r\nL 10.984375 60.40625 \r\nL 10.984375 69.390625 \r\nL 28.421875 72.90625 \r\nL 38.28125 72.90625 \r\nL 38.28125 8.296875 \r\nL 54.390625 8.296875 \r\nL 54.390625 0 \r\nL 12.40625 0 \r\nz\r\n\" id=\"DejaVuSans-49\"/>\r\n      </defs>\r\n      <g transform=\"translate(145.239147 250.43625)scale(0.1 -0.1)\">\r\n       <use xlink:href=\"#DejaVuSans-50\"/>\r\n       <use x=\"63.623047\" xlink:href=\"#DejaVuSans-48\"/>\r\n       <use x=\"127.246094\" xlink:href=\"#DejaVuSans-48\"/>\r\n       <use x=\"190.869141\" xlink:href=\"#DejaVuSans-49\"/>\r\n      </g>\r\n     </g>\r\n    </g>\r\n    <g id=\"xtick_3\">\r\n     <g id=\"line2d_3\">\r\n      <g>\r\n       <use style=\"stroke:#000000;stroke-width:0.8;\" x=\"280.288471\" xlink:href=\"#mecce3d5d5a\" y=\"224.64\"/>\r\n      </g>\r\n     </g>\r\n     <g id=\"text_3\">\r\n      <!-- Jan -->\r\n      <g transform=\"translate(272.580659 239.238438)scale(0.1 -0.1)\">\r\n       <use xlink:href=\"#DejaVuSans-74\"/>\r\n       <use x=\"29.492188\" xlink:href=\"#DejaVuSans-97\"/>\r\n       <use x=\"90.771484\" xlink:href=\"#DejaVuSans-110\"/>\r\n      </g>\r\n      <!-- 2002 -->\r\n      <g transform=\"translate(267.563471 250.43625)scale(0.1 -0.1)\">\r\n       <use xlink:href=\"#DejaVuSans-50\"/>\r\n       <use x=\"63.623047\" xlink:href=\"#DejaVuSans-48\"/>\r\n       <use x=\"127.246094\" xlink:href=\"#DejaVuSans-48\"/>\r\n       <use x=\"190.869141\" xlink:href=\"#DejaVuSans-50\"/>\r\n      </g>\r\n     </g>\r\n    </g>\r\n    <g id=\"xtick_4\">\r\n     <g id=\"line2d_4\">\r\n      <g>\r\n       <use style=\"stroke:#000000;stroke-width:0.8;\" x=\"370.104688\" xlink:href=\"#mecce3d5d5a\" y=\"224.64\"/>\r\n      </g>\r\n     </g>\r\n    </g>\r\n    <g id=\"xtick_5\">\r\n     <g id=\"line2d_5\">\r\n      <defs>\r\n       <path d=\"M 0 0 \r\nL 0 2 \r\n\" id=\"m46a76ea94b\" style=\"stroke:#000000;stroke-width:0.6;\"/>\r\n      </defs>\r\n      <g>\r\n       <use style=\"stroke:#000000;stroke-width:0.6;\" x=\"45.693877\" xlink:href=\"#m46a76ea94b\" y=\"224.64\"/>\r\n      </g>\r\n     </g>\r\n    </g>\r\n    <g id=\"xtick_6\">\r\n     <g id=\"line2d_6\">\r\n      <g>\r\n       <use style=\"stroke:#000000;stroke-width:0.6;\" x=\"55.412796\" xlink:href=\"#m46a76ea94b\" y=\"224.64\"/>\r\n      </g>\r\n     </g>\r\n    </g>\r\n    <g id=\"xtick_7\">\r\n     <g id=\"line2d_7\">\r\n      <g>\r\n       <use style=\"stroke:#000000;stroke-width:0.6;\" x=\"65.801985\" xlink:href=\"#m46a76ea94b\" y=\"224.64\"/>\r\n      </g>\r\n     </g>\r\n    </g>\r\n    <g id=\"xtick_8\">\r\n     <g id=\"line2d_8\">\r\n      <g>\r\n       <use style=\"stroke:#000000;stroke-width:0.6;\" x=\"75.856039\" xlink:href=\"#m46a76ea94b\" y=\"224.64\"/>\r\n      </g>\r\n     </g>\r\n    </g>\r\n    <g id=\"xtick_9\">\r\n     <g id=\"line2d_9\">\r\n      <g>\r\n       <use style=\"stroke:#000000;stroke-width:0.6;\" x=\"86.245228\" xlink:href=\"#m46a76ea94b\" y=\"224.64\"/>\r\n      </g>\r\n     </g>\r\n    </g>\r\n    <g id=\"xtick_10\">\r\n     <g id=\"line2d_10\">\r\n      <g>\r\n       <use style=\"stroke:#000000;stroke-width:0.6;\" x=\"96.299282\" xlink:href=\"#m46a76ea94b\" y=\"224.64\"/>\r\n      </g>\r\n     </g>\r\n     <g id=\"text_4\">\r\n      <!-- Jul -->\r\n      <defs>\r\n       <path d=\"M 8.5 21.578125 \r\nL 8.5 54.6875 \r\nL 17.484375 54.6875 \r\nL 17.484375 21.921875 \r\nQ 17.484375 14.15625 20.5 10.265625 \r\nQ 23.53125 6.390625 29.59375 6.390625 \r\nQ 36.859375 6.390625 41.078125 11.03125 \r\nQ 45.3125 15.671875 45.3125 23.6875 \r\nL 45.3125 54.6875 \r\nL 54.296875 54.6875 \r\nL 54.296875 0 \r\nL 45.3125 0 \r\nL 45.3125 8.40625 \r\nQ 42.046875 3.421875 37.71875 1 \r\nQ 33.40625 -1.421875 27.6875 -1.421875 \r\nQ 18.265625 -1.421875 13.375 4.4375 \r\nQ 8.5 10.296875 8.5 21.578125 \r\nz\r\nM 31.109375 56 \r\nz\r\n\" id=\"DejaVuSans-117\"/>\r\n       <path d=\"M 9.421875 75.984375 \r\nL 18.40625 75.984375 \r\nL 18.40625 0 \r\nL 9.421875 0 \r\nz\r\n\" id=\"DejaVuSans-108\"/>\r\n      </defs>\r\n      <g transform=\"translate(90.26647 237.638438)scale(0.1 -0.1)\">\r\n       <use xlink:href=\"#DejaVuSans-74\"/>\r\n       <use x=\"29.492188\" xlink:href=\"#DejaVuSans-117\"/>\r\n       <use x=\"92.871094\" xlink:href=\"#DejaVuSans-108\"/>\r\n      </g>\r\n     </g>\r\n    </g>\r\n    <g id=\"xtick_11\">\r\n     <g id=\"line2d_11\">\r\n      <g>\r\n       <use style=\"stroke:#000000;stroke-width:0.6;\" x=\"106.688471\" xlink:href=\"#m46a76ea94b\" y=\"224.64\"/>\r\n      </g>\r\n     </g>\r\n    </g>\r\n    <g id=\"xtick_12\">\r\n     <g id=\"line2d_12\">\r\n      <g>\r\n       <use style=\"stroke:#000000;stroke-width:0.6;\" x=\"117.07766\" xlink:href=\"#m46a76ea94b\" y=\"224.64\"/>\r\n      </g>\r\n     </g>\r\n    </g>\r\n    <g id=\"xtick_13\">\r\n     <g id=\"line2d_13\">\r\n      <g>\r\n       <use style=\"stroke:#000000;stroke-width:0.6;\" x=\"127.131715\" xlink:href=\"#m46a76ea94b\" y=\"224.64\"/>\r\n      </g>\r\n     </g>\r\n    </g>\r\n    <g id=\"xtick_14\">\r\n     <g id=\"line2d_14\">\r\n      <g>\r\n       <use style=\"stroke:#000000;stroke-width:0.6;\" x=\"137.520904\" xlink:href=\"#m46a76ea94b\" y=\"224.64\"/>\r\n      </g>\r\n     </g>\r\n    </g>\r\n    <g id=\"xtick_15\">\r\n     <g id=\"line2d_15\">\r\n      <g>\r\n       <use style=\"stroke:#000000;stroke-width:0.6;\" x=\"147.574958\" xlink:href=\"#m46a76ea94b\" y=\"224.64\"/>\r\n      </g>\r\n     </g>\r\n    </g>\r\n    <g id=\"xtick_16\">\r\n     <g id=\"line2d_16\">\r\n      <g>\r\n       <use style=\"stroke:#000000;stroke-width:0.6;\" x=\"168.353336\" xlink:href=\"#m46a76ea94b\" y=\"224.64\"/>\r\n      </g>\r\n     </g>\r\n    </g>\r\n    <g id=\"xtick_17\">\r\n     <g id=\"line2d_17\">\r\n      <g>\r\n       <use style=\"stroke:#000000;stroke-width:0.6;\" x=\"177.73712\" xlink:href=\"#m46a76ea94b\" y=\"224.64\"/>\r\n      </g>\r\n     </g>\r\n    </g>\r\n    <g id=\"xtick_18\">\r\n     <g id=\"line2d_18\">\r\n      <g>\r\n       <use style=\"stroke:#000000;stroke-width:0.6;\" x=\"188.126309\" xlink:href=\"#m46a76ea94b\" y=\"224.64\"/>\r\n      </g>\r\n     </g>\r\n    </g>\r\n    <g id=\"xtick_19\">\r\n     <g id=\"line2d_19\">\r\n      <g>\r\n       <use style=\"stroke:#000000;stroke-width:0.6;\" x=\"198.180363\" xlink:href=\"#m46a76ea94b\" y=\"224.64\"/>\r\n      </g>\r\n     </g>\r\n    </g>\r\n    <g id=\"xtick_20\">\r\n     <g id=\"line2d_20\">\r\n      <g>\r\n       <use style=\"stroke:#000000;stroke-width:0.6;\" x=\"208.569552\" xlink:href=\"#m46a76ea94b\" y=\"224.64\"/>\r\n      </g>\r\n     </g>\r\n    </g>\r\n    <g id=\"xtick_21\">\r\n     <g id=\"line2d_21\">\r\n      <g>\r\n       <use style=\"stroke:#000000;stroke-width:0.6;\" x=\"218.623606\" xlink:href=\"#m46a76ea94b\" y=\"224.64\"/>\r\n      </g>\r\n     </g>\r\n     <g id=\"text_5\">\r\n      <!-- Jul -->\r\n      <g transform=\"translate(212.590794 237.638438)scale(0.1 -0.1)\">\r\n       <use xlink:href=\"#DejaVuSans-74\"/>\r\n       <use x=\"29.492188\" xlink:href=\"#DejaVuSans-117\"/>\r\n       <use x=\"92.871094\" xlink:href=\"#DejaVuSans-108\"/>\r\n      </g>\r\n     </g>\r\n    </g>\r\n    <g id=\"xtick_22\">\r\n     <g id=\"line2d_22\">\r\n      <g>\r\n       <use style=\"stroke:#000000;stroke-width:0.6;\" x=\"229.012796\" xlink:href=\"#m46a76ea94b\" y=\"224.64\"/>\r\n      </g>\r\n     </g>\r\n    </g>\r\n    <g id=\"xtick_23\">\r\n     <g id=\"line2d_23\">\r\n      <g>\r\n       <use style=\"stroke:#000000;stroke-width:0.6;\" x=\"239.401985\" xlink:href=\"#m46a76ea94b\" y=\"224.64\"/>\r\n      </g>\r\n     </g>\r\n    </g>\r\n    <g id=\"xtick_24\">\r\n     <g id=\"line2d_24\">\r\n      <g>\r\n       <use style=\"stroke:#000000;stroke-width:0.6;\" x=\"249.456039\" xlink:href=\"#m46a76ea94b\" y=\"224.64\"/>\r\n      </g>\r\n     </g>\r\n    </g>\r\n    <g id=\"xtick_25\">\r\n     <g id=\"line2d_25\">\r\n      <g>\r\n       <use style=\"stroke:#000000;stroke-width:0.6;\" x=\"259.845228\" xlink:href=\"#m46a76ea94b\" y=\"224.64\"/>\r\n      </g>\r\n     </g>\r\n    </g>\r\n    <g id=\"xtick_26\">\r\n     <g id=\"line2d_26\">\r\n      <g>\r\n       <use style=\"stroke:#000000;stroke-width:0.6;\" x=\"269.899282\" xlink:href=\"#m46a76ea94b\" y=\"224.64\"/>\r\n      </g>\r\n     </g>\r\n    </g>\r\n    <g id=\"xtick_27\">\r\n     <g id=\"line2d_27\">\r\n      <g>\r\n       <use style=\"stroke:#000000;stroke-width:0.6;\" x=\"290.67766\" xlink:href=\"#m46a76ea94b\" y=\"224.64\"/>\r\n      </g>\r\n     </g>\r\n    </g>\r\n    <g id=\"xtick_28\">\r\n     <g id=\"line2d_28\">\r\n      <g>\r\n       <use style=\"stroke:#000000;stroke-width:0.6;\" x=\"300.061444\" xlink:href=\"#m46a76ea94b\" y=\"224.64\"/>\r\n      </g>\r\n     </g>\r\n    </g>\r\n    <g id=\"xtick_29\">\r\n     <g id=\"line2d_29\">\r\n      <g>\r\n       <use style=\"stroke:#000000;stroke-width:0.6;\" x=\"310.450633\" xlink:href=\"#m46a76ea94b\" y=\"224.64\"/>\r\n      </g>\r\n     </g>\r\n    </g>\r\n    <g id=\"xtick_30\">\r\n     <g id=\"line2d_30\">\r\n      <g>\r\n       <use style=\"stroke:#000000;stroke-width:0.6;\" x=\"320.504687\" xlink:href=\"#m46a76ea94b\" y=\"224.64\"/>\r\n      </g>\r\n     </g>\r\n    </g>\r\n    <g id=\"xtick_31\">\r\n     <g id=\"line2d_31\">\r\n      <g>\r\n       <use style=\"stroke:#000000;stroke-width:0.6;\" x=\"330.893877\" xlink:href=\"#m46a76ea94b\" y=\"224.64\"/>\r\n      </g>\r\n     </g>\r\n    </g>\r\n    <g id=\"xtick_32\">\r\n     <g id=\"line2d_32\">\r\n      <g>\r\n       <use style=\"stroke:#000000;stroke-width:0.6;\" x=\"340.947931\" xlink:href=\"#m46a76ea94b\" y=\"224.64\"/>\r\n      </g>\r\n     </g>\r\n     <g id=\"text_6\">\r\n      <!-- Jul -->\r\n      <g transform=\"translate(334.915118 237.638438)scale(0.1 -0.1)\">\r\n       <use xlink:href=\"#DejaVuSans-74\"/>\r\n       <use x=\"29.492188\" xlink:href=\"#DejaVuSans-117\"/>\r\n       <use x=\"92.871094\" xlink:href=\"#DejaVuSans-108\"/>\r\n      </g>\r\n     </g>\r\n    </g>\r\n    <g id=\"xtick_33\">\r\n     <g id=\"line2d_33\">\r\n      <g>\r\n       <use style=\"stroke:#000000;stroke-width:0.6;\" x=\"351.33712\" xlink:href=\"#m46a76ea94b\" y=\"224.64\"/>\r\n      </g>\r\n     </g>\r\n    </g>\r\n    <g id=\"xtick_34\">\r\n     <g id=\"line2d_34\">\r\n      <g>\r\n       <use style=\"stroke:#000000;stroke-width:0.6;\" x=\"361.726309\" xlink:href=\"#m46a76ea94b\" y=\"224.64\"/>\r\n      </g>\r\n     </g>\r\n    </g>\r\n   </g>\r\n   <g id=\"matplotlib.axis_2\">\r\n    <g id=\"ytick_1\">\r\n     <g id=\"line2d_35\">\r\n      <defs>\r\n       <path d=\"M 0 0 \r\nL -3.5 0 \r\n\" id=\"mc3390ac60f\" style=\"stroke:#000000;stroke-width:0.8;\"/>\r\n      </defs>\r\n      <g>\r\n       <use style=\"stroke:#000000;stroke-width:0.8;\" x=\"35.304688\" xlink:href=\"#mc3390ac60f\" y=\"222.457855\"/>\r\n      </g>\r\n     </g>\r\n     <g id=\"text_7\">\r\n      <!-- −30 -->\r\n      <defs>\r\n       <path d=\"M 10.59375 35.5 \r\nL 73.1875 35.5 \r\nL 73.1875 27.203125 \r\nL 10.59375 27.203125 \r\nz\r\n\" id=\"DejaVuSans-8722\"/>\r\n       <path d=\"M 40.578125 39.3125 \r\nQ 47.65625 37.796875 51.625 33 \r\nQ 55.609375 28.21875 55.609375 21.1875 \r\nQ 55.609375 10.40625 48.1875 4.484375 \r\nQ 40.765625 -1.421875 27.09375 -1.421875 \r\nQ 22.515625 -1.421875 17.65625 -0.515625 \r\nQ 12.796875 0.390625 7.625 2.203125 \r\nL 7.625 11.71875 \r\nQ 11.71875 9.328125 16.59375 8.109375 \r\nQ 21.484375 6.890625 26.8125 6.890625 \r\nQ 36.078125 6.890625 40.9375 10.546875 \r\nQ 45.796875 14.203125 45.796875 21.1875 \r\nQ 45.796875 27.640625 41.28125 31.265625 \r\nQ 36.765625 34.90625 28.71875 34.90625 \r\nL 20.21875 34.90625 \r\nL 20.21875 43.015625 \r\nL 29.109375 43.015625 \r\nQ 36.375 43.015625 40.234375 45.921875 \r\nQ 44.09375 48.828125 44.09375 54.296875 \r\nQ 44.09375 59.90625 40.109375 62.90625 \r\nQ 36.140625 65.921875 28.71875 65.921875 \r\nQ 24.65625 65.921875 20.015625 65.03125 \r\nQ 15.375 64.15625 9.8125 62.3125 \r\nL 9.8125 71.09375 \r\nQ 15.4375 72.65625 20.34375 73.4375 \r\nQ 25.25 74.21875 29.59375 74.21875 \r\nQ 40.828125 74.21875 47.359375 69.109375 \r\nQ 53.90625 64.015625 53.90625 55.328125 \r\nQ 53.90625 49.265625 50.4375 45.09375 \r\nQ 46.96875 40.921875 40.578125 39.3125 \r\nz\r\n\" id=\"DejaVuSans-51\"/>\r\n      </defs>\r\n      <g transform=\"translate(7.2 226.257074)scale(0.1 -0.1)\">\r\n       <use xlink:href=\"#DejaVuSans-8722\"/>\r\n       <use x=\"83.789062\" xlink:href=\"#DejaVuSans-51\"/>\r\n       <use x=\"147.412109\" xlink:href=\"#DejaVuSans-48\"/>\r\n      </g>\r\n     </g>\r\n    </g>\r\n    <g id=\"ytick_2\">\r\n     <g id=\"line2d_36\">\r\n      <g>\r\n       <use style=\"stroke:#000000;stroke-width:0.8;\" x=\"35.304688\" xlink:href=\"#mc3390ac60f\" y=\"181.12746\"/>\r\n      </g>\r\n     </g>\r\n     <g id=\"text_8\">\r\n      <!-- −20 -->\r\n      <g transform=\"translate(7.2 184.926679)scale(0.1 -0.1)\">\r\n       <use xlink:href=\"#DejaVuSans-8722\"/>\r\n       <use x=\"83.789062\" xlink:href=\"#DejaVuSans-50\"/>\r\n       <use x=\"147.412109\" xlink:href=\"#DejaVuSans-48\"/>\r\n      </g>\r\n     </g>\r\n    </g>\r\n    <g id=\"ytick_3\">\r\n     <g id=\"line2d_37\">\r\n      <g>\r\n       <use style=\"stroke:#000000;stroke-width:0.8;\" x=\"35.304688\" xlink:href=\"#mc3390ac60f\" y=\"139.797065\"/>\r\n      </g>\r\n     </g>\r\n     <g id=\"text_9\">\r\n      <!-- −10 -->\r\n      <g transform=\"translate(7.2 143.596283)scale(0.1 -0.1)\">\r\n       <use xlink:href=\"#DejaVuSans-8722\"/>\r\n       <use x=\"83.789062\" xlink:href=\"#DejaVuSans-49\"/>\r\n       <use x=\"147.412109\" xlink:href=\"#DejaVuSans-48\"/>\r\n      </g>\r\n     </g>\r\n    </g>\r\n    <g id=\"ytick_4\">\r\n     <g id=\"line2d_38\">\r\n      <g>\r\n       <use style=\"stroke:#000000;stroke-width:0.8;\" x=\"35.304688\" xlink:href=\"#mc3390ac60f\" y=\"98.466669\"/>\r\n      </g>\r\n     </g>\r\n     <g id=\"text_10\">\r\n      <!-- 0 -->\r\n      <g transform=\"translate(21.942188 102.265888)scale(0.1 -0.1)\">\r\n       <use xlink:href=\"#DejaVuSans-48\"/>\r\n      </g>\r\n     </g>\r\n    </g>\r\n    <g id=\"ytick_5\">\r\n     <g id=\"line2d_39\">\r\n      <g>\r\n       <use style=\"stroke:#000000;stroke-width:0.8;\" x=\"35.304688\" xlink:href=\"#mc3390ac60f\" y=\"57.136274\"/>\r\n      </g>\r\n     </g>\r\n     <g id=\"text_11\">\r\n      <!-- 10 -->\r\n      <g transform=\"translate(15.579688 60.935493)scale(0.1 -0.1)\">\r\n       <use xlink:href=\"#DejaVuSans-49\"/>\r\n       <use x=\"63.623047\" xlink:href=\"#DejaVuSans-48\"/>\r\n      </g>\r\n     </g>\r\n    </g>\r\n    <g id=\"ytick_6\">\r\n     <g id=\"line2d_40\">\r\n      <g>\r\n       <use style=\"stroke:#000000;stroke-width:0.8;\" x=\"35.304688\" xlink:href=\"#mc3390ac60f\" y=\"15.805878\"/>\r\n      </g>\r\n     </g>\r\n     <g id=\"text_12\">\r\n      <!-- 20 -->\r\n      <g transform=\"translate(15.579688 19.605097)scale(0.1 -0.1)\">\r\n       <use xlink:href=\"#DejaVuSans-50\"/>\r\n       <use x=\"63.623047\" xlink:href=\"#DejaVuSans-48\"/>\r\n      </g>\r\n     </g>\r\n    </g>\r\n   </g>\r\n   <g id=\"line2d_41\">\r\n    <path clip-path=\"url(#p5168aba512)\" d=\"M 35.304688 107.057798 \r\nL 35.639823 106.737064 \r\nL 35.974958 111.963879 \r\nL 36.310093 113.441493 \r\nL 36.645228 109.100771 \r\nL 37.315498 106.574055 \r\nL 37.650633 103.166355 \r\nL 37.985769 109.323471 \r\nL 38.320904 98.404095 \r\nL 38.656039 100.712729 \r\nL 38.991174 104.891249 \r\nL 39.326309 106.934044 \r\nL 39.661444 107.095725 \r\nL 39.996579 103.597194 \r\nL 40.331715 103.072148 \r\nL 41.33712 120.167315 \r\nL 41.672255 124.213522 \r\nL 42.00739 125.686659 \r\nL 42.342525 129.057162 \r\nL 42.67766 135.525872 \r\nL 43.012796 130.853801 \r\nL 43.347931 128.387629 \r\nL 43.683066 128.849282 \r\nL 44.353336 134.431035 \r\nL 44.688471 135.127356 \r\nL 45.023606 138.294012 \r\nL 45.358742 131.23882 \r\nL 45.693877 138.4807 \r\nL 46.029012 141.591791 \r\nL 46.364147 141.593449 \r\nL 46.699282 138.426558 \r\nL 47.034417 145.347001 \r\nL 47.369552 148.049676 \r\nL 47.704688 140.853749 \r\nL 48.039823 140.261811 \r\nL 48.710093 147.744461 \r\nL 49.045228 144.492247 \r\nL 49.380363 134.952143 \r\nL 49.715498 131.347036 \r\nL 50.050633 132.673139 \r\nL 50.720904 121.090547 \r\nL 51.056039 120.983802 \r\nL 51.391174 126.880137 \r\nL 51.726309 125.390967 \r\nL 52.061444 116.923304 \r\nL 52.396579 116.633197 \r\nL 52.731715 117.733038 \r\nL 53.06685 115.377214 \r\nL 53.401985 118.570235 \r\nL 53.73712 112.129332 \r\nL 54.072255 115.674831 \r\nL 54.40739 115.245708 \r\nL 54.742525 119.479436 \r\nL 55.07766 109.957473 \r\nL 55.412796 112.430017 \r\nL 56.083066 123.800815 \r\nL 57.088471 111.051876 \r\nL 57.423606 115.515082 \r\nL 57.758742 115.245544 \r\nL 58.093877 115.660803 \r\nL 58.429012 117.394324 \r\nL 58.764147 118.090833 \r\nL 59.099282 116.806419 \r\nL 59.434417 112.092049 \r\nL 59.769552 109.886719 \r\nL 60.104687 112.218795 \r\nL 60.439823 105.64602 \r\nL 60.774958 105.638139 \r\nL 61.110093 111.188855 \r\nL 61.445228 113.750092 \r\nL 61.780363 109.057377 \r\nL 62.115498 108.040522 \r\nL 62.450633 110.65083 \r\nL 62.785769 114.953659 \r\nL 63.120904 115.565741 \r\nL 63.791174 108.808004 \r\nL 64.126309 100.769499 \r\nL 64.461444 97.628002 \r\nL 64.796579 97.74118 \r\nL 65.131715 90.820347 \r\nL 65.46685 88.325663 \r\nL 65.801985 82.567372 \r\nL 66.13712 73.379383 \r\nL 66.472255 75.322299 \r\nL 66.80739 75.944615 \r\nL 67.142525 70.391796 \r\nL 67.47766 69.748762 \r\nL 67.812796 74.67255 \r\nL 68.147931 71.828627 \r\nL 68.483066 65.347785 \r\nL 68.818201 61.550592 \r\nL 69.153336 69.967831 \r\nL 69.488471 73.902378 \r\nL 69.823606 72.478835 \r\nL 70.493877 66.269244 \r\nL 70.829012 67.514131 \r\nL 71.499282 81.318715 \r\nL 72.169552 76.156945 \r\nL 72.504687 75.725007 \r\nL 72.839823 64.764823 \r\nL 73.174958 72.360159 \r\nL 73.510093 72.684943 \r\nL 73.845228 73.581416 \r\nL 74.180363 74.060375 \r\nL 74.515498 78.27351 \r\nL 74.850633 77.278407 \r\nL 75.185769 79.194241 \r\nL 75.520904 76.864196 \r\nL 75.856039 87.913032 \r\nL 77.196579 72.680953 \r\nL 77.86685 63.716521 \r\nL 78.201985 65.328944 \r\nL 78.53712 59.861705 \r\nL 78.872255 57.229514 \r\nL 79.20739 57.391394 \r\nL 79.542525 58.416614 \r\nL 79.87766 64.675838 \r\nL 80.212796 62.724113 \r\nL 80.547931 56.374752 \r\nL 81.218201 59.490466 \r\nL 81.553336 55.007194 \r\nL 81.888471 57.30686 \r\nL 82.558742 53.285128 \r\nL 83.229012 58.458126 \r\nL 83.564147 58.135145 \r\nL 83.899282 56.372552 \r\nL 84.234417 52.267005 \r\nL 84.569552 55.958298 \r\nL 84.904687 57.763955 \r\nL 85.239823 62.158216 \r\nL 85.574958 59.613152 \r\nL 85.910093 46.168689 \r\nL 86.245228 55.35949 \r\nL 86.915498 48.662693 \r\nL 87.250633 49.151779 \r\nL 87.585769 51.322874 \r\nL 88.256039 44.498492 \r\nL 88.591174 42.141264 \r\nL 88.926309 36.428119 \r\nL 89.261444 36.686478 \r\nL 89.596579 41.725148 \r\nL 89.931715 45.043193 \r\nL 90.26685 41.480554 \r\nL 90.601985 42.866727 \r\nL 90.93712 50.170863 \r\nL 91.272255 43.20567 \r\nL 91.60739 45.376267 \r\nL 92.27766 35.733675 \r\nL 92.612796 35.616665 \r\nL 92.947931 34.44362 \r\nL 93.283066 36.432598 \r\nL 93.618201 33.295281 \r\nL 93.953336 32.398298 \r\nL 94.288471 33.613895 \r\nL 94.623606 28.602904 \r\nL 95.293877 38.287453 \r\nL 95.629012 29.60516 \r\nL 95.964147 30.578031 \r\nL 96.299282 32.916348 \r\nL 96.634417 28.232345 \r\nL 96.969552 27.551739 \r\nL 97.304688 25.641145 \r\nL 97.639823 30.142359 \r\nL 97.974958 29.190128 \r\nL 98.310093 25.93168 \r\nL 98.980363 24.878874 \r\nL 99.315498 24.13379 \r\nL 99.650633 25.193169 \r\nL 99.985769 17.083636 \r\nL 100.656039 26.694652 \r\nL 100.991174 26.831091 \r\nL 101.326309 25.242006 \r\nL 101.661444 31.94599 \r\nL 101.996579 30.658907 \r\nL 102.66685 20.092516 \r\nL 103.001985 21.854678 \r\nL 103.33712 27.198108 \r\nL 103.672255 20.967412 \r\nL 104.00739 24.83328 \r\nL 104.67766 34.442289 \r\nL 105.012796 32.881602 \r\nL 105.347931 28.826797 \r\nL 105.683066 27.249403 \r\nL 106.018201 26.21392 \r\nL 106.353336 33.38445 \r\nL 106.688471 34.199496 \r\nL 107.023606 23.559326 \r\nL 107.358742 19.170316 \r\nL 107.693877 21.122859 \r\nL 108.029012 25.261735 \r\nL 108.699282 26.304317 \r\nL 109.034417 34.739749 \r\nL 109.369552 39.427113 \r\nL 109.704688 37.074281 \r\nL 110.374958 22.007273 \r\nL 110.710093 18.53239 \r\nL 111.045228 18.69241 \r\nL 111.380363 17.781514 \r\nL 111.715498 24.263745 \r\nL 112.050633 24.15874 \r\nL 112.385769 26.110975 \r\nL 112.720904 31.623842 \r\nL 113.056039 27.682889 \r\nL 113.391174 32.10047 \r\nL 113.726309 26.960562 \r\nL 114.061444 27.826892 \r\nL 114.396579 34.592691 \r\nL 114.731715 34.340934 \r\nL 115.06685 32.124989 \r\nL 115.401985 33.71405 \r\nL 115.73712 34.300449 \r\nL 116.072255 36.357644 \r\nL 116.742525 30.633831 \r\nL 117.07766 32.057411 \r\nL 117.412796 26.550841 \r\nL 117.747931 25.922238 \r\nL 118.083066 22.976104 \r\nL 118.418201 27.826894 \r\nL 118.753336 28.746242 \r\nL 119.423606 36.450465 \r\nL 119.758742 39.081789 \r\nL 120.429012 47.351764 \r\nL 120.764147 50.831659 \r\nL 121.099282 56.275184 \r\nL 121.434417 50.122443 \r\nL 122.104687 57.272821 \r\nL 122.439823 59.743837 \r\nL 122.774958 56.980308 \r\nL 123.110093 58.867832 \r\nL 123.445228 62.655631 \r\nL 123.780363 62.06212 \r\nL 124.115498 52.322545 \r\nL 124.450633 54.881369 \r\nL 124.785769 50.098091 \r\nL 125.120904 50.877568 \r\nL 125.456039 59.825795 \r\nL 125.791174 61.458949 \r\nL 126.126309 61.507871 \r\nL 126.461444 60.632926 \r\nL 126.796579 61.899406 \r\nL 127.131715 64.202628 \r\nL 127.801985 58.150517 \r\nL 128.13712 51.462088 \r\nL 130.147931 80.29346 \r\nL 130.483066 75.237515 \r\nL 130.818201 74.137211 \r\nL 131.153336 69.746198 \r\nL 131.488471 72.44754 \r\nL 131.823606 73.724505 \r\nL 132.158742 80.886256 \r\nL 132.493877 77.365103 \r\nL 132.829012 76.423919 \r\nL 133.164147 68.237049 \r\nL 133.499282 69.639728 \r\nL 133.834417 68.350897 \r\nL 134.169552 62.718965 \r\nL 134.504687 61.724738 \r\nL 134.839823 56.03544 \r\nL 135.174958 56.765798 \r\nL 135.510093 64.189262 \r\nL 135.845228 63.202629 \r\nL 136.180363 60.522653 \r\nL 136.850633 72.626438 \r\nL 137.185769 63.635033 \r\nL 137.520904 69.853464 \r\nL 137.856039 66.604871 \r\nL 138.191174 66.220683 \r\nL 138.526309 70.220496 \r\nL 138.861444 72.811208 \r\nL 139.196579 69.280759 \r\nL 139.531715 73.303308 \r\nL 140.201985 89.3244 \r\nL 140.53712 82.681867 \r\nL 141.20739 89.266333 \r\nL 141.542525 89.252781 \r\nL 142.212796 81.173184 \r\nL 142.547931 86.846129 \r\nL 142.883066 89.502622 \r\nL 143.218201 88.760225 \r\nL 143.553336 97.505163 \r\nL 143.888471 92.345421 \r\nL 144.223606 89.169467 \r\nL 144.558742 90.993 \r\nL 145.229012 88.243698 \r\nL 145.564147 88.916634 \r\nL 146.234417 93.807164 \r\nL 146.569552 90.968726 \r\nL 147.239823 96.2426 \r\nL 147.574958 92.901675 \r\nL 147.910093 91.601178 \r\nL 148.245228 93.521249 \r\nL 148.580363 93.788761 \r\nL 148.915498 97.358011 \r\nL 149.250633 91.639485 \r\nL 149.585769 95.464273 \r\nL 149.920904 93.82413 \r\nL 150.256039 91.071115 \r\nL 150.591174 91.203946 \r\nL 150.926309 88.558907 \r\nL 151.596579 85.587698 \r\nL 151.931715 85.699671 \r\nL 152.26685 79.436888 \r\nL 152.601985 77.097553 \r\nL 152.93712 79.451941 \r\nL 153.272255 74.154702 \r\nL 153.60739 64.518096 \r\nL 153.942525 58.658844 \r\nL 154.27766 68.318055 \r\nL 154.612796 67.778674 \r\nL 154.947931 66.937499 \r\nL 155.618201 76.825075 \r\nL 155.953336 72.607317 \r\nL 156.623606 78.294757 \r\nL 156.958742 86.824922 \r\nL 157.293877 83.986388 \r\nL 157.629012 89.376485 \r\nL 157.964147 88.314377 \r\nL 158.299282 87.890634 \r\nL 158.634417 86.766368 \r\nL 158.969552 93.648363 \r\nL 159.304688 93.321867 \r\nL 159.639823 99.070919 \r\nL 159.974958 97.382038 \r\nL 160.310093 100.513534 \r\nL 160.645228 98.876628 \r\nL 160.980363 100.443077 \r\nL 161.315498 99.996599 \r\nL 161.650633 98.210412 \r\nL 161.985769 95.691861 \r\nL 162.320904 99.48221 \r\nL 162.656039 94.288239 \r\nL 162.991174 100.981122 \r\nL 163.326309 99.559494 \r\nL 163.661444 94.326845 \r\nL 163.996579 90.884422 \r\nL 164.331715 92.511182 \r\nL 164.66685 93.085691 \r\nL 165.001985 90.616991 \r\nL 165.33712 91.354367 \r\nL 165.672255 97.133177 \r\nL 166.00739 99.135172 \r\nL 166.342525 104.62464 \r\nL 166.67766 104.281135 \r\nL 167.012796 110.499822 \r\nL 167.347931 109.655768 \r\nL 168.018201 104.877691 \r\nL 168.353336 105.849613 \r\nL 169.023606 115.043787 \r\nL 169.358742 107.759746 \r\nL 169.693877 106.406129 \r\nL 170.029012 103.537679 \r\nL 170.364147 97.547165 \r\nL 170.699282 94.691978 \r\nL 171.034417 93.662221 \r\nL 171.369552 98.628149 \r\nL 171.704688 99.799709 \r\nL 172.039823 98.075705 \r\nL 172.374958 95.011645 \r\nL 172.710093 95.841089 \r\nL 173.045228 99.876535 \r\nL 173.380363 96.585675 \r\nL 174.050633 109.815824 \r\nL 174.385769 110.253445 \r\nL 174.720904 105.424214 \r\nL 175.056039 106.021813 \r\nL 175.391174 117.561145 \r\nL 175.726309 114.461219 \r\nL 176.061444 108.499367 \r\nL 176.396579 108.758367 \r\nL 176.731715 101.030891 \r\nL 177.06685 101.596058 \r\nL 177.401985 100.008432 \r\nL 177.73712 104.090509 \r\nL 178.072255 104.182618 \r\nL 178.40739 100.783105 \r\nL 178.742525 105.530702 \r\nL 179.07766 106.644041 \r\nL 179.412796 106.6973 \r\nL 179.747931 102.476982 \r\nL 180.083066 105.896368 \r\nL 180.418201 104.766393 \r\nL 180.753336 104.264056 \r\nL 181.088471 102.62085 \r\nL 181.423606 108.78829 \r\nL 181.758742 110.940019 \r\nL 182.093877 108.308506 \r\nL 182.429012 108.60983 \r\nL 182.764147 113.176564 \r\nL 183.099282 105.167301 \r\nL 183.769552 101.671115 \r\nL 184.104687 97.981985 \r\nL 184.439823 92.907906 \r\nL 184.774958 92.960206 \r\nL 185.110093 92.230839 \r\nL 185.445228 87.532924 \r\nL 185.780363 90.175031 \r\nL 186.115498 89.04228 \r\nL 186.450633 89.625793 \r\nL 186.785769 93.37485 \r\nL 187.120904 87.563213 \r\nL 187.456039 93.921002 \r\nL 188.126309 96.28367 \r\nL 188.461444 92.056723 \r\nL 188.796579 93.862537 \r\nL 189.131715 100.706357 \r\nL 189.46685 104.271841 \r\nL 190.13712 98.235219 \r\nL 190.472255 97.606552 \r\nL 190.80739 95.224594 \r\nL 191.142525 95.498637 \r\nL 191.47766 97.68379 \r\nL 191.812796 96.716647 \r\nL 192.483066 103.865583 \r\nL 192.818201 104.172648 \r\nL 193.153336 107.923888 \r\nL 193.488471 109.041847 \r\nL 194.158742 116.253417 \r\nL 194.493877 111.441712 \r\nL 194.829012 111.528763 \r\nL 195.164147 112.123437 \r\nL 195.499282 105.853941 \r\nL 195.834417 106.81954 \r\nL 196.169552 104.213419 \r\nL 196.504687 106.595623 \r\nL 197.174958 119.163784 \r\nL 197.510093 117.090681 \r\nL 197.845228 116.494366 \r\nL 198.180363 117.694935 \r\nL 198.515498 113.714856 \r\nL 198.850633 115.639586 \r\nL 199.185769 116.825809 \r\nL 199.856039 115.620035 \r\nL 200.191174 116.070351 \r\nL 200.861444 110.727645 \r\nL 201.196579 110.307584 \r\nL 201.531715 114.771104 \r\nL 201.86685 109.236529 \r\nL 202.201985 110.696796 \r\nL 202.53712 109.755294 \r\nL 202.872255 114.603798 \r\nL 203.20739 117.481589 \r\nL 203.542525 117.129385 \r\nL 203.87766 121.991058 \r\nL 204.212796 119.11679 \r\nL 204.547931 118.940082 \r\nL 204.883066 120.345217 \r\nL 205.218201 113.921248 \r\nL 205.553336 124.689042 \r\nL 205.888471 124.971033 \r\nL 206.223606 125.71355 \r\nL 206.558742 121.681478 \r\nL 206.893877 123.209517 \r\nL 207.564147 115.099532 \r\nL 208.234417 115.416231 \r\nL 208.569552 111.359927 \r\nL 208.904687 110.344679 \r\nL 209.574958 121.883821 \r\nL 209.910093 123.241316 \r\nL 210.245228 117.596817 \r\nL 210.580363 116.326393 \r\nL 210.915498 113.490374 \r\nL 211.250633 120.485686 \r\nL 211.585769 122.686186 \r\nL 212.256039 130.134375 \r\nL 212.591174 127.328895 \r\nL 212.926309 127.859513 \r\nL 213.261444 126.638775 \r\nL 213.596579 121.449981 \r\nL 213.931715 127.276365 \r\nL 214.26685 130.997423 \r\nL 214.601985 130.673598 \r\nL 214.93712 139.803932 \r\nL 215.272255 140.087491 \r\nL 215.942525 126.23039 \r\nL 216.27766 137.771419 \r\nL 216.612796 142.198209 \r\nL 216.947931 136.888945 \r\nL 217.283066 145.307709 \r\nL 217.618201 146.05122 \r\nL 217.953336 139.313079 \r\nL 218.288471 142.698641 \r\nL 218.958742 158.222896 \r\nL 219.629012 145.230353 \r\nL 220.299282 159.476465 \r\nL 220.634417 159.024794 \r\nL 220.969552 165.023746 \r\nL 221.304688 165.272309 \r\nL 221.639823 165.122747 \r\nL 221.974958 157.033575 \r\nL 222.310093 153.726864 \r\nL 222.645228 152.411686 \r\nL 222.980363 154.206516 \r\nL 223.315498 154.183917 \r\nL 223.650633 156.295337 \r\nL 223.985769 153.320596 \r\nL 224.320904 160.157256 \r\nL 224.656039 160.686755 \r\nL 224.991174 154.609136 \r\nL 225.661444 161.242496 \r\nL 225.996579 159.160795 \r\nL 226.331715 157.815386 \r\nL 226.66685 153.955452 \r\nL 227.001985 153.762368 \r\nL 227.33712 155.331948 \r\nL 227.672255 151.283239 \r\nL 228.00739 151.708547 \r\nL 228.342525 149.444948 \r\nL 228.67766 152.829396 \r\nL 229.347931 150.276842 \r\nL 229.683066 152.700921 \r\nL 230.018201 153.257754 \r\nL 230.688471 158.846212 \r\nL 231.023606 154.953069 \r\nL 231.358742 153.362757 \r\nL 231.693877 154.487487 \r\nL 232.029012 151.992345 \r\nL 232.364147 154.069024 \r\nL 232.699282 158.958293 \r\nL 233.034417 161.414306 \r\nL 233.369552 162.336617 \r\nL 233.704688 163.973457 \r\nL 234.039823 168.135473 \r\nL 234.374958 164.644115 \r\nL 234.710093 166.218054 \r\nL 235.045228 164.77978 \r\nL 235.380363 158.502552 \r\nL 236.050633 154.419761 \r\nL 236.385769 157.484962 \r\nL 236.720904 157.440601 \r\nL 237.056039 174.135674 \r\nL 237.391174 170.131786 \r\nL 237.726309 170.847342 \r\nL 238.061444 175.809829 \r\nL 238.396579 177.463759 \r\nL 238.731715 176.13149 \r\nL 239.73712 170.845158 \r\nL 240.072255 170.969225 \r\nL 240.40739 170.694149 \r\nL 240.742525 161.162086 \r\nL 241.07766 158.332438 \r\nL 241.412796 156.712667 \r\nL 241.747931 146.434937 \r\nL 242.083066 152.312465 \r\nL 242.418201 150.064649 \r\nL 242.753336 150.523289 \r\nL 243.088471 148.468324 \r\nL 243.423606 138.734395 \r\nL 243.758742 137.06071 \r\nL 244.764147 147.037289 \r\nL 245.099282 146.338031 \r\nL 245.434417 143.652643 \r\nL 245.769552 148.189936 \r\nL 246.104687 141.074128 \r\nL 246.439823 139.226934 \r\nL 246.774958 141.540046 \r\nL 247.110093 140.951722 \r\nL 247.445228 135.492817 \r\nL 247.780363 141.115753 \r\nL 248.115498 139.869944 \r\nL 248.450633 145.860514 \r\nL 249.456039 130.694213 \r\nL 249.791174 130.473633 \r\nL 250.126309 127.94799 \r\nL 250.461444 117.839481 \r\nL 250.796579 122.422229 \r\nL 251.131715 117.564195 \r\nL 251.46685 118.843088 \r\nL 252.13712 128.585079 \r\nL 252.472255 132.886336 \r\nL 252.80739 134.308887 \r\nL 253.47766 138.764749 \r\nL 253.812796 145.391257 \r\nL 254.147931 142.447923 \r\nL 254.483066 133.212012 \r\nL 255.153336 139.065904 \r\nL 255.488471 138.541217 \r\nL 255.823606 140.338089 \r\nL 256.158742 140.631361 \r\nL 256.493877 139.817419 \r\nL 256.829012 134.924464 \r\nL 257.834417 151.909821 \r\nL 258.504687 147.753472 \r\nL 258.839823 152.054951 \r\nL 259.174958 150.322308 \r\nL 259.510093 146.492157 \r\nL 259.845228 145.483609 \r\nL 260.180363 143.294918 \r\nL 260.515498 144.587985 \r\nL 260.850633 145.19615 \r\nL 261.185769 146.960096 \r\nL 261.520904 140.45838 \r\nL 261.856039 147.740098 \r\nL 262.191174 146.541972 \r\nL 262.526309 152.830847 \r\nL 262.861444 163.596616 \r\nL 263.196579 163.813814 \r\nL 263.531715 161.467592 \r\nL 263.86685 166.685445 \r\nL 264.201985 164.04429 \r\nL 264.53712 163.321334 \r\nL 264.872255 155.610861 \r\nL 265.20739 152.48651 \r\nL 265.542525 154.54714 \r\nL 265.87766 152.319488 \r\nL 266.212796 147.782894 \r\nL 266.547931 156.293789 \r\nL 266.883066 156.918466 \r\nL 267.218201 152.396417 \r\nL 267.553336 153.107217 \r\nL 267.888471 152.353038 \r\nL 268.223606 157.663377 \r\nL 268.558742 156.582408 \r\nL 268.893877 152.582403 \r\nL 269.229012 152.426481 \r\nL 269.564147 153.708556 \r\nL 270.234417 142.150546 \r\nL 270.569552 141.65688 \r\nL 270.904687 144.689257 \r\nL 271.239823 142.854058 \r\nL 271.574958 149.818444 \r\nL 272.245228 146.169635 \r\nL 272.580363 155.172972 \r\nL 272.915498 154.215291 \r\nL 273.250633 152.848813 \r\nL 273.585769 148.337302 \r\nL 273.920904 147.181009 \r\nL 274.256039 144.911403 \r\nL 274.591174 145.717216 \r\nL 274.926309 143.856412 \r\nL 275.261444 154.106152 \r\nL 275.596579 152.513776 \r\nL 275.931715 143.34465 \r\nL 276.26685 137.798674 \r\nL 276.601985 145.037897 \r\nL 277.272255 150.749664 \r\nL 277.60739 157.315602 \r\nL 277.942525 155.455622 \r\nL 278.27766 156.66749 \r\nL 278.612796 154.59369 \r\nL 278.947931 151.115383 \r\nL 279.283066 150.733012 \r\nL 279.953336 143.79062 \r\nL 280.288471 150.57014 \r\nL 280.623606 154.21074 \r\nL 280.958742 150.722875 \r\nL 281.293877 159.226794 \r\nL 281.629012 160.003301 \r\nL 281.964147 158.187016 \r\nL 282.299282 166.095883 \r\nL 282.634417 168.746837 \r\nL 282.969552 165.844674 \r\nL 283.304688 168.648395 \r\nL 283.639823 173.710835 \r\nL 283.974958 162.954702 \r\nL 284.310093 163.803222 \r\nL 284.645228 163.573806 \r\nL 284.980363 163.988592 \r\nL 285.315498 169.409685 \r\nL 285.650633 166.493544 \r\nL 285.985769 170.032167 \r\nL 286.656039 167.320516 \r\nL 286.991174 171.770067 \r\nL 287.326309 169.330084 \r\nL 287.661444 170.02688 \r\nL 287.996579 173.454832 \r\nL 288.331715 170.86753 \r\nL 288.66685 170.97891 \r\nL 289.001985 166.457938 \r\nL 289.33712 167.846142 \r\nL 289.672255 165.783169 \r\nL 290.00739 168.840371 \r\nL 290.342525 172.96612 \r\nL 290.67766 174.625403 \r\nL 291.012796 181.407541 \r\nL 291.347931 185.45553 \r\nL 291.683066 184.687414 \r\nL 292.018201 180.857627 \r\nL 292.688471 182.740156 \r\nL 293.023606 184.294419 \r\nL 293.358742 189.30125 \r\nL 293.693877 186.985758 \r\nL 294.029012 190.952189 \r\nL 294.364147 189.62839 \r\nL 294.699282 185.19724 \r\nL 295.034417 196.032755 \r\nL 295.369552 192.983307 \r\nL 295.704688 192.000562 \r\nL 296.039823 193.122857 \r\nL 296.374958 192.853954 \r\nL 296.710093 196.599981 \r\nL 297.045228 198.837563 \r\nL 297.380363 192.713527 \r\nL 297.715498 192.955299 \r\nL 298.050633 189.716291 \r\nL 298.385769 189.576324 \r\nL 299.056039 202.200133 \r\nL 299.391174 203.181629 \r\nL 299.726309 197.077852 \r\nL 300.061444 202.147358 \r\nL 300.396579 203.935978 \r\nL 300.731715 207.267404 \r\nL 301.06685 207.795328 \r\nL 301.73712 203.965952 \r\nL 302.072255 209.848771 \r\nL 302.40739 213.643272 \r\nL 302.742525 214.756364 \r\nL 303.747931 204.951259 \r\nL 304.083066 209.133725 \r\nL 304.753336 199.69694 \r\nL 305.088471 192.815202 \r\nL 305.423606 188.722612 \r\nL 305.758742 186.179592 \r\nL 306.093877 182.70119 \r\nL 306.429012 181.261515 \r\nL 306.764147 180.848127 \r\nL 307.434417 188.008204 \r\nL 307.769552 187.908098 \r\nL 308.104688 191.33669 \r\nL 308.439823 190.73177 \r\nL 308.774958 184.415906 \r\nL 309.110093 185.227716 \r\nL 309.445228 187.308275 \r\nL 310.115498 196.883527 \r\nL 310.450633 196.815066 \r\nL 311.120904 183.265422 \r\nL 311.456039 185.554829 \r\nL 311.791174 191.653561 \r\nL 312.126309 190.144918 \r\nL 312.461444 195.644093 \r\nL 312.796579 193.614696 \r\nL 313.131715 194.997744 \r\nL 313.46685 193.662583 \r\nL 313.801985 191.798057 \r\nL 314.13712 188.750154 \r\nL 314.472255 183.838905 \r\nL 314.80739 185.248054 \r\nL 315.142525 183.687559 \r\nL 315.47766 184.773949 \r\nL 315.812796 193.79488 \r\nL 316.147931 193.339621 \r\nL 316.483066 192.325599 \r\nL 316.818201 196.428912 \r\nL 317.153336 196.159105 \r\nL 317.823606 183.509436 \r\nL 318.158742 179.707816 \r\nL 318.493877 169.775956 \r\nL 318.829012 174.073624 \r\nL 319.164147 173.493788 \r\nL 319.499282 173.80581 \r\nL 319.834417 174.861413 \r\nL 320.169552 178.840326 \r\nL 320.504687 180.653028 \r\nL 320.839823 188.326539 \r\nL 321.174958 189.11066 \r\nL 321.510093 188.012893 \r\nL 321.845228 188.968731 \r\nL 322.180363 183.724745 \r\nL 322.515498 187.734644 \r\nL 322.850633 197.097955 \r\nL 323.520904 192.444458 \r\nL 323.856039 188.197522 \r\nL 324.191174 191.29516 \r\nL 324.526309 188.603014 \r\nL 324.861444 189.304558 \r\nL 325.196579 186.840517 \r\nL 325.531715 193.372165 \r\nL 325.86685 196.938018 \r\nL 326.201985 191.202716 \r\nL 326.53712 196.773288 \r\nL 326.872255 193.987818 \r\nL 327.542525 189.869648 \r\nL 327.87766 183.801566 \r\nL 328.547931 179.168682 \r\nL 328.883066 183.249915 \r\nL 329.218201 181.976421 \r\nL 329.888471 176.25594 \r\nL 330.223606 176.232436 \r\nL 330.558742 173.19234 \r\nL 330.893877 172.334772 \r\nL 331.229012 170.366728 \r\nL 331.564147 172.772551 \r\nL 331.899282 173.56078 \r\nL 332.234417 173.914352 \r\nL 332.569552 173.470939 \r\nL 332.904687 177.127113 \r\nL 333.239823 176.582345 \r\nL 333.574958 186.299109 \r\nL 333.910093 185.424525 \r\nL 334.245228 179.429934 \r\nL 334.580363 178.725353 \r\nL 334.915498 180.992393 \r\nL 335.250633 189.343478 \r\nL 335.585769 183.917181 \r\nL 335.920904 185.282746 \r\nL 336.256039 188.537046 \r\nL 336.591174 187.122971 \r\nL 336.926309 190.830316 \r\nL 337.261444 183.789139 \r\nL 337.596579 185.578117 \r\nL 337.931715 184.10862 \r\nL 338.26685 184.753165 \r\nL 338.601985 187.338923 \r\nL 338.93712 184.374225 \r\nL 339.272255 186.447885 \r\nL 339.60739 184.394259 \r\nL 339.942525 186.20005 \r\nL 340.27766 180.229608 \r\nL 340.612796 180.161367 \r\nL 340.947931 181.451818 \r\nL 341.283066 171.225221 \r\nL 341.618201 177.224986 \r\nL 341.953336 173.152619 \r\nL 342.288471 174.555921 \r\nL 342.958742 191.395977 \r\nL 343.293877 192.953767 \r\nL 343.629012 192.245811 \r\nL 343.964147 190.990586 \r\nL 344.299282 190.858542 \r\nL 344.634417 186.362965 \r\nL 344.969552 185.264773 \r\nL 345.304688 188.706308 \r\nL 345.639823 187.73972 \r\nL 345.974958 181.560781 \r\nL 346.310093 184.957742 \r\nL 346.645228 191.68659 \r\nL 346.980363 187.031032 \r\nL 347.315498 190.747382 \r\nL 347.650633 184.653777 \r\nL 347.985769 182.754132 \r\nL 348.320904 187.345893 \r\nL 348.991174 178.164727 \r\nL 349.326309 178.902421 \r\nL 349.661444 179.015538 \r\nL 349.996579 175.392607 \r\nL 350.331715 181.994064 \r\nL 350.66685 179.149759 \r\nL 351.001985 182.398304 \r\nL 351.33712 174.678592 \r\nL 351.672255 169.844445 \r\nL 352.00739 178.945012 \r\nL 352.342525 172.152011 \r\nL 352.67766 178.583678 \r\nL 353.012796 170.950306 \r\nL 353.347931 169.958345 \r\nL 353.683066 172.517915 \r\nL 354.018201 171.252484 \r\nL 354.353336 171.515496 \r\nL 355.023606 176.288575 \r\nL 355.358742 169.157988 \r\nL 355.693877 170.197712 \r\nL 356.029012 166.546644 \r\nL 356.364147 164.188997 \r\nL 356.699282 167.912551 \r\nL 357.034417 164.5125 \r\nL 357.369552 166.410059 \r\nL 357.704688 170.669955 \r\nL 358.374958 165.766279 \r\nL 359.380363 179.492935 \r\nL 359.715498 182.995216 \r\nL 360.050633 182.069464 \r\nL 360.385769 189.112397 \r\nL 360.720904 193.658742 \r\nL 361.056039 193.892808 \r\nL 361.391174 191.169494 \r\nL 361.726309 198.947539 \r\nL 362.061444 195.311519 \r\nL 362.396579 195.361832 \r\nL 362.731715 194.459859 \r\nL 363.06685 201.564068 \r\nL 363.401985 196.217602 \r\nL 363.73712 200.13477 \r\nL 364.742525 183.499294 \r\nL 365.07766 183.169997 \r\nL 365.412796 186.293926 \r\nL 365.747931 185.962253 \r\nL 366.083066 184.510638 \r\nL 366.418201 183.875777 \r\nL 366.753336 180.764348 \r\nL 367.088471 179.158683 \r\nL 367.423606 180.47301 \r\nL 367.758742 184.734428 \r\nL 368.093877 187.301806 \r\nL 368.429012 191.920403 \r\nL 368.764147 194.32235 \r\nL 369.099282 192.231647 \r\nL 369.434417 194.183894 \r\nL 369.769552 199.974517 \r\nL 370.104688 196.515961 \r\nL 370.104688 196.515961 \r\n\" style=\"fill:none;stroke:#1f77b4;stroke-linecap:square;stroke-width:1.5;\"/>\r\n   </g>\r\n   <g id=\"patch_3\">\r\n    <path d=\"M 35.304688 224.64 \r\nL 35.304688 7.2 \r\n\" style=\"fill:none;stroke:#000000;stroke-linecap:square;stroke-linejoin:miter;stroke-width:0.8;\"/>\r\n   </g>\r\n   <g id=\"patch_4\">\r\n    <path d=\"M 370.104688 224.64 \r\nL 370.104688 7.2 \r\n\" style=\"fill:none;stroke:#000000;stroke-linecap:square;stroke-linejoin:miter;stroke-width:0.8;\"/>\r\n   </g>\r\n   <g id=\"patch_5\">\r\n    <path d=\"M 35.304688 224.64 \r\nL 370.104688 224.64 \r\n\" style=\"fill:none;stroke:#000000;stroke-linecap:square;stroke-linejoin:miter;stroke-width:0.8;\"/>\r\n   </g>\r\n   <g id=\"patch_6\">\r\n    <path d=\"M 35.304688 7.2 \r\nL 370.104688 7.2 \r\n\" style=\"fill:none;stroke:#000000;stroke-linecap:square;stroke-linejoin:miter;stroke-width:0.8;\"/>\r\n   </g>\r\n  </g>\r\n </g>\r\n <defs>\r\n  <clipPath id=\"p5168aba512\">\r\n   <rect height=\"217.44\" width=\"334.8\" x=\"35.304688\" y=\"7.2\"/>\r\n  </clipPath>\r\n </defs>\r\n</svg>\r\n",
      "image/png": "[encoded data removed]"
     },
     "metadata": {
      "needs_background": "light"
     }
    }
   ],
   "source": [
    "ts = pd.Series(np.random.randn(1000), index=pd.date_range('1/1/2000', periods=1000))\n",
    "\n",
    "ts = ts.cumsum()\n",
    "\n",
    "ts.plot()"
   ]
  },
  {
   "cell_type": "code",
   "execution_count": 18,
   "metadata": {},
   "outputs": [
    {
     "output_type": "execute_result",
     "data": {
      "text/plain": "<matplotlib.legend.Legend at 0x205cd1fc188>"
     },
     "metadata": {},
     "execution_count": 18
    },
    {
     "output_type": "display_data",
     "data": {
      "text/plain": "<Figure size 432x288 with 0 Axes>"
     },
     "metadata": {}
    },
    {
     "output_type": "display_data",
     "data": {
      "text/plain": "<Figure size 432x288 with 1 Axes>",
      "image/svg+xml": "<?xml version=\"1.0\" encoding=\"utf-8\" standalone=\"no\"?>\r\n<!DOCTYPE svg PUBLIC \"-//W3C//DTD SVG 1.1//EN\"\r\n  \"http://www.w3.org/Graphics/SVG/1.1/DTD/svg11.dtd\">\r\n<!-- Created with matplotlib (https://matplotlib.org/) -->\r\n<svg height=\"259.715937pt\" version=\"1.1\" viewBox=\"0 0 377.304688 259.715937\" width=\"377.304688pt\" xmlns=\"http://www.w3.org/2000/svg\" xmlns:xlink=\"http://www.w3.org/1999/xlink\">\r\n <defs>\r\n  <style type=\"text/css\">\r\n*{stroke-linecap:butt;stroke-linejoin:round;}\r\n  </style>\r\n </defs>\r\n <g id=\"figure_1\">\r\n  <g id=\"patch_1\">\r\n   <path d=\"M 0 259.715937 \r\nL 377.304688 259.715937 \r\nL 377.304688 0 \r\nL 0 0 \r\nz\r\n\" style=\"fill:none;\"/>\r\n  </g>\r\n  <g id=\"axes_1\">\r\n   <g id=\"patch_2\">\r\n    <path d=\"M 35.304688 224.64 \r\nL 370.104688 224.64 \r\nL 370.104688 7.2 \r\nL 35.304688 7.2 \r\nz\r\n\" style=\"fill:#ffffff;\"/>\r\n   </g>\r\n   <g id=\"matplotlib.axis_1\">\r\n    <g id=\"xtick_1\">\r\n     <g id=\"line2d_1\">\r\n      <defs>\r\n       <path d=\"M 0 0 \r\nL 0 3.5 \r\n\" id=\"mab9616b950\" style=\"stroke:#000000;stroke-width:0.8;\"/>\r\n      </defs>\r\n      <g>\r\n       <use style=\"stroke:#000000;stroke-width:0.8;\" x=\"35.304688\" xlink:href=\"#mab9616b950\" y=\"224.64\"/>\r\n      </g>\r\n     </g>\r\n     <g id=\"text_1\">\r\n      <!-- Jan -->\r\n      <defs>\r\n       <path d=\"M 9.8125 72.90625 \r\nL 19.671875 72.90625 \r\nL 19.671875 5.078125 \r\nQ 19.671875 -8.109375 14.671875 -14.0625 \r\nQ 9.671875 -20.015625 -1.421875 -20.015625 \r\nL -5.171875 -20.015625 \r\nL -5.171875 -11.71875 \r\nL -2.09375 -11.71875 \r\nQ 4.4375 -11.71875 7.125 -8.046875 \r\nQ 9.8125 -4.390625 9.8125 5.078125 \r\nz\r\n\" id=\"DejaVuSans-74\"/>\r\n       <path d=\"M 34.28125 27.484375 \r\nQ 23.390625 27.484375 19.1875 25 \r\nQ 14.984375 22.515625 14.984375 16.5 \r\nQ 14.984375 11.71875 18.140625 8.90625 \r\nQ 21.296875 6.109375 26.703125 6.109375 \r\nQ 34.1875 6.109375 38.703125 11.40625 \r\nQ 43.21875 16.703125 43.21875 25.484375 \r\nL 43.21875 27.484375 \r\nz\r\nM 52.203125 31.203125 \r\nL 52.203125 0 \r\nL 43.21875 0 \r\nL 43.21875 8.296875 \r\nQ 40.140625 3.328125 35.546875 0.953125 \r\nQ 30.953125 -1.421875 24.3125 -1.421875 \r\nQ 15.921875 -1.421875 10.953125 3.296875 \r\nQ 6 8.015625 6 15.921875 \r\nQ 6 25.140625 12.171875 29.828125 \r\nQ 18.359375 34.515625 30.609375 34.515625 \r\nL 43.21875 34.515625 \r\nL 43.21875 35.40625 \r\nQ 43.21875 41.609375 39.140625 45 \r\nQ 35.0625 48.390625 27.6875 48.390625 \r\nQ 23 48.390625 18.546875 47.265625 \r\nQ 14.109375 46.140625 10.015625 43.890625 \r\nL 10.015625 52.203125 \r\nQ 14.9375 54.109375 19.578125 55.046875 \r\nQ 24.21875 56 28.609375 56 \r\nQ 40.484375 56 46.34375 49.84375 \r\nQ 52.203125 43.703125 52.203125 31.203125 \r\nz\r\n\" id=\"DejaVuSans-97\"/>\r\n       <path d=\"M 54.890625 33.015625 \r\nL 54.890625 0 \r\nL 45.90625 0 \r\nL 45.90625 32.71875 \r\nQ 45.90625 40.484375 42.875 44.328125 \r\nQ 39.84375 48.1875 33.796875 48.1875 \r\nQ 26.515625 48.1875 22.3125 43.546875 \r\nQ 18.109375 38.921875 18.109375 30.90625 \r\nL 18.109375 0 \r\nL 9.078125 0 \r\nL 9.078125 54.6875 \r\nL 18.109375 54.6875 \r\nL 18.109375 46.1875 \r\nQ 21.34375 51.125 25.703125 53.5625 \r\nQ 30.078125 56 35.796875 56 \r\nQ 45.21875 56 50.046875 50.171875 \r\nQ 54.890625 44.34375 54.890625 33.015625 \r\nz\r\n\" id=\"DejaVuSans-110\"/>\r\n      </defs>\r\n      <g transform=\"translate(27.596875 239.238438)scale(0.1 -0.1)\">\r\n       <use xlink:href=\"#DejaVuSans-74\"/>\r\n       <use x=\"29.492188\" xlink:href=\"#DejaVuSans-97\"/>\r\n       <use x=\"90.771484\" xlink:href=\"#DejaVuSans-110\"/>\r\n      </g>\r\n      <!-- 2000 -->\r\n      <defs>\r\n       <path d=\"M 19.1875 8.296875 \r\nL 53.609375 8.296875 \r\nL 53.609375 0 \r\nL 7.328125 0 \r\nL 7.328125 8.296875 \r\nQ 12.9375 14.109375 22.625 23.890625 \r\nQ 32.328125 33.6875 34.8125 36.53125 \r\nQ 39.546875 41.84375 41.421875 45.53125 \r\nQ 43.3125 49.21875 43.3125 52.78125 \r\nQ 43.3125 58.59375 39.234375 62.25 \r\nQ 35.15625 65.921875 28.609375 65.921875 \r\nQ 23.96875 65.921875 18.8125 64.3125 \r\nQ 13.671875 62.703125 7.8125 59.421875 \r\nL 7.8125 69.390625 \r\nQ 13.765625 71.78125 18.9375 73 \r\nQ 24.125 74.21875 28.421875 74.21875 \r\nQ 39.75 74.21875 46.484375 68.546875 \r\nQ 53.21875 62.890625 53.21875 53.421875 \r\nQ 53.21875 48.921875 51.53125 44.890625 \r\nQ 49.859375 40.875 45.40625 35.40625 \r\nQ 44.1875 33.984375 37.640625 27.21875 \r\nQ 31.109375 20.453125 19.1875 8.296875 \r\nz\r\n\" id=\"DejaVuSans-50\"/>\r\n       <path d=\"M 31.78125 66.40625 \r\nQ 24.171875 66.40625 20.328125 58.90625 \r\nQ 16.5 51.421875 16.5 36.375 \r\nQ 16.5 21.390625 20.328125 13.890625 \r\nQ 24.171875 6.390625 31.78125 6.390625 \r\nQ 39.453125 6.390625 43.28125 13.890625 \r\nQ 47.125 21.390625 47.125 36.375 \r\nQ 47.125 51.421875 43.28125 58.90625 \r\nQ 39.453125 66.40625 31.78125 66.40625 \r\nz\r\nM 31.78125 74.21875 \r\nQ 44.046875 74.21875 50.515625 64.515625 \r\nQ 56.984375 54.828125 56.984375 36.375 \r\nQ 56.984375 17.96875 50.515625 8.265625 \r\nQ 44.046875 -1.421875 31.78125 -1.421875 \r\nQ 19.53125 -1.421875 13.0625 8.265625 \r\nQ 6.59375 17.96875 6.59375 36.375 \r\nQ 6.59375 54.828125 13.0625 64.515625 \r\nQ 19.53125 74.21875 31.78125 74.21875 \r\nz\r\n\" id=\"DejaVuSans-48\"/>\r\n      </defs>\r\n      <g transform=\"translate(22.579687 250.43625)scale(0.1 -0.1)\">\r\n       <use xlink:href=\"#DejaVuSans-50\"/>\r\n       <use x=\"63.623047\" xlink:href=\"#DejaVuSans-48\"/>\r\n       <use x=\"127.246094\" xlink:href=\"#DejaVuSans-48\"/>\r\n       <use x=\"190.869141\" xlink:href=\"#DejaVuSans-48\"/>\r\n      </g>\r\n     </g>\r\n    </g>\r\n    <g id=\"xtick_2\">\r\n     <g id=\"line2d_2\">\r\n      <g>\r\n       <use style=\"stroke:#000000;stroke-width:0.8;\" x=\"157.964147\" xlink:href=\"#mab9616b950\" y=\"224.64\"/>\r\n      </g>\r\n     </g>\r\n     <g id=\"text_2\">\r\n      <!-- Jan -->\r\n      <g transform=\"translate(150.256334 239.238438)scale(0.1 -0.1)\">\r\n       <use xlink:href=\"#DejaVuSans-74\"/>\r\n       <use x=\"29.492188\" xlink:href=\"#DejaVuSans-97\"/>\r\n       <use x=\"90.771484\" xlink:href=\"#DejaVuSans-110\"/>\r\n      </g>\r\n      <!-- 2001 -->\r\n      <defs>\r\n       <path d=\"M 12.40625 8.296875 \r\nL 28.515625 8.296875 \r\nL 28.515625 63.921875 \r\nL 10.984375 60.40625 \r\nL 10.984375 69.390625 \r\nL 28.421875 72.90625 \r\nL 38.28125 72.90625 \r\nL 38.28125 8.296875 \r\nL 54.390625 8.296875 \r\nL 54.390625 0 \r\nL 12.40625 0 \r\nz\r\n\" id=\"DejaVuSans-49\"/>\r\n      </defs>\r\n      <g transform=\"translate(145.239147 250.43625)scale(0.1 -0.1)\">\r\n       <use xlink:href=\"#DejaVuSans-50\"/>\r\n       <use x=\"63.623047\" xlink:href=\"#DejaVuSans-48\"/>\r\n       <use x=\"127.246094\" xlink:href=\"#DejaVuSans-48\"/>\r\n       <use x=\"190.869141\" xlink:href=\"#DejaVuSans-49\"/>\r\n      </g>\r\n     </g>\r\n    </g>\r\n    <g id=\"xtick_3\">\r\n     <g id=\"line2d_3\">\r\n      <g>\r\n       <use style=\"stroke:#000000;stroke-width:0.8;\" x=\"280.288471\" xlink:href=\"#mab9616b950\" y=\"224.64\"/>\r\n      </g>\r\n     </g>\r\n     <g id=\"text_3\">\r\n      <!-- Jan -->\r\n      <g transform=\"translate(272.580659 239.238438)scale(0.1 -0.1)\">\r\n       <use xlink:href=\"#DejaVuSans-74\"/>\r\n       <use x=\"29.492188\" xlink:href=\"#DejaVuSans-97\"/>\r\n       <use x=\"90.771484\" xlink:href=\"#DejaVuSans-110\"/>\r\n      </g>\r\n      <!-- 2002 -->\r\n      <g transform=\"translate(267.563471 250.43625)scale(0.1 -0.1)\">\r\n       <use xlink:href=\"#DejaVuSans-50\"/>\r\n       <use x=\"63.623047\" xlink:href=\"#DejaVuSans-48\"/>\r\n       <use x=\"127.246094\" xlink:href=\"#DejaVuSans-48\"/>\r\n       <use x=\"190.869141\" xlink:href=\"#DejaVuSans-50\"/>\r\n      </g>\r\n     </g>\r\n    </g>\r\n    <g id=\"xtick_4\">\r\n     <g id=\"line2d_4\">\r\n      <g>\r\n       <use style=\"stroke:#000000;stroke-width:0.8;\" x=\"370.104688\" xlink:href=\"#mab9616b950\" y=\"224.64\"/>\r\n      </g>\r\n     </g>\r\n    </g>\r\n    <g id=\"xtick_5\">\r\n     <g id=\"line2d_5\">\r\n      <defs>\r\n       <path d=\"M 0 0 \r\nL 0 2 \r\n\" id=\"m688b86781c\" style=\"stroke:#000000;stroke-width:0.6;\"/>\r\n      </defs>\r\n      <g>\r\n       <use style=\"stroke:#000000;stroke-width:0.6;\" x=\"45.693877\" xlink:href=\"#m688b86781c\" y=\"224.64\"/>\r\n      </g>\r\n     </g>\r\n    </g>\r\n    <g id=\"xtick_6\">\r\n     <g id=\"line2d_6\">\r\n      <g>\r\n       <use style=\"stroke:#000000;stroke-width:0.6;\" x=\"55.412796\" xlink:href=\"#m688b86781c\" y=\"224.64\"/>\r\n      </g>\r\n     </g>\r\n    </g>\r\n    <g id=\"xtick_7\">\r\n     <g id=\"line2d_7\">\r\n      <g>\r\n       <use style=\"stroke:#000000;stroke-width:0.6;\" x=\"65.801985\" xlink:href=\"#m688b86781c\" y=\"224.64\"/>\r\n      </g>\r\n     </g>\r\n    </g>\r\n    <g id=\"xtick_8\">\r\n     <g id=\"line2d_8\">\r\n      <g>\r\n       <use style=\"stroke:#000000;stroke-width:0.6;\" x=\"75.856039\" xlink:href=\"#m688b86781c\" y=\"224.64\"/>\r\n      </g>\r\n     </g>\r\n    </g>\r\n    <g id=\"xtick_9\">\r\n     <g id=\"line2d_9\">\r\n      <g>\r\n       <use style=\"stroke:#000000;stroke-width:0.6;\" x=\"86.245228\" xlink:href=\"#m688b86781c\" y=\"224.64\"/>\r\n      </g>\r\n     </g>\r\n    </g>\r\n    <g id=\"xtick_10\">\r\n     <g id=\"line2d_10\">\r\n      <g>\r\n       <use style=\"stroke:#000000;stroke-width:0.6;\" x=\"96.299282\" xlink:href=\"#m688b86781c\" y=\"224.64\"/>\r\n      </g>\r\n     </g>\r\n     <g id=\"text_4\">\r\n      <!-- Jul -->\r\n      <defs>\r\n       <path d=\"M 8.5 21.578125 \r\nL 8.5 54.6875 \r\nL 17.484375 54.6875 \r\nL 17.484375 21.921875 \r\nQ 17.484375 14.15625 20.5 10.265625 \r\nQ 23.53125 6.390625 29.59375 6.390625 \r\nQ 36.859375 6.390625 41.078125 11.03125 \r\nQ 45.3125 15.671875 45.3125 23.6875 \r\nL 45.3125 54.6875 \r\nL 54.296875 54.6875 \r\nL 54.296875 0 \r\nL 45.3125 0 \r\nL 45.3125 8.40625 \r\nQ 42.046875 3.421875 37.71875 1 \r\nQ 33.40625 -1.421875 27.6875 -1.421875 \r\nQ 18.265625 -1.421875 13.375 4.4375 \r\nQ 8.5 10.296875 8.5 21.578125 \r\nz\r\nM 31.109375 56 \r\nz\r\n\" id=\"DejaVuSans-117\"/>\r\n       <path d=\"M 9.421875 75.984375 \r\nL 18.40625 75.984375 \r\nL 18.40625 0 \r\nL 9.421875 0 \r\nz\r\n\" id=\"DejaVuSans-108\"/>\r\n      </defs>\r\n      <g transform=\"translate(90.26647 237.638438)scale(0.1 -0.1)\">\r\n       <use xlink:href=\"#DejaVuSans-74\"/>\r\n       <use x=\"29.492188\" xlink:href=\"#DejaVuSans-117\"/>\r\n       <use x=\"92.871094\" xlink:href=\"#DejaVuSans-108\"/>\r\n      </g>\r\n     </g>\r\n    </g>\r\n    <g id=\"xtick_11\">\r\n     <g id=\"line2d_11\">\r\n      <g>\r\n       <use style=\"stroke:#000000;stroke-width:0.6;\" x=\"106.688471\" xlink:href=\"#m688b86781c\" y=\"224.64\"/>\r\n      </g>\r\n     </g>\r\n    </g>\r\n    <g id=\"xtick_12\">\r\n     <g id=\"line2d_12\">\r\n      <g>\r\n       <use style=\"stroke:#000000;stroke-width:0.6;\" x=\"117.07766\" xlink:href=\"#m688b86781c\" y=\"224.64\"/>\r\n      </g>\r\n     </g>\r\n    </g>\r\n    <g id=\"xtick_13\">\r\n     <g id=\"line2d_13\">\r\n      <g>\r\n       <use style=\"stroke:#000000;stroke-width:0.6;\" x=\"127.131715\" xlink:href=\"#m688b86781c\" y=\"224.64\"/>\r\n      </g>\r\n     </g>\r\n    </g>\r\n    <g id=\"xtick_14\">\r\n     <g id=\"line2d_14\">\r\n      <g>\r\n       <use style=\"stroke:#000000;stroke-width:0.6;\" x=\"137.520904\" xlink:href=\"#m688b86781c\" y=\"224.64\"/>\r\n      </g>\r\n     </g>\r\n    </g>\r\n    <g id=\"xtick_15\">\r\n     <g id=\"line2d_15\">\r\n      <g>\r\n       <use style=\"stroke:#000000;stroke-width:0.6;\" x=\"147.574958\" xlink:href=\"#m688b86781c\" y=\"224.64\"/>\r\n      </g>\r\n     </g>\r\n    </g>\r\n    <g id=\"xtick_16\">\r\n     <g id=\"line2d_16\">\r\n      <g>\r\n       <use style=\"stroke:#000000;stroke-width:0.6;\" x=\"168.353336\" xlink:href=\"#m688b86781c\" y=\"224.64\"/>\r\n      </g>\r\n     </g>\r\n    </g>\r\n    <g id=\"xtick_17\">\r\n     <g id=\"line2d_17\">\r\n      <g>\r\n       <use style=\"stroke:#000000;stroke-width:0.6;\" x=\"177.73712\" xlink:href=\"#m688b86781c\" y=\"224.64\"/>\r\n      </g>\r\n     </g>\r\n    </g>\r\n    <g id=\"xtick_18\">\r\n     <g id=\"line2d_18\">\r\n      <g>\r\n       <use style=\"stroke:#000000;stroke-width:0.6;\" x=\"188.126309\" xlink:href=\"#m688b86781c\" y=\"224.64\"/>\r\n      </g>\r\n     </g>\r\n    </g>\r\n    <g id=\"xtick_19\">\r\n     <g id=\"line2d_19\">\r\n      <g>\r\n       <use style=\"stroke:#000000;stroke-width:0.6;\" x=\"198.180363\" xlink:href=\"#m688b86781c\" y=\"224.64\"/>\r\n      </g>\r\n     </g>\r\n    </g>\r\n    <g id=\"xtick_20\">\r\n     <g id=\"line2d_20\">\r\n      <g>\r\n       <use style=\"stroke:#000000;stroke-width:0.6;\" x=\"208.569552\" xlink:href=\"#m688b86781c\" y=\"224.64\"/>\r\n      </g>\r\n     </g>\r\n    </g>\r\n    <g id=\"xtick_21\">\r\n     <g id=\"line2d_21\">\r\n      <g>\r\n       <use style=\"stroke:#000000;stroke-width:0.6;\" x=\"218.623606\" xlink:href=\"#m688b86781c\" y=\"224.64\"/>\r\n      </g>\r\n     </g>\r\n     <g id=\"text_5\">\r\n      <!-- Jul -->\r\n      <g transform=\"translate(212.590794 237.638438)scale(0.1 -0.1)\">\r\n       <use xlink:href=\"#DejaVuSans-74\"/>\r\n       <use x=\"29.492188\" xlink:href=\"#DejaVuSans-117\"/>\r\n       <use x=\"92.871094\" xlink:href=\"#DejaVuSans-108\"/>\r\n      </g>\r\n     </g>\r\n    </g>\r\n    <g id=\"xtick_22\">\r\n     <g id=\"line2d_22\">\r\n      <g>\r\n       <use style=\"stroke:#000000;stroke-width:0.6;\" x=\"229.012796\" xlink:href=\"#m688b86781c\" y=\"224.64\"/>\r\n      </g>\r\n     </g>\r\n    </g>\r\n    <g id=\"xtick_23\">\r\n     <g id=\"line2d_23\">\r\n      <g>\r\n       <use style=\"stroke:#000000;stroke-width:0.6;\" x=\"239.401985\" xlink:href=\"#m688b86781c\" y=\"224.64\"/>\r\n      </g>\r\n     </g>\r\n    </g>\r\n    <g id=\"xtick_24\">\r\n     <g id=\"line2d_24\">\r\n      <g>\r\n       <use style=\"stroke:#000000;stroke-width:0.6;\" x=\"249.456039\" xlink:href=\"#m688b86781c\" y=\"224.64\"/>\r\n      </g>\r\n     </g>\r\n    </g>\r\n    <g id=\"xtick_25\">\r\n     <g id=\"line2d_25\">\r\n      <g>\r\n       <use style=\"stroke:#000000;stroke-width:0.6;\" x=\"259.845228\" xlink:href=\"#m688b86781c\" y=\"224.64\"/>\r\n      </g>\r\n     </g>\r\n    </g>\r\n    <g id=\"xtick_26\">\r\n     <g id=\"line2d_26\">\r\n      <g>\r\n       <use style=\"stroke:#000000;stroke-width:0.6;\" x=\"269.899282\" xlink:href=\"#m688b86781c\" y=\"224.64\"/>\r\n      </g>\r\n     </g>\r\n    </g>\r\n    <g id=\"xtick_27\">\r\n     <g id=\"line2d_27\">\r\n      <g>\r\n       <use style=\"stroke:#000000;stroke-width:0.6;\" x=\"290.67766\" xlink:href=\"#m688b86781c\" y=\"224.64\"/>\r\n      </g>\r\n     </g>\r\n    </g>\r\n    <g id=\"xtick_28\">\r\n     <g id=\"line2d_28\">\r\n      <g>\r\n       <use style=\"stroke:#000000;stroke-width:0.6;\" x=\"300.061444\" xlink:href=\"#m688b86781c\" y=\"224.64\"/>\r\n      </g>\r\n     </g>\r\n    </g>\r\n    <g id=\"xtick_29\">\r\n     <g id=\"line2d_29\">\r\n      <g>\r\n       <use style=\"stroke:#000000;stroke-width:0.6;\" x=\"310.450633\" xlink:href=\"#m688b86781c\" y=\"224.64\"/>\r\n      </g>\r\n     </g>\r\n    </g>\r\n    <g id=\"xtick_30\">\r\n     <g id=\"line2d_30\">\r\n      <g>\r\n       <use style=\"stroke:#000000;stroke-width:0.6;\" x=\"320.504687\" xlink:href=\"#m688b86781c\" y=\"224.64\"/>\r\n      </g>\r\n     </g>\r\n    </g>\r\n    <g id=\"xtick_31\">\r\n     <g id=\"line2d_31\">\r\n      <g>\r\n       <use style=\"stroke:#000000;stroke-width:0.6;\" x=\"330.893877\" xlink:href=\"#m688b86781c\" y=\"224.64\"/>\r\n      </g>\r\n     </g>\r\n    </g>\r\n    <g id=\"xtick_32\">\r\n     <g id=\"line2d_32\">\r\n      <g>\r\n       <use style=\"stroke:#000000;stroke-width:0.6;\" x=\"340.947931\" xlink:href=\"#m688b86781c\" y=\"224.64\"/>\r\n      </g>\r\n     </g>\r\n     <g id=\"text_6\">\r\n      <!-- Jul -->\r\n      <g transform=\"translate(334.915118 237.638438)scale(0.1 -0.1)\">\r\n       <use xlink:href=\"#DejaVuSans-74\"/>\r\n       <use x=\"29.492188\" xlink:href=\"#DejaVuSans-117\"/>\r\n       <use x=\"92.871094\" xlink:href=\"#DejaVuSans-108\"/>\r\n      </g>\r\n     </g>\r\n    </g>\r\n    <g id=\"xtick_33\">\r\n     <g id=\"line2d_33\">\r\n      <g>\r\n       <use style=\"stroke:#000000;stroke-width:0.6;\" x=\"351.33712\" xlink:href=\"#m688b86781c\" y=\"224.64\"/>\r\n      </g>\r\n     </g>\r\n    </g>\r\n    <g id=\"xtick_34\">\r\n     <g id=\"line2d_34\">\r\n      <g>\r\n       <use style=\"stroke:#000000;stroke-width:0.6;\" x=\"361.726309\" xlink:href=\"#m688b86781c\" y=\"224.64\"/>\r\n      </g>\r\n     </g>\r\n    </g>\r\n   </g>\r\n   <g id=\"matplotlib.axis_2\">\r\n    <g id=\"ytick_1\">\r\n     <g id=\"line2d_35\">\r\n      <defs>\r\n       <path d=\"M 0 0 \r\nL -3.5 0 \r\n\" id=\"mc268c0ffba\" style=\"stroke:#000000;stroke-width:0.8;\"/>\r\n      </defs>\r\n      <g>\r\n       <use style=\"stroke:#000000;stroke-width:0.8;\" x=\"35.304688\" xlink:href=\"#mc268c0ffba\" y=\"215.211484\"/>\r\n      </g>\r\n     </g>\r\n     <g id=\"text_7\">\r\n      <!-- −80 -->\r\n      <defs>\r\n       <path d=\"M 10.59375 35.5 \r\nL 73.1875 35.5 \r\nL 73.1875 27.203125 \r\nL 10.59375 27.203125 \r\nz\r\n\" id=\"DejaVuSans-8722\"/>\r\n       <path d=\"M 31.78125 34.625 \r\nQ 24.75 34.625 20.71875 30.859375 \r\nQ 16.703125 27.09375 16.703125 20.515625 \r\nQ 16.703125 13.921875 20.71875 10.15625 \r\nQ 24.75 6.390625 31.78125 6.390625 \r\nQ 38.8125 6.390625 42.859375 10.171875 \r\nQ 46.921875 13.96875 46.921875 20.515625 \r\nQ 46.921875 27.09375 42.890625 30.859375 \r\nQ 38.875 34.625 31.78125 34.625 \r\nz\r\nM 21.921875 38.8125 \r\nQ 15.578125 40.375 12.03125 44.71875 \r\nQ 8.5 49.078125 8.5 55.328125 \r\nQ 8.5 64.0625 14.71875 69.140625 \r\nQ 20.953125 74.21875 31.78125 74.21875 \r\nQ 42.671875 74.21875 48.875 69.140625 \r\nQ 55.078125 64.0625 55.078125 55.328125 \r\nQ 55.078125 49.078125 51.53125 44.71875 \r\nQ 48 40.375 41.703125 38.8125 \r\nQ 48.828125 37.15625 52.796875 32.3125 \r\nQ 56.78125 27.484375 56.78125 20.515625 \r\nQ 56.78125 9.90625 50.3125 4.234375 \r\nQ 43.84375 -1.421875 31.78125 -1.421875 \r\nQ 19.734375 -1.421875 13.25 4.234375 \r\nQ 6.78125 9.90625 6.78125 20.515625 \r\nQ 6.78125 27.484375 10.78125 32.3125 \r\nQ 14.796875 37.15625 21.921875 38.8125 \r\nz\r\nM 18.3125 54.390625 \r\nQ 18.3125 48.734375 21.84375 45.5625 \r\nQ 25.390625 42.390625 31.78125 42.390625 \r\nQ 38.140625 42.390625 41.71875 45.5625 \r\nQ 45.3125 48.734375 45.3125 54.390625 \r\nQ 45.3125 60.0625 41.71875 63.234375 \r\nQ 38.140625 66.40625 31.78125 66.40625 \r\nQ 25.390625 66.40625 21.84375 63.234375 \r\nQ 18.3125 60.0625 18.3125 54.390625 \r\nz\r\n\" id=\"DejaVuSans-56\"/>\r\n      </defs>\r\n      <g transform=\"translate(7.2 219.010702)scale(0.1 -0.1)\">\r\n       <use xlink:href=\"#DejaVuSans-8722\"/>\r\n       <use x=\"83.789062\" xlink:href=\"#DejaVuSans-56\"/>\r\n       <use x=\"147.412109\" xlink:href=\"#DejaVuSans-48\"/>\r\n      </g>\r\n     </g>\r\n    </g>\r\n    <g id=\"ytick_2\">\r\n     <g id=\"line2d_36\">\r\n      <g>\r\n       <use style=\"stroke:#000000;stroke-width:0.8;\" x=\"35.304688\" xlink:href=\"#mc268c0ffba\" y=\"184.179942\"/>\r\n      </g>\r\n     </g>\r\n     <g id=\"text_8\">\r\n      <!-- −60 -->\r\n      <defs>\r\n       <path d=\"M 33.015625 40.375 \r\nQ 26.375 40.375 22.484375 35.828125 \r\nQ 18.609375 31.296875 18.609375 23.390625 \r\nQ 18.609375 15.53125 22.484375 10.953125 \r\nQ 26.375 6.390625 33.015625 6.390625 \r\nQ 39.65625 6.390625 43.53125 10.953125 \r\nQ 47.40625 15.53125 47.40625 23.390625 \r\nQ 47.40625 31.296875 43.53125 35.828125 \r\nQ 39.65625 40.375 33.015625 40.375 \r\nz\r\nM 52.59375 71.296875 \r\nL 52.59375 62.3125 \r\nQ 48.875 64.0625 45.09375 64.984375 \r\nQ 41.3125 65.921875 37.59375 65.921875 \r\nQ 27.828125 65.921875 22.671875 59.328125 \r\nQ 17.53125 52.734375 16.796875 39.40625 \r\nQ 19.671875 43.65625 24.015625 45.921875 \r\nQ 28.375 48.1875 33.59375 48.1875 \r\nQ 44.578125 48.1875 50.953125 41.515625 \r\nQ 57.328125 34.859375 57.328125 23.390625 \r\nQ 57.328125 12.15625 50.6875 5.359375 \r\nQ 44.046875 -1.421875 33.015625 -1.421875 \r\nQ 20.359375 -1.421875 13.671875 8.265625 \r\nQ 6.984375 17.96875 6.984375 36.375 \r\nQ 6.984375 53.65625 15.1875 63.9375 \r\nQ 23.390625 74.21875 37.203125 74.21875 \r\nQ 40.921875 74.21875 44.703125 73.484375 \r\nQ 48.484375 72.75 52.59375 71.296875 \r\nz\r\n\" id=\"DejaVuSans-54\"/>\r\n      </defs>\r\n      <g transform=\"translate(7.2 187.97916)scale(0.1 -0.1)\">\r\n       <use xlink:href=\"#DejaVuSans-8722\"/>\r\n       <use x=\"83.789062\" xlink:href=\"#DejaVuSans-54\"/>\r\n       <use x=\"147.412109\" xlink:href=\"#DejaVuSans-48\"/>\r\n      </g>\r\n     </g>\r\n    </g>\r\n    <g id=\"ytick_3\">\r\n     <g id=\"line2d_37\">\r\n      <g>\r\n       <use style=\"stroke:#000000;stroke-width:0.8;\" x=\"35.304688\" xlink:href=\"#mc268c0ffba\" y=\"153.1484\"/>\r\n      </g>\r\n     </g>\r\n     <g id=\"text_9\">\r\n      <!-- −40 -->\r\n      <defs>\r\n       <path d=\"M 37.796875 64.3125 \r\nL 12.890625 25.390625 \r\nL 37.796875 25.390625 \r\nz\r\nM 35.203125 72.90625 \r\nL 47.609375 72.90625 \r\nL 47.609375 25.390625 \r\nL 58.015625 25.390625 \r\nL 58.015625 17.1875 \r\nL 47.609375 17.1875 \r\nL 47.609375 0 \r\nL 37.796875 0 \r\nL 37.796875 17.1875 \r\nL 4.890625 17.1875 \r\nL 4.890625 26.703125 \r\nz\r\n\" id=\"DejaVuSans-52\"/>\r\n      </defs>\r\n      <g transform=\"translate(7.2 156.947618)scale(0.1 -0.1)\">\r\n       <use xlink:href=\"#DejaVuSans-8722\"/>\r\n       <use x=\"83.789062\" xlink:href=\"#DejaVuSans-52\"/>\r\n       <use x=\"147.412109\" xlink:href=\"#DejaVuSans-48\"/>\r\n      </g>\r\n     </g>\r\n    </g>\r\n    <g id=\"ytick_4\">\r\n     <g id=\"line2d_38\">\r\n      <g>\r\n       <use style=\"stroke:#000000;stroke-width:0.8;\" x=\"35.304688\" xlink:href=\"#mc268c0ffba\" y=\"122.116858\"/>\r\n      </g>\r\n     </g>\r\n     <g id=\"text_10\">\r\n      <!-- −20 -->\r\n      <g transform=\"translate(7.2 125.916076)scale(0.1 -0.1)\">\r\n       <use xlink:href=\"#DejaVuSans-8722\"/>\r\n       <use x=\"83.789062\" xlink:href=\"#DejaVuSans-50\"/>\r\n       <use x=\"147.412109\" xlink:href=\"#DejaVuSans-48\"/>\r\n      </g>\r\n     </g>\r\n    </g>\r\n    <g id=\"ytick_5\">\r\n     <g id=\"line2d_39\">\r\n      <g>\r\n       <use style=\"stroke:#000000;stroke-width:0.8;\" x=\"35.304688\" xlink:href=\"#mc268c0ffba\" y=\"91.085316\"/>\r\n      </g>\r\n     </g>\r\n     <g id=\"text_11\">\r\n      <!-- 0 -->\r\n      <g transform=\"translate(21.942188 94.884534)scale(0.1 -0.1)\">\r\n       <use xlink:href=\"#DejaVuSans-48\"/>\r\n      </g>\r\n     </g>\r\n    </g>\r\n    <g id=\"ytick_6\">\r\n     <g id=\"line2d_40\">\r\n      <g>\r\n       <use style=\"stroke:#000000;stroke-width:0.8;\" x=\"35.304688\" xlink:href=\"#mc268c0ffba\" y=\"60.053774\"/>\r\n      </g>\r\n     </g>\r\n     <g id=\"text_12\">\r\n      <!-- 20 -->\r\n      <g transform=\"translate(15.579688 63.852992)scale(0.1 -0.1)\">\r\n       <use xlink:href=\"#DejaVuSans-50\"/>\r\n       <use x=\"63.623047\" xlink:href=\"#DejaVuSans-48\"/>\r\n      </g>\r\n     </g>\r\n    </g>\r\n    <g id=\"ytick_7\">\r\n     <g id=\"line2d_41\">\r\n      <g>\r\n       <use style=\"stroke:#000000;stroke-width:0.8;\" x=\"35.304688\" xlink:href=\"#mc268c0ffba\" y=\"29.022232\"/>\r\n      </g>\r\n     </g>\r\n     <g id=\"text_13\">\r\n      <!-- 40 -->\r\n      <g transform=\"translate(15.579688 32.82145)scale(0.1 -0.1)\">\r\n       <use xlink:href=\"#DejaVuSans-52\"/>\r\n       <use x=\"63.623047\" xlink:href=\"#DejaVuSans-48\"/>\r\n      </g>\r\n     </g>\r\n    </g>\r\n   </g>\r\n   <g id=\"line2d_42\">\r\n    <path clip-path=\"url(#p908ec32487)\" d=\"M 35.304688 88.6859 \r\nL 35.639823 90.158659 \r\nL 35.974958 90.996744 \r\nL 36.310093 89.780014 \r\nL 36.645228 89.544415 \r\nL 36.980363 86.810614 \r\nL 37.315498 89.613731 \r\nL 37.650633 88.516906 \r\nL 37.985769 89.14302 \r\nL 38.320904 87.806342 \r\nL 38.656039 87.995515 \r\nL 39.661444 91.803564 \r\nL 39.996579 92.359588 \r\nL 40.331715 90.952825 \r\nL 40.66685 90.795009 \r\nL 41.001985 92.257995 \r\nL 41.33712 91.819938 \r\nL 41.672255 93.153712 \r\nL 42.00739 92.774932 \r\nL 42.342525 92.079412 \r\nL 43.012796 91.689877 \r\nL 43.347931 91.918017 \r\nL 43.683066 90.561546 \r\nL 44.018201 91.687485 \r\nL 44.353336 90.489468 \r\nL 44.688471 91.624357 \r\nL 45.023606 89.553115 \r\nL 45.358742 90.2984 \r\nL 46.364147 91.253714 \r\nL 46.699282 92.604844 \r\nL 47.369552 95.735885 \r\nL 47.704688 94.937348 \r\nL 48.039823 92.368062 \r\nL 48.374958 92.469373 \r\nL 48.710093 92.868135 \r\nL 49.045228 95.031873 \r\nL 49.380363 96.373739 \r\nL 49.715498 95.064564 \r\nL 50.050633 94.976263 \r\nL 50.385769 96.470936 \r\nL 51.056039 92.397366 \r\nL 52.061444 100.465117 \r\nL 52.396579 99.794869 \r\nL 52.731715 97.932261 \r\nL 53.06685 98.73253 \r\nL 53.401985 100.042234 \r\nL 53.73712 102.940212 \r\nL 54.072255 100.122574 \r\nL 54.40739 99.508448 \r\nL 54.742525 99.375169 \r\nL 55.07766 101.902278 \r\nL 55.412796 100.252547 \r\nL 55.747931 100.803034 \r\nL 56.083066 101.687728 \r\nL 56.418201 102.038841 \r\nL 56.753336 101.364998 \r\nL 57.088471 101.962698 \r\nL 57.423606 100.703466 \r\nL 57.758742 101.408219 \r\nL 58.093877 100.776936 \r\nL 58.429012 98.892099 \r\nL 58.764147 98.813535 \r\nL 59.099282 99.008058 \r\nL 59.434417 97.307658 \r\nL 59.769552 97.32146 \r\nL 60.104687 99.529767 \r\nL 60.439823 100.354007 \r\nL 60.774958 100.098643 \r\nL 61.110093 96.803607 \r\nL 61.445228 96.322436 \r\nL 61.780363 96.39755 \r\nL 62.115498 96.287639 \r\nL 62.450633 96.378178 \r\nL 62.785769 92.307629 \r\nL 63.120904 90.608906 \r\nL 63.456039 91.398234 \r\nL 63.791174 92.679422 \r\nL 64.126309 92.338034 \r\nL 64.461444 91.440152 \r\nL 64.796579 90.884445 \r\nL 65.46685 92.579343 \r\nL 65.801985 91.350415 \r\nL 66.472255 86.414719 \r\nL 67.142525 86.985656 \r\nL 67.812796 86.52027 \r\nL 68.147931 86.973658 \r\nL 68.483066 86.40732 \r\nL 68.818201 84.936481 \r\nL 69.153336 84.241218 \r\nL 69.488471 84.219517 \r\nL 69.823606 82.777368 \r\nL 70.158742 85.647426 \r\nL 70.493877 86.014733 \r\nL 70.829012 86.633429 \r\nL 71.164147 89.106683 \r\nL 71.499282 87.145974 \r\nL 71.834417 86.601181 \r\nL 72.169552 85.824243 \r\nL 72.504687 89.648247 \r\nL 72.839823 95.739103 \r\nL 73.174958 97.877455 \r\nL 73.510093 98.069242 \r\nL 73.845228 97.343801 \r\nL 74.515498 102.084978 \r\nL 74.850633 102.21888 \r\nL 75.185769 101.615281 \r\nL 75.520904 100.459776 \r\nL 75.856039 101.385598 \r\nL 76.191174 98.17087 \r\nL 76.526309 99.496234 \r\nL 76.861444 98.289201 \r\nL 77.196579 98.325613 \r\nL 77.531715 97.246655 \r\nL 77.86685 96.927971 \r\nL 78.201985 96.356242 \r\nL 78.53712 98.379379 \r\nL 78.872255 99.496209 \r\nL 79.20739 99.884642 \r\nL 79.542525 101.472421 \r\nL 79.87766 100.517167 \r\nL 80.547931 101.525981 \r\nL 80.883066 98.927584 \r\nL 81.218201 98.54981 \r\nL 81.553336 101.350202 \r\nL 81.888471 102.326813 \r\nL 82.223606 101.413746 \r\nL 82.558742 100.113979 \r\nL 82.893877 99.463092 \r\nL 83.564147 97.741051 \r\nL 83.899282 97.785307 \r\nL 84.569552 93.979295 \r\nL 84.904687 94.299933 \r\nL 85.239823 91.148469 \r\nL 85.574958 91.968602 \r\nL 86.245228 95.568475 \r\nL 86.580363 94.058909 \r\nL 86.915498 94.955639 \r\nL 87.250633 96.846501 \r\nL 87.585769 94.447856 \r\nL 87.920904 93.994412 \r\nL 88.926309 94.628604 \r\nL 89.261444 96.307287 \r\nL 89.596579 95.983936 \r\nL 89.931715 92.812847 \r\nL 90.26685 94.042679 \r\nL 90.601985 94.470802 \r\nL 90.93712 93.939977 \r\nL 91.272255 92.022657 \r\nL 91.60739 88.414241 \r\nL 92.27766 92.939476 \r\nL 92.612796 91.776503 \r\nL 92.947931 92.581435 \r\nL 93.283066 91.936934 \r\nL 93.618201 92.405941 \r\nL 93.953336 92.008923 \r\nL 94.623606 95.466086 \r\nL 95.293877 93.755623 \r\nL 95.629012 95.303844 \r\nL 95.964147 94.691307 \r\nL 96.299282 98.691588 \r\nL 96.969552 98.702111 \r\nL 97.304688 100.157116 \r\nL 97.639823 96.858435 \r\nL 97.974958 95.303327 \r\nL 98.310093 94.908356 \r\nL 98.645228 92.183302 \r\nL 98.980363 90.820858 \r\nL 99.315498 91.520186 \r\nL 99.650633 90.815636 \r\nL 99.985769 91.108318 \r\nL 100.320904 93.623467 \r\nL 100.656039 92.273218 \r\nL 100.991174 90.423896 \r\nL 101.326309 90.096089 \r\nL 101.661444 89.362487 \r\nL 101.996579 87.271719 \r\nL 102.331715 87.990654 \r\nL 102.66685 89.188502 \r\nL 103.001985 88.496825 \r\nL 103.33712 89.026587 \r\nL 103.672255 91.463534 \r\nL 104.00739 93.005403 \r\nL 104.342525 93.979565 \r\nL 105.012796 91.279417 \r\nL 105.347931 92.830085 \r\nL 105.683066 90.571684 \r\nL 106.353336 90.012083 \r\nL 106.688471 89.543526 \r\nL 107.023606 89.973495 \r\nL 107.358742 89.922435 \r\nL 107.693877 90.856059 \r\nL 108.029012 89.535374 \r\nL 108.364147 89.574258 \r\nL 108.699282 91.431673 \r\nL 109.034417 91.105014 \r\nL 109.369552 90.304156 \r\nL 109.704688 92.583629 \r\nL 110.039823 92.649826 \r\nL 110.374958 93.582324 \r\nL 110.710093 97.391399 \r\nL 111.045228 97.112191 \r\nL 111.380363 96.445876 \r\nL 111.715498 97.859187 \r\nL 112.050633 98.00868 \r\nL 112.385769 98.39237 \r\nL 112.720904 95.258984 \r\nL 113.056039 94.198283 \r\nL 113.391174 95.368356 \r\nL 113.726309 94.034063 \r\nL 114.061444 91.011783 \r\nL 114.396579 89.783091 \r\nL 114.731715 89.976283 \r\nL 115.06685 91.197623 \r\nL 115.401985 90.315187 \r\nL 115.73712 94.78958 \r\nL 116.072255 94.365562 \r\nL 116.742525 97.733908 \r\nL 117.07766 96.017756 \r\nL 117.412796 97.754575 \r\nL 117.747931 97.96647 \r\nL 118.083066 97.018347 \r\nL 118.418201 97.981481 \r\nL 119.088471 97.75668 \r\nL 119.423606 99.056995 \r\nL 119.758742 99.671686 \r\nL 120.764147 104.786789 \r\nL 121.099282 104.003241 \r\nL 121.434417 103.863969 \r\nL 121.769552 103.551197 \r\nL 122.104687 103.075191 \r\nL 122.439823 102.932288 \r\nL 122.774958 104.609406 \r\nL 123.445228 101.49326 \r\nL 123.780363 101.47722 \r\nL 124.115498 103.602077 \r\nL 124.450633 104.87754 \r\nL 124.785769 108.86988 \r\nL 125.120904 106.982045 \r\nL 125.456039 106.624744 \r\nL 125.791174 105.883145 \r\nL 126.461444 106.880629 \r\nL 127.131715 109.230372 \r\nL 127.46685 108.101702 \r\nL 128.13712 111.260456 \r\nL 128.80739 111.877681 \r\nL 129.142525 109.662117 \r\nL 129.47766 108.517251 \r\nL 129.812796 108.994487 \r\nL 130.147931 110.306927 \r\nL 130.483066 110.199516 \r\nL 130.818201 113.230575 \r\nL 131.153336 114.169616 \r\nL 131.488471 111.995074 \r\nL 131.823606 111.732876 \r\nL 132.493877 108.36505 \r\nL 132.829012 110.719787 \r\nL 133.164147 110.417948 \r\nL 133.499282 107.583593 \r\nL 133.834417 107.086505 \r\nL 134.169552 109.017692 \r\nL 134.504687 107.540777 \r\nL 134.839823 108.025893 \r\nL 135.174958 105.923401 \r\nL 135.510093 107.647821 \r\nL 135.845228 107.960273 \r\nL 136.180363 108.710419 \r\nL 136.515498 107.724766 \r\nL 136.850633 106.369651 \r\nL 137.185769 109.081186 \r\nL 137.520904 108.056933 \r\nL 137.856039 109.057751 \r\nL 138.526309 105.246434 \r\nL 138.861444 105.344654 \r\nL 139.196579 107.704216 \r\nL 139.531715 106.374882 \r\nL 139.86685 107.214879 \r\nL 140.201985 106.399437 \r\nL 140.53712 106.225956 \r\nL 140.872255 107.022696 \r\nL 141.20739 110.243967 \r\nL 141.542525 112.146723 \r\nL 141.87766 112.076783 \r\nL 142.212796 109.170706 \r\nL 142.547931 109.681411 \r\nL 142.883066 109.8853 \r\nL 143.218201 106.080283 \r\nL 143.553336 106.188911 \r\nL 143.888471 105.87841 \r\nL 144.223606 106.048952 \r\nL 144.558742 105.181388 \r\nL 144.893877 107.845694 \r\nL 145.229012 105.880079 \r\nL 145.564147 105.793261 \r\nL 146.234417 108.268162 \r\nL 146.904687 108.234765 \r\nL 147.239823 108.010444 \r\nL 147.574958 108.392159 \r\nL 147.910093 107.800584 \r\nL 148.245228 109.2517 \r\nL 148.580363 107.57432 \r\nL 148.915498 110.136862 \r\nL 149.250633 113.574572 \r\nL 149.585769 112.597592 \r\nL 150.256039 117.218248 \r\nL 150.591174 116.779054 \r\nL 150.926309 118.564759 \r\nL 151.261444 117.723343 \r\nL 151.596579 120.23831 \r\nL 152.601985 124.711385 \r\nL 152.93712 124.825197 \r\nL 153.272255 123.489964 \r\nL 153.60739 124.364404 \r\nL 153.942525 121.448366 \r\nL 154.612796 125.945968 \r\nL 154.947931 125.235052 \r\nL 155.283066 125.207128 \r\nL 155.618201 125.022941 \r\nL 155.953336 123.511957 \r\nL 156.623606 121.494259 \r\nL 156.958742 123.758409 \r\nL 157.293877 123.765529 \r\nL 157.629012 123.093243 \r\nL 157.964147 124.014812 \r\nL 158.299282 126.00673 \r\nL 158.634417 124.824823 \r\nL 158.969552 123.139885 \r\nL 159.304688 124.858887 \r\nL 159.639823 123.409236 \r\nL 159.974958 125.617025 \r\nL 160.310093 125.974286 \r\nL 160.645228 123.592611 \r\nL 160.980363 124.82515 \r\nL 161.315498 123.0964 \r\nL 161.650633 124.489634 \r\nL 161.985769 128.26065 \r\nL 162.656039 132.909289 \r\nL 162.991174 132.08893 \r\nL 163.326309 132.161774 \r\nL 163.661444 131.150191 \r\nL 163.996579 130.784274 \r\nL 164.331715 129.981851 \r\nL 164.66685 131.664265 \r\nL 165.001985 131.872574 \r\nL 165.33712 130.963045 \r\nL 165.672255 127.985181 \r\nL 166.00739 128.850945 \r\nL 166.342525 129.308487 \r\nL 166.67766 131.36691 \r\nL 167.012796 129.995012 \r\nL 167.347931 130.283512 \r\nL 167.683066 131.948396 \r\nL 168.353336 131.47629 \r\nL 168.688471 131.486813 \r\nL 169.023606 129.712448 \r\nL 169.358742 129.985932 \r\nL 169.693877 128.272817 \r\nL 170.029012 130.322468 \r\nL 170.364147 133.4224 \r\nL 170.699282 133.896609 \r\nL 171.034417 132.084734 \r\nL 171.369552 131.441583 \r\nL 171.704688 132.483228 \r\nL 172.039823 131.98281 \r\nL 172.374958 134.521675 \r\nL 172.710093 134.87225 \r\nL 173.045228 135.703437 \r\nL 173.380363 135.03652 \r\nL 173.715498 136.478365 \r\nL 174.050633 137.388695 \r\nL 174.385769 137.949645 \r\nL 174.720904 135.520917 \r\nL 175.056039 135.563259 \r\nL 175.726309 133.376879 \r\nL 176.061444 133.929169 \r\nL 176.396579 135.853988 \r\nL 176.731715 135.987326 \r\nL 177.06685 134.887108 \r\nL 177.401985 134.496716 \r\nL 177.73712 134.88351 \r\nL 178.40739 140.805097 \r\nL 178.742525 139.57926 \r\nL 179.07766 139.727635 \r\nL 179.412796 140.788113 \r\nL 179.747931 142.299096 \r\nL 180.083066 139.623589 \r\nL 180.418201 139.109784 \r\nL 180.753336 140.817839 \r\nL 181.088471 141.575143 \r\nL 181.423606 143.715591 \r\nL 181.758742 147.155901 \r\nL 182.093877 148.769082 \r\nL 182.429012 149.06016 \r\nL 183.099282 151.588862 \r\nL 183.434417 152.836348 \r\nL 183.769552 152.993063 \r\nL 184.104687 152.712231 \r\nL 184.439823 152.853943 \r\nL 185.445228 149.580236 \r\nL 185.780363 147.827979 \r\nL 186.115498 147.217447 \r\nL 186.450633 146.371472 \r\nL 186.785769 147.457329 \r\nL 187.120904 145.118537 \r\nL 187.456039 146.167565 \r\nL 187.791174 144.4745 \r\nL 188.126309 144.416255 \r\nL 188.461444 142.892229 \r\nL 188.796579 139.716402 \r\nL 189.131715 137.990449 \r\nL 189.46685 137.800003 \r\nL 189.801985 140.011822 \r\nL 190.13712 140.567107 \r\nL 190.472255 141.848932 \r\nL 190.80739 141.523281 \r\nL 191.142525 144.570255 \r\nL 191.47766 146.03247 \r\nL 191.812796 145.040501 \r\nL 192.147931 148.168098 \r\nL 192.483066 147.26763 \r\nL 192.818201 145.136012 \r\nL 193.153336 144.04383 \r\nL 193.488471 145.26044 \r\nL 194.158742 149.565923 \r\nL 194.493877 151.064278 \r\nL 194.829012 153.344469 \r\nL 195.164147 153.114381 \r\nL 195.499282 153.372124 \r\nL 195.834417 153.808535 \r\nL 196.169552 154.53455 \r\nL 196.504687 152.214196 \r\nL 197.174958 152.872537 \r\nL 197.510093 156.009126 \r\nL 197.845228 156.318747 \r\nL 198.180363 156.058896 \r\nL 198.515498 153.480097 \r\nL 198.850633 154.392627 \r\nL 199.185769 153.137346 \r\nL 199.520904 154.74086 \r\nL 200.191174 156.403854 \r\nL 200.526309 154.246682 \r\nL 200.861444 153.215406 \r\nL 201.196579 154.191991 \r\nL 201.86685 159.541368 \r\nL 202.201985 160.322124 \r\nL 202.53712 160.085988 \r\nL 202.872255 157.604724 \r\nL 203.20739 158.160765 \r\nL 203.542525 159.497906 \r\nL 203.87766 157.671964 \r\nL 204.547931 161.860366 \r\nL 204.883066 162.904296 \r\nL 205.218201 164.712766 \r\nL 205.553336 164.245876 \r\nL 205.888471 161.234589 \r\nL 206.223606 160.792677 \r\nL 206.558742 160.68416 \r\nL 206.893877 160.839779 \r\nL 207.229012 158.424256 \r\nL 207.564147 160.220102 \r\nL 208.234417 161.648359 \r\nL 208.569552 161.983156 \r\nL 208.904687 162.96707 \r\nL 209.239823 160.404036 \r\nL 209.574958 159.305 \r\nL 209.910093 159.243769 \r\nL 210.245228 160.25623 \r\nL 210.580363 159.747638 \r\nL 210.915498 160.696528 \r\nL 211.250633 159.441716 \r\nL 211.585769 160.174656 \r\nL 211.920904 163.532881 \r\nL 212.256039 163.225005 \r\nL 212.591174 164.886594 \r\nL 212.926309 168.571946 \r\nL 213.261444 170.870473 \r\nL 213.596579 170.524922 \r\nL 213.931715 168.88649 \r\nL 214.26685 168.68877 \r\nL 214.601985 169.497004 \r\nL 214.93712 168.662563 \r\nL 215.272255 168.249818 \r\nL 215.60739 167.161368 \r\nL 215.942525 166.646146 \r\nL 216.27766 166.450236 \r\nL 216.612796 166.494312 \r\nL 216.947931 167.475964 \r\nL 217.283066 169.430018 \r\nL 217.953336 168.750161 \r\nL 218.288471 169.263888 \r\nL 218.623606 168.021094 \r\nL 218.958742 168.756268 \r\nL 219.293877 168.384172 \r\nL 219.629012 168.652717 \r\nL 219.964147 168.609281 \r\nL 220.299282 168.071727 \r\nL 220.634417 166.738679 \r\nL 220.969552 166.304965 \r\nL 221.304688 164.212236 \r\nL 221.639823 164.795404 \r\nL 221.974958 165.092481 \r\nL 222.310093 165.949119 \r\nL 222.645228 166.243106 \r\nL 222.980363 161.802828 \r\nL 223.315498 161.375906 \r\nL 223.650633 160.215591 \r\nL 223.985769 160.894294 \r\nL 224.320904 159.574564 \r\nL 224.656039 156.67913 \r\nL 224.991174 155.99479 \r\nL 225.326309 154.19927 \r\nL 225.661444 154.581696 \r\nL 225.996579 156.576608 \r\nL 226.331715 154.336645 \r\nL 226.66685 154.322232 \r\nL 227.001985 152.639396 \r\nL 227.33712 152.594067 \r\nL 227.672255 150.967838 \r\nL 228.00739 152.260021 \r\nL 228.342525 152.309529 \r\nL 228.67766 153.603527 \r\nL 229.012796 151.686513 \r\nL 229.683066 154.637862 \r\nL 230.018201 154.853796 \r\nL 230.353336 154.019223 \r\nL 230.688471 153.547988 \r\nL 231.023606 155.954628 \r\nL 231.358742 160.134282 \r\nL 232.029012 160.291727 \r\nL 232.364147 160.863793 \r\nL 233.034417 159.25032 \r\nL 233.369552 157.746024 \r\nL 233.704688 158.772117 \r\nL 234.039823 154.886341 \r\nL 234.374958 148.816039 \r\nL 234.710093 145.803023 \r\nL 235.045228 149.067175 \r\nL 235.715498 147.644386 \r\nL 236.050633 149.580491 \r\nL 236.385769 146.689735 \r\nL 236.720904 147.668508 \r\nL 237.056039 145.220297 \r\nL 237.391174 144.000613 \r\nL 237.726309 146.032281 \r\nL 238.396579 143.462472 \r\nL 238.731715 140.748955 \r\nL 239.06685 142.265925 \r\nL 239.73712 139.86695 \r\nL 240.072255 141.617001 \r\nL 240.40739 141.27065 \r\nL 240.742525 139.413677 \r\nL 241.07766 138.906608 \r\nL 241.747931 142.273701 \r\nL 242.418201 138.053547 \r\nL 242.753336 135.996556 \r\nL 243.088471 136.126202 \r\nL 243.423606 136.088255 \r\nL 243.758742 133.359616 \r\nL 244.093877 134.076818 \r\nL 244.429012 134.219535 \r\nL 244.764147 136.368909 \r\nL 245.099282 135.131035 \r\nL 245.434417 134.568531 \r\nL 246.104687 136.724826 \r\nL 246.439823 137.310043 \r\nL 246.774958 137.633284 \r\nL 247.110093 139.799696 \r\nL 247.445228 138.230277 \r\nL 247.780363 141.690029 \r\nL 248.115498 140.844584 \r\nL 248.450633 141.363133 \r\nL 248.785769 144.193626 \r\nL 249.120904 144.565342 \r\nL 249.791174 146.925864 \r\nL 250.126309 147.143722 \r\nL 250.461444 145.508287 \r\nL 250.796579 144.59561 \r\nL 251.46685 139.063096 \r\nL 251.801985 139.242119 \r\nL 252.13712 142.611779 \r\nL 252.472255 142.867496 \r\nL 252.80739 144.347387 \r\nL 253.142525 144.77722 \r\nL 253.812796 149.811826 \r\nL 254.147931 151.859824 \r\nL 254.483066 150.590081 \r\nL 254.818201 151.184366 \r\nL 255.153336 149.573906 \r\nL 255.488471 150.658649 \r\nL 255.823606 151.31784 \r\nL 256.158742 152.380061 \r\nL 256.493877 155.157733 \r\nL 256.829012 154.687318 \r\nL 257.164147 156.040762 \r\nL 257.499282 156.725531 \r\nL 257.834417 156.452078 \r\nL 258.169552 159.332558 \r\nL 258.504687 158.316752 \r\nL 258.839823 160.683886 \r\nL 259.174958 161.864374 \r\nL 259.510093 162.419052 \r\nL 259.845228 159.081918 \r\nL 260.180363 158.701197 \r\nL 260.515498 158.722073 \r\nL 261.185769 157.927949 \r\nL 261.520904 160.140989 \r\nL 261.856039 156.249075 \r\nL 262.191174 157.668044 \r\nL 262.526309 156.856468 \r\nL 262.861444 157.960672 \r\nL 263.196579 156.586018 \r\nL 263.531715 157.160727 \r\nL 263.86685 158.14676 \r\nL 264.201985 157.995199 \r\nL 264.53712 159.36911 \r\nL 264.872255 156.388782 \r\nL 265.20739 155.552726 \r\nL 265.542525 155.851344 \r\nL 265.87766 157.354212 \r\nL 266.212796 155.048674 \r\nL 266.547931 151.827895 \r\nL 266.883066 154.087032 \r\nL 267.218201 154.007967 \r\nL 267.553336 152.554386 \r\nL 267.888471 154.137259 \r\nL 268.223606 152.850355 \r\nL 268.558742 152.087761 \r\nL 268.893877 151.938254 \r\nL 269.229012 148.98345 \r\nL 269.564147 149.620555 \r\nL 269.899282 146.837174 \r\nL 270.234417 148.010412 \r\nL 270.569552 146.593287 \r\nL 270.904687 146.770257 \r\nL 271.239823 146.647923 \r\nL 271.574958 147.426458 \r\nL 271.910093 149.441704 \r\nL 272.245228 150.044226 \r\nL 272.580363 150.321483 \r\nL 272.915498 148.422028 \r\nL 273.250633 148.58573 \r\nL 273.585769 149.866496 \r\nL 273.920904 149.572177 \r\nL 274.256039 149.903672 \r\nL 274.591174 152.910397 \r\nL 274.926309 152.853039 \r\nL 275.261444 153.215357 \r\nL 275.596579 154.206876 \r\nL 275.931715 156.057522 \r\nL 276.26685 155.918726 \r\nL 276.93712 153.076063 \r\nL 277.272255 153.855877 \r\nL 277.60739 155.505936 \r\nL 278.27766 148.058017 \r\nL 278.612796 147.645041 \r\nL 279.283066 144.550245 \r\nL 279.953336 147.333556 \r\nL 280.288471 147.60849 \r\nL 280.623606 146.462007 \r\nL 280.958742 146.011849 \r\nL 281.293877 146.381406 \r\nL 281.629012 143.945655 \r\nL 281.964147 143.702752 \r\nL 282.634417 142.364574 \r\nL 282.969552 142.942749 \r\nL 283.304688 141.043402 \r\nL 283.639823 137.219735 \r\nL 284.310093 135.083736 \r\nL 284.645228 135.82109 \r\nL 284.980363 132.508075 \r\nL 285.315498 132.592009 \r\nL 285.650633 136.296674 \r\nL 285.985769 134.738504 \r\nL 286.656039 136.891323 \r\nL 286.991174 134.999283 \r\nL 287.661444 136.704308 \r\nL 287.996579 136.246136 \r\nL 288.66685 133.793231 \r\nL 289.001985 133.596591 \r\nL 289.33712 135.848049 \r\nL 289.672255 136.14649 \r\nL 290.00739 136.18087 \r\nL 290.342525 133.940844 \r\nL 291.012796 132.26398 \r\nL 291.347931 130.403716 \r\nL 291.683066 129.669078 \r\nL 292.353336 125.06102 \r\nL 292.688471 124.79733 \r\nL 293.023606 126.169145 \r\nL 293.358742 126.090225 \r\nL 293.693877 127.947286 \r\nL 294.029012 127.520757 \r\nL 294.699282 130.420597 \r\nL 295.034417 130.549151 \r\nL 295.369552 130.290544 \r\nL 296.039823 132.463622 \r\nL 296.374958 132.325222 \r\nL 296.710093 133.559774 \r\nL 297.045228 132.92509 \r\nL 297.380363 130.746409 \r\nL 297.715498 130.619185 \r\nL 298.050633 129.69571 \r\nL 298.385769 129.140753 \r\nL 298.720904 129.176807 \r\nL 299.056039 131.421867 \r\nL 299.391174 129.492371 \r\nL 299.726309 131.362074 \r\nL 300.061444 130.569721 \r\nL 300.396579 128.856149 \r\nL 300.731715 128.805219 \r\nL 301.06685 128.190883 \r\nL 301.401985 128.838069 \r\nL 301.73712 129.971876 \r\nL 302.072255 129.498256 \r\nL 302.742525 130.343781 \r\nL 303.07766 131.264462 \r\nL 303.412796 133.198706 \r\nL 303.747931 132.612687 \r\nL 304.083066 130.999517 \r\nL 304.418201 131.253793 \r\nL 304.753336 131.046762 \r\nL 305.088471 130.568099 \r\nL 306.093877 135.692893 \r\nL 306.429012 135.495074 \r\nL 306.764147 134.371231 \r\nL 307.099282 132.422638 \r\nL 307.769552 136.452352 \r\nL 308.104688 136.48306 \r\nL 308.774958 143.038074 \r\nL 309.110093 144.387164 \r\nL 309.445228 144.869305 \r\nL 310.115498 142.804482 \r\nL 310.450633 144.059284 \r\nL 310.785769 144.628222 \r\nL 311.120904 143.819374 \r\nL 311.456039 144.710602 \r\nL 311.791174 144.925716 \r\nL 312.126309 146.539322 \r\nL 312.796579 144.752112 \r\nL 313.131715 145.502357 \r\nL 313.46685 144.986869 \r\nL 313.801985 143.891045 \r\nL 314.13712 143.584039 \r\nL 314.472255 142.111464 \r\nL 314.80739 142.46391 \r\nL 315.142525 143.719342 \r\nL 315.47766 143.570878 \r\nL 315.812796 145.949665 \r\nL 316.147931 146.939347 \r\nL 316.483066 146.482465 \r\nL 316.818201 148.57791 \r\nL 317.823606 146.830251 \r\nL 318.158742 145.523181 \r\nL 318.493877 145.884985 \r\nL 318.829012 145.252061 \r\nL 319.164147 145.59278 \r\nL 319.499282 145.313477 \r\nL 319.834417 149.10567 \r\nL 320.169552 149.355651 \r\nL 320.839823 143.744931 \r\nL 321.174958 143.111706 \r\nL 321.510093 145.858244 \r\nL 321.845228 145.681387 \r\nL 322.180363 147.355444 \r\nL 322.515498 148.160208 \r\nL 322.850633 148.472628 \r\nL 323.520904 150.888445 \r\nL 323.856039 151.088822 \r\nL 324.191174 150.384391 \r\nL 324.526309 149.198049 \r\nL 324.861444 148.545478 \r\nL 325.196579 146.3906 \r\nL 325.531715 145.274445 \r\nL 326.201985 148.958791 \r\nL 326.53712 147.91828 \r\nL 326.872255 146.143014 \r\nL 327.542525 144.505508 \r\nL 327.87766 146.144019 \r\nL 328.212796 147.08415 \r\nL 328.547931 148.575436 \r\nL 328.883066 146.311176 \r\nL 329.218201 148.469888 \r\nL 329.553336 152.98664 \r\nL 329.888471 150.465717 \r\nL 330.223606 150.192487 \r\nL 330.893877 151.966324 \r\nL 331.229012 153.973714 \r\nL 331.564147 156.948865 \r\nL 331.899282 154.733009 \r\nL 332.234417 153.412122 \r\nL 332.569552 150.90219 \r\nL 332.904687 152.726088 \r\nL 333.239823 153.258843 \r\nL 333.574958 153.427763 \r\nL 333.910093 151.565523 \r\nL 334.245228 151.757894 \r\nL 334.580363 151.268352 \r\nL 334.915498 149.866421 \r\nL 335.250633 150.703385 \r\nL 335.585769 150.290062 \r\nL 335.920904 149.050208 \r\nL 336.256039 148.253313 \r\nL 336.591174 148.368173 \r\nL 336.926309 151.6342 \r\nL 337.261444 148.966959 \r\nL 337.596579 149.017923 \r\nL 337.931715 150.878418 \r\nL 338.26685 149.660234 \r\nL 338.601985 152.485858 \r\nL 338.93712 154.148213 \r\nL 339.272255 154.323311 \r\nL 339.60739 156.353753 \r\nL 340.612796 158.68949 \r\nL 340.947931 157.644422 \r\nL 341.283066 160.707702 \r\nL 341.618201 162.718683 \r\nL 341.953336 161.50842 \r\nL 342.288471 161.431205 \r\nL 342.623606 160.509136 \r\nL 342.958742 161.148877 \r\nL 343.293877 162.089726 \r\nL 343.629012 160.483581 \r\nL 343.964147 160.65311 \r\nL 344.299282 159.132078 \r\nL 344.634417 159.375668 \r\nL 344.969552 157.293451 \r\nL 345.304688 158.437112 \r\nL 345.639823 158.196472 \r\nL 346.310093 161.420489 \r\nL 346.645228 158.339779 \r\nL 346.980363 158.778775 \r\nL 347.315498 158.810867 \r\nL 347.650633 157.836721 \r\nL 348.320904 159.142161 \r\nL 348.991174 155.783007 \r\nL 349.326309 157.103133 \r\nL 349.661444 155.584732 \r\nL 349.996579 152.265649 \r\nL 350.331715 150.188483 \r\nL 350.66685 148.814179 \r\nL 351.001985 143.739019 \r\nL 351.33712 143.929568 \r\nL 351.672255 145.621887 \r\nL 352.00739 145.470771 \r\nL 352.342525 146.096899 \r\nL 352.67766 145.581852 \r\nL 353.012796 144.812693 \r\nL 353.347931 149.464061 \r\nL 353.683066 148.189178 \r\nL 354.018201 148.830751 \r\nL 354.353336 147.504552 \r\nL 354.688471 144.699317 \r\nL 355.023606 145.490601 \r\nL 355.358742 146.772389 \r\nL 355.693877 145.357597 \r\nL 356.029012 144.863177 \r\nL 356.364147 147.509344 \r\nL 356.699282 147.750574 \r\nL 357.369552 147.323117 \r\nL 357.704688 148.254824 \r\nL 358.039823 148.725766 \r\nL 358.374958 149.657537 \r\nL 358.710093 149.230875 \r\nL 359.045228 148.509746 \r\nL 359.380363 149.207305 \r\nL 359.715498 147.874345 \r\nL 360.050633 148.195891 \r\nL 360.385769 149.172389 \r\nL 360.720904 147.170033 \r\nL 361.056039 147.286234 \r\nL 361.391174 146.790974 \r\nL 361.726309 145.319829 \r\nL 362.061444 145.38374 \r\nL 362.396579 147.745443 \r\nL 362.731715 143.493033 \r\nL 363.06685 143.492258 \r\nL 363.401985 145.744844 \r\nL 363.73712 145.266445 \r\nL 364.072255 147.449028 \r\nL 364.40739 146.146001 \r\nL 364.742525 145.380758 \r\nL 365.07766 145.198109 \r\nL 365.747931 147.024915 \r\nL 366.083066 144.346544 \r\nL 366.418201 142.863144 \r\nL 366.753336 144.393729 \r\nL 367.088471 144.438393 \r\nL 367.423606 141.90752 \r\nL 367.758742 141.052056 \r\nL 368.093877 142.288851 \r\nL 368.429012 140.040229 \r\nL 368.764147 139.950621 \r\nL 369.099282 137.31812 \r\nL 369.434417 136.128923 \r\nL 369.769552 132.149701 \r\nL 370.104688 134.415436 \r\nL 370.104688 134.415436 \r\n\" style=\"fill:none;stroke:#1f77b4;stroke-linecap:square;stroke-width:1.5;\"/>\r\n   </g>\r\n   <g id=\"line2d_43\">\r\n    <path clip-path=\"url(#p908ec32487)\" d=\"M 35.304688 87.845735 \r\nL 35.639823 88.672741 \r\nL 35.974958 87.718312 \r\nL 36.310093 88.441015 \r\nL 36.645228 85.581805 \r\nL 36.980363 84.881893 \r\nL 37.315498 83.655641 \r\nL 37.650633 83.300341 \r\nL 37.985769 80.742674 \r\nL 38.320904 81.834462 \r\nL 38.656039 82.056136 \r\nL 38.991174 81.758395 \r\nL 39.326309 82.430947 \r\nL 39.661444 81.969913 \r\nL 39.996579 82.908265 \r\nL 40.331715 85.445271 \r\nL 41.001985 82.966785 \r\nL 41.33712 83.403957 \r\nL 41.672255 83.644813 \r\nL 42.00739 85.710678 \r\nL 42.342525 84.054827 \r\nL 42.67766 84.353343 \r\nL 43.347931 84.278833 \r\nL 43.683066 83.686188 \r\nL 44.018201 82.750117 \r\nL 44.353336 80.15113 \r\nL 44.688471 81.912436 \r\nL 45.023606 82.089265 \r\nL 45.358742 81.519932 \r\nL 46.029012 82.7664 \r\nL 46.364147 83.892658 \r\nL 46.699282 82.317774 \r\nL 47.034417 82.111984 \r\nL 47.369552 83.354994 \r\nL 47.704688 81.770382 \r\nL 48.039823 81.259718 \r\nL 48.374958 83.463058 \r\nL 48.710093 82.967787 \r\nL 49.045228 83.371429 \r\nL 49.380363 82.189989 \r\nL 49.715498 83.990792 \r\nL 50.050633 82.74318 \r\nL 50.385769 85.274422 \r\nL 51.056039 82.008444 \r\nL 51.391174 82.447579 \r\nL 51.726309 83.080628 \r\nL 52.061444 82.56184 \r\nL 52.731715 84.986643 \r\nL 53.06685 84.678278 \r\nL 53.401985 83.964639 \r\nL 53.73712 82.897776 \r\nL 54.072255 82.448983 \r\nL 54.40739 80.730925 \r\nL 54.742525 82.380544 \r\nL 55.07766 81.104354 \r\nL 55.747931 74.495153 \r\nL 56.418201 77.145289 \r\nL 56.753336 77.361291 \r\nL 57.088471 75.979572 \r\nL 57.423606 75.709557 \r\nL 57.758742 76.951096 \r\nL 58.093877 76.130117 \r\nL 58.429012 78.713677 \r\nL 58.764147 78.660161 \r\nL 59.099282 76.385799 \r\nL 59.434417 75.973038 \r\nL 59.769552 72.840112 \r\nL 60.104687 72.831479 \r\nL 60.439823 73.422605 \r\nL 60.774958 70.539297 \r\nL 61.110093 72.176262 \r\nL 61.445228 71.0613 \r\nL 62.115498 74.520146 \r\nL 62.450633 76.119464 \r\nL 62.785769 77.126954 \r\nL 63.120904 75.505179 \r\nL 63.791174 76.726174 \r\nL 64.126309 76.339394 \r\nL 64.461444 71.237728 \r\nL 64.796579 72.193811 \r\nL 65.46685 68.207453 \r\nL 65.801985 70.910427 \r\nL 66.13712 70.29341 \r\nL 66.472255 69.348404 \r\nL 66.80739 70.683816 \r\nL 67.142525 71.17364 \r\nL 67.47766 70.994799 \r\nL 67.812796 69.666813 \r\nL 68.147931 71.28194 \r\nL 68.483066 72.287595 \r\nL 68.818201 71.886159 \r\nL 69.153336 69.682984 \r\nL 69.488471 72.410853 \r\nL 69.823606 72.070249 \r\nL 70.158742 69.83335 \r\nL 70.493877 71.723254 \r\nL 70.829012 71.276534 \r\nL 71.164147 69.471447 \r\nL 71.499282 68.626266 \r\nL 71.834417 69.807028 \r\nL 72.169552 69.991178 \r\nL 72.504687 66.211131 \r\nL 72.839823 66.254017 \r\nL 73.174958 67.31974 \r\nL 73.510093 67.929451 \r\nL 73.845228 70.132555 \r\nL 74.180363 69.615324 \r\nL 74.515498 70.416072 \r\nL 74.850633 71.625843 \r\nL 75.185769 71.644422 \r\nL 75.520904 69.322444 \r\nL 75.856039 72.730545 \r\nL 76.526309 68.447918 \r\nL 76.861444 68.78611 \r\nL 77.196579 65.871632 \r\nL 77.86685 62.502477 \r\nL 78.201985 64.78998 \r\nL 78.53712 63.805277 \r\nL 78.872255 62.105679 \r\nL 79.20739 64.694398 \r\nL 79.542525 63.187456 \r\nL 79.87766 60.288992 \r\nL 80.547931 59.27757 \r\nL 80.883066 60.641434 \r\nL 81.218201 60.71054 \r\nL 81.553336 61.517504 \r\nL 81.888471 61.159574 \r\nL 82.223606 59.710229 \r\nL 82.558742 57.376456 \r\nL 82.893877 57.152649 \r\nL 83.229012 54.213075 \r\nL 83.899282 51.995557 \r\nL 84.234417 51.715422 \r\nL 84.904687 46.866284 \r\nL 85.239823 48.411612 \r\nL 85.574958 48.678911 \r\nL 85.910093 48.61223 \r\nL 86.245228 46.839659 \r\nL 86.580363 48.406155 \r\nL 86.915498 48.426934 \r\nL 87.250633 49.819855 \r\nL 87.585769 49.747637 \r\nL 87.920904 49.837921 \r\nL 88.256039 50.504356 \r\nL 88.591174 51.470402 \r\nL 88.926309 50.449427 \r\nL 89.261444 50.148015 \r\nL 89.596579 47.097023 \r\nL 89.931715 49.041982 \r\nL 90.26685 49.939335 \r\nL 90.601985 50.277006 \r\nL 90.93712 49.084062 \r\nL 91.272255 49.985464 \r\nL 91.60739 54.102063 \r\nL 91.942525 56.350155 \r\nL 92.27766 56.053684 \r\nL 92.612796 58.093062 \r\nL 92.947931 58.557725 \r\nL 93.618201 54.959947 \r\nL 93.953336 55.033083 \r\nL 94.288471 53.217961 \r\nL 94.623606 56.286006 \r\nL 94.958742 54.012095 \r\nL 95.293877 56.115688 \r\nL 95.629012 55.465401 \r\nL 95.964147 56.953603 \r\nL 96.634417 55.884675 \r\nL 96.969552 58.061866 \r\nL 97.304688 54.850101 \r\nL 97.639823 54.435059 \r\nL 97.974958 53.380925 \r\nL 98.310093 53.211961 \r\nL 98.645228 51.798892 \r\nL 98.980363 51.340116 \r\nL 99.315498 54.721781 \r\nL 99.985769 52.966365 \r\nL 100.656039 49.283854 \r\nL 100.991174 47.759024 \r\nL 101.326309 47.586922 \r\nL 101.661444 48.329446 \r\nL 101.996579 49.551939 \r\nL 102.331715 49.148892 \r\nL 102.66685 50.629678 \r\nL 103.33712 47.817092 \r\nL 103.672255 48.430294 \r\nL 104.00739 46.566147 \r\nL 104.342525 46.405364 \r\nL 104.67766 45.634296 \r\nL 105.012796 46.59301 \r\nL 105.347931 46.614436 \r\nL 105.683066 47.039196 \r\nL 106.018201 46.545165 \r\nL 106.353336 45.589591 \r\nL 106.688471 46.890056 \r\nL 107.023606 45.805106 \r\nL 107.358742 46.549442 \r\nL 107.693877 48.163103 \r\nL 108.029012 46.917277 \r\nL 108.364147 49.470702 \r\nL 108.699282 49.175848 \r\nL 109.034417 50.842852 \r\nL 109.369552 48.53039 \r\nL 109.704688 49.641454 \r\nL 110.039823 47.041261 \r\nL 110.374958 47.352394 \r\nL 110.710093 48.221479 \r\nL 111.045228 50.389146 \r\nL 111.380363 51.619913 \r\nL 111.715498 54.578054 \r\nL 112.050633 50.278354 \r\nL 112.385769 49.132891 \r\nL 112.720904 46.610509 \r\nL 113.056039 46.139478 \r\nL 113.391174 47.697871 \r\nL 113.726309 45.70414 \r\nL 114.061444 47.767604 \r\nL 114.396579 47.183835 \r\nL 115.06685 52.055648 \r\nL 115.401985 51.315761 \r\nL 115.73712 51.83331 \r\nL 116.072255 48.038057 \r\nL 116.40739 49.614689 \r\nL 116.742525 47.408504 \r\nL 117.07766 46.323602 \r\nL 117.412796 44.295824 \r\nL 118.083066 49.135942 \r\nL 118.418201 48.144541 \r\nL 118.753336 49.623288 \r\nL 119.088471 49.046519 \r\nL 119.758742 43.347843 \r\nL 120.093877 43.269643 \r\nL 120.764147 48.206055 \r\nL 121.099282 46.498254 \r\nL 121.434417 46.544844 \r\nL 121.769552 45.649071 \r\nL 122.104687 43.667593 \r\nL 122.439823 42.735137 \r\nL 122.774958 44.484993 \r\nL 123.110093 44.916641 \r\nL 123.445228 43.838337 \r\nL 123.780363 42.342494 \r\nL 124.115498 41.694363 \r\nL 124.450633 39.789569 \r\nL 124.785769 41.436947 \r\nL 125.120904 40.889838 \r\nL 125.456039 42.069714 \r\nL 125.791174 42.307627 \r\nL 126.126309 43.200603 \r\nL 126.461444 42.634088 \r\nL 126.796579 44.412203 \r\nL 127.131715 45.310188 \r\nL 127.46685 44.192969 \r\nL 127.801985 45.447209 \r\nL 128.13712 45.015103 \r\nL 128.80739 40.606853 \r\nL 129.142525 42.406311 \r\nL 129.47766 39.177727 \r\nL 129.812796 39.377495 \r\nL 130.483066 38.798976 \r\nL 130.818201 34.898 \r\nL 131.153336 35.401961 \r\nL 131.488471 36.703154 \r\nL 132.158742 38.622547 \r\nL 132.829012 37.936722 \r\nL 133.164147 38.409427 \r\nL 133.834417 42.488594 \r\nL 134.504687 48.940248 \r\nL 134.839823 47.325273 \r\nL 135.174958 49.206445 \r\nL 135.510093 48.873869 \r\nL 135.845228 50.024287 \r\nL 136.180363 50.233609 \r\nL 136.515498 51.908077 \r\nL 136.850633 49.991771 \r\nL 137.185769 51.899417 \r\nL 137.520904 55.921083 \r\nL 137.856039 54.70204 \r\nL 138.191174 57.423416 \r\nL 138.526309 55.787654 \r\nL 138.861444 56.859392 \r\nL 139.531715 53.062204 \r\nL 139.86685 52.628066 \r\nL 140.201985 53.267257 \r\nL 140.53712 52.820046 \r\nL 140.872255 53.723635 \r\nL 141.542525 51.455922 \r\nL 141.87766 50.28773 \r\nL 142.212796 50.587018 \r\nL 142.547931 47.148119 \r\nL 142.883066 49.238955 \r\nL 143.218201 48.899507 \r\nL 143.553336 47.795982 \r\nL 143.888471 46.193278 \r\nL 144.223606 46.515465 \r\nL 144.558742 45.946613 \r\nL 144.893877 48.453527 \r\nL 145.229012 49.983647 \r\nL 145.564147 53.129319 \r\nL 145.899282 49.802534 \r\nL 146.234417 50.216907 \r\nL 146.569552 49.022062 \r\nL 146.904687 48.983982 \r\nL 147.239823 45.792525 \r\nL 147.910093 48.827533 \r\nL 148.245228 46.908409 \r\nL 148.580363 47.57176 \r\nL 148.915498 46.360896 \r\nL 149.250633 46.871198 \r\nL 149.585769 47.743068 \r\nL 149.920904 47.481672 \r\nL 150.256039 45.41586 \r\nL 150.591174 46.854709 \r\nL 150.926309 50.245707 \r\nL 151.261444 50.586434 \r\nL 151.596579 48.044341 \r\nL 151.931715 47.101212 \r\nL 152.26685 47.987705 \r\nL 152.601985 47.956964 \r\nL 152.93712 48.412973 \r\nL 153.272255 50.171043 \r\nL 153.60739 51.286471 \r\nL 153.942525 49.987772 \r\nL 154.27766 51.037943 \r\nL 154.612796 48.848338 \r\nL 154.947931 52.081918 \r\nL 155.283066 49.478374 \r\nL 155.618201 48.989709 \r\nL 155.953336 48.791783 \r\nL 156.623606 53.073448 \r\nL 156.958742 52.559369 \r\nL 157.629012 57.587217 \r\nL 157.964147 55.859918 \r\nL 158.299282 55.18916 \r\nL 158.634417 53.491906 \r\nL 159.304688 54.787584 \r\nL 159.639823 53.475224 \r\nL 159.974958 53.732491 \r\nL 160.310093 56.196976 \r\nL 160.645228 56.495715 \r\nL 160.980363 56.436579 \r\nL 161.315498 55.773814 \r\nL 161.650633 54.202924 \r\nL 161.985769 54.312804 \r\nL 162.320904 53.913015 \r\nL 162.656039 55.463526 \r\nL 162.991174 53.804554 \r\nL 163.326309 53.595492 \r\nL 163.661444 53.587332 \r\nL 164.66685 56.75023 \r\nL 165.001985 54.656588 \r\nL 165.33712 54.013135 \r\nL 165.672255 54.756148 \r\nL 166.00739 53.978831 \r\nL 166.342525 53.884861 \r\nL 166.67766 52.271345 \r\nL 167.347931 55.246583 \r\nL 167.683066 53.745253 \r\nL 168.018201 53.626331 \r\nL 168.353336 56.150767 \r\nL 169.023606 58.709026 \r\nL 169.358742 57.096122 \r\nL 169.693877 56.225047 \r\nL 170.364147 58.249544 \r\nL 170.699282 60.394277 \r\nL 171.034417 60.611255 \r\nL 171.369552 62.715091 \r\nL 171.704688 59.664944 \r\nL 172.039823 58.413817 \r\nL 172.374958 58.027091 \r\nL 172.710093 59.889766 \r\nL 173.045228 58.17298 \r\nL 173.380363 59.781873 \r\nL 173.715498 57.135908 \r\nL 174.050633 58.82821 \r\nL 174.385769 57.798574 \r\nL 175.056039 55.143066 \r\nL 175.391174 55.983961 \r\nL 175.726309 54.188085 \r\nL 176.396579 57.989368 \r\nL 176.731715 58.711794 \r\nL 177.06685 60.957854 \r\nL 177.73712 60.106836 \r\nL 178.072255 60.589656 \r\nL 178.40739 59.348913 \r\nL 178.742525 59.977694 \r\nL 179.07766 61.175192 \r\nL 179.412796 60.515267 \r\nL 179.747931 62.525381 \r\nL 180.083066 62.281383 \r\nL 180.418201 61.554398 \r\nL 180.753336 63.935138 \r\nL 181.088471 64.891321 \r\nL 181.423606 67.45012 \r\nL 181.758742 67.947859 \r\nL 182.093877 69.073283 \r\nL 182.429012 67.903141 \r\nL 182.764147 65.266146 \r\nL 183.099282 67.484912 \r\nL 183.769552 64.330663 \r\nL 184.104687 65.355817 \r\nL 184.439823 65.275729 \r\nL 184.774958 66.152492 \r\nL 185.110093 65.608908 \r\nL 185.445228 65.383456 \r\nL 185.780363 65.980184 \r\nL 186.115498 65.883078 \r\nL 186.450633 66.356301 \r\nL 186.785769 65.780698 \r\nL 187.120904 66.025206 \r\nL 187.456039 64.732266 \r\nL 188.126309 60.741954 \r\nL 188.461444 62.686479 \r\nL 188.796579 60.536315 \r\nL 189.131715 59.692082 \r\nL 189.46685 61.8932 \r\nL 190.13712 58.810826 \r\nL 190.472255 59.940546 \r\nL 190.80739 61.554121 \r\nL 191.142525 61.678708 \r\nL 191.47766 64.907707 \r\nL 191.812796 64.580918 \r\nL 192.147931 65.43535 \r\nL 192.483066 67.584027 \r\nL 192.818201 70.487348 \r\nL 193.153336 71.929189 \r\nL 193.488471 74.214699 \r\nL 193.823606 74.235718 \r\nL 194.158742 75.051413 \r\nL 194.493877 72.201429 \r\nL 194.829012 72.331194 \r\nL 195.164147 71.165023 \r\nL 195.499282 70.88042 \r\nL 195.834417 71.483514 \r\nL 196.169552 69.074006 \r\nL 196.504687 71.35977 \r\nL 196.839823 71.993298 \r\nL 197.174958 72.262693 \r\nL 197.510093 71.92358 \r\nL 197.845228 73.300595 \r\nL 198.180363 73.437015 \r\nL 198.515498 74.204189 \r\nL 198.850633 79.189634 \r\nL 199.185769 81.219193 \r\nL 199.520904 81.537927 \r\nL 199.856039 79.85446 \r\nL 200.191174 80.412919 \r\nL 200.526309 80.240131 \r\nL 201.196579 81.090993 \r\nL 201.531715 82.74463 \r\nL 201.86685 81.505119 \r\nL 202.872255 79.907146 \r\nL 203.20739 79.795324 \r\nL 203.542525 77.779729 \r\nL 203.87766 78.650308 \r\nL 204.212796 79.157456 \r\nL 204.547931 76.574055 \r\nL 205.218201 77.971609 \r\nL 205.553336 75.847271 \r\nL 205.888471 76.24562 \r\nL 206.223606 73.153438 \r\nL 206.558742 73.661126 \r\nL 207.229012 73.93155 \r\nL 207.899282 72.138164 \r\nL 208.234417 72.401084 \r\nL 208.569552 74.991553 \r\nL 208.904687 72.054019 \r\nL 209.239823 72.400221 \r\nL 210.245228 71.761208 \r\nL 210.580363 72.895705 \r\nL 210.915498 71.17634 \r\nL 211.250633 71.611368 \r\nL 211.585769 69.805615 \r\nL 211.920904 68.90941 \r\nL 212.256039 69.208126 \r\nL 212.591174 67.504265 \r\nL 212.926309 68.266964 \r\nL 213.261444 70.473829 \r\nL 213.596579 70.886548 \r\nL 213.931715 72.206933 \r\nL 214.26685 72.06165 \r\nL 214.601985 72.783503 \r\nL 214.93712 72.605599 \r\nL 215.272255 74.071786 \r\nL 215.60739 74.347941 \r\nL 215.942525 75.307778 \r\nL 216.27766 73.7841 \r\nL 216.947931 76.844961 \r\nL 217.283066 75.362915 \r\nL 217.618201 74.435412 \r\nL 217.953336 76.690068 \r\nL 218.288471 75.779672 \r\nL 218.623606 77.895704 \r\nL 218.958742 75.084324 \r\nL 219.293877 73.949861 \r\nL 219.629012 73.747138 \r\nL 219.964147 71.915513 \r\nL 220.299282 70.927956 \r\nL 221.304688 69.558088 \r\nL 221.639823 69.371264 \r\nL 221.974958 70.200812 \r\nL 222.310093 67.572314 \r\nL 222.645228 68.283286 \r\nL 222.980363 69.335092 \r\nL 223.315498 67.021631 \r\nL 223.650633 67.333401 \r\nL 223.985769 66.36 \r\nL 224.320904 67.215567 \r\nL 224.656039 66.149317 \r\nL 224.991174 65.740678 \r\nL 225.326309 63.620989 \r\nL 225.661444 60.664327 \r\nL 225.996579 59.359191 \r\nL 226.331715 57.306256 \r\nL 226.66685 56.782158 \r\nL 227.001985 55.461874 \r\nL 227.33712 55.113885 \r\nL 227.672255 53.621332 \r\nL 228.00739 55.029347 \r\nL 228.342525 52.383026 \r\nL 228.67766 51.233905 \r\nL 229.012796 52.777531 \r\nL 229.347931 53.695079 \r\nL 229.683066 57.315529 \r\nL 230.353336 58.912378 \r\nL 230.688471 59.195414 \r\nL 231.023606 59.662069 \r\nL 231.358742 59.751097 \r\nL 231.693877 61.135638 \r\nL 232.364147 60.116555 \r\nL 232.699282 58.788677 \r\nL 233.034417 56.469887 \r\nL 233.704688 53.997503 \r\nL 234.039823 53.941715 \r\nL 234.374958 52.803396 \r\nL 234.710093 55.973061 \r\nL 235.045228 56.989681 \r\nL 235.380363 57.419219 \r\nL 235.715498 56.098838 \r\nL 236.050633 57.545318 \r\nL 236.385769 56.072663 \r\nL 236.720904 57.336683 \r\nL 237.056039 55.794958 \r\nL 237.391174 56.41699 \r\nL 237.726309 56.211241 \r\nL 238.061444 57.776432 \r\nL 238.731715 57.588052 \r\nL 239.06685 59.154652 \r\nL 239.401985 59.649821 \r\nL 239.73712 57.488568 \r\nL 240.072255 57.781411 \r\nL 240.742525 55.678297 \r\nL 241.07766 55.312626 \r\nL 241.412796 57.141471 \r\nL 241.747931 56.305282 \r\nL 242.083066 57.33779 \r\nL 242.418201 56.459872 \r\nL 242.753336 57.853095 \r\nL 243.088471 57.171044 \r\nL 243.423606 58.624916 \r\nL 243.758742 57.199853 \r\nL 244.093877 57.014905 \r\nL 244.429012 55.832109 \r\nL 244.764147 56.049604 \r\nL 245.099282 58.391103 \r\nL 245.434417 58.900227 \r\nL 246.104687 54.92033 \r\nL 246.774958 52.728445 \r\nL 247.110093 53.420229 \r\nL 247.445228 52.956873 \r\nL 247.780363 51.976516 \r\nL 248.115498 50.616415 \r\nL 248.785769 49.608006 \r\nL 249.120904 51.040989 \r\nL 249.456039 48.305203 \r\nL 250.126309 52.00505 \r\nL 250.461444 50.676554 \r\nL 250.796579 50.419036 \r\nL 251.131715 51.183469 \r\nL 251.46685 50.450712 \r\nL 251.801985 50.960418 \r\nL 252.13712 52.86694 \r\nL 252.472255 49.991224 \r\nL 252.80739 53.571109 \r\nL 253.142525 53.280595 \r\nL 253.47766 53.906716 \r\nL 253.812796 53.561447 \r\nL 254.147931 53.600878 \r\nL 254.483066 54.606858 \r\nL 254.818201 55.123945 \r\nL 255.153336 54.800079 \r\nL 256.158742 58.70449 \r\nL 256.493877 57.336673 \r\nL 256.829012 61.113689 \r\nL 257.164147 61.522033 \r\nL 257.499282 61.464335 \r\nL 257.834417 62.40223 \r\nL 258.169552 63.892689 \r\nL 258.504687 64.751677 \r\nL 258.839823 64.148017 \r\nL 259.174958 64.708162 \r\nL 259.510093 65.012834 \r\nL 259.845228 66.347025 \r\nL 260.515498 62.991152 \r\nL 260.850633 63.180061 \r\nL 261.185769 63.740184 \r\nL 262.191174 59.15118 \r\nL 262.526309 60.618147 \r\nL 262.861444 62.872035 \r\nL 263.196579 62.73219 \r\nL 263.531715 60.838365 \r\nL 264.201985 62.385838 \r\nL 264.53712 68.158353 \r\nL 264.872255 70.035996 \r\nL 265.20739 69.774117 \r\nL 265.542525 68.615865 \r\nL 265.87766 70.258469 \r\nL 266.547931 71.668127 \r\nL 266.883066 71.855483 \r\nL 267.218201 71.179045 \r\nL 267.553336 72.50033 \r\nL 267.888471 71.046476 \r\nL 268.223606 72.784556 \r\nL 268.558742 73.335505 \r\nL 268.893877 68.50031 \r\nL 269.229012 68.409962 \r\nL 269.564147 70.241429 \r\nL 269.899282 69.03855 \r\nL 270.569552 66.039815 \r\nL 270.904687 65.467299 \r\nL 271.239823 63.097531 \r\nL 271.574958 63.915062 \r\nL 272.245228 62.298191 \r\nL 272.580363 63.429895 \r\nL 272.915498 64.975395 \r\nL 273.250633 67.929177 \r\nL 273.585769 64.255333 \r\nL 273.920904 64.04597 \r\nL 274.256039 65.247425 \r\nL 274.926309 65.650711 \r\nL 275.261444 64.383649 \r\nL 275.596579 64.667857 \r\nL 275.931715 64.311882 \r\nL 276.601985 67.695644 \r\nL 276.93712 66.69232 \r\nL 277.272255 66.26486 \r\nL 277.60739 68.528506 \r\nL 277.942525 68.133554 \r\nL 278.27766 69.50594 \r\nL 278.612796 68.787344 \r\nL 278.947931 65.244919 \r\nL 279.283066 64.139281 \r\nL 279.618201 67.526387 \r\nL 280.288471 65.855546 \r\nL 280.623606 63.855025 \r\nL 280.958742 63.461783 \r\nL 281.293877 66.475915 \r\nL 281.629012 61.66671 \r\nL 281.964147 61.308083 \r\nL 282.299282 60.709993 \r\nL 282.969552 58.064274 \r\nL 283.304688 58.312729 \r\nL 283.639823 59.989191 \r\nL 283.974958 60.980074 \r\nL 284.310093 60.685851 \r\nL 284.645228 59.702051 \r\nL 284.980363 59.892349 \r\nL 285.315498 60.41764 \r\nL 285.650633 58.07955 \r\nL 285.985769 58.881283 \r\nL 286.320904 60.121183 \r\nL 286.656039 56.57969 \r\nL 287.326309 58.562789 \r\nL 287.661444 55.701518 \r\nL 288.331715 53.201515 \r\nL 288.66685 52.617846 \r\nL 289.001985 52.547898 \r\nL 289.33712 51.838238 \r\nL 289.672255 50.627072 \r\nL 290.00739 47.54118 \r\nL 290.342525 48.982931 \r\nL 290.67766 48.92842 \r\nL 291.012796 45.320431 \r\nL 291.347931 44.531557 \r\nL 291.683066 43.456696 \r\nL 292.018201 43.483143 \r\nL 292.353336 43.235461 \r\nL 292.688471 43.479229 \r\nL 293.023606 44.110255 \r\nL 293.358742 43.415862 \r\nL 293.693877 42.986135 \r\nL 294.029012 41.451245 \r\nL 294.364147 43.10182 \r\nL 294.699282 41.212774 \r\nL 295.034417 41.283858 \r\nL 295.369552 41.150278 \r\nL 295.704688 43.190764 \r\nL 296.039823 40.878709 \r\nL 296.374958 40.693892 \r\nL 296.710093 38.561231 \r\nL 297.045228 38.226268 \r\nL 297.380363 39.408952 \r\nL 297.715498 40.178729 \r\nL 298.050633 42.428399 \r\nL 298.720904 40.902958 \r\nL 299.056039 39.636843 \r\nL 299.391174 41.167449 \r\nL 299.726309 37.840869 \r\nL 300.731715 33.740624 \r\nL 301.06685 31.344787 \r\nL 301.73712 28.541355 \r\nL 302.072255 27.015733 \r\nL 302.40739 24.673881 \r\nL 303.07766 29.059961 \r\nL 303.412796 29.528177 \r\nL 303.747931 30.906247 \r\nL 304.418201 32.284544 \r\nL 304.753336 31.968055 \r\nL 305.423606 29.561616 \r\nL 306.093877 26.067311 \r\nL 306.429012 26.439395 \r\nL 306.764147 27.239741 \r\nL 307.099282 28.47967 \r\nL 307.434417 28.759203 \r\nL 307.769552 29.885806 \r\nL 308.439823 30.326052 \r\nL 308.774958 30.338921 \r\nL 309.110093 30.599289 \r\nL 309.445228 31.758757 \r\nL 309.780363 29.500104 \r\nL 310.115498 26.037622 \r\nL 310.450633 26.329145 \r\nL 310.785769 26.984832 \r\nL 311.120904 27.219035 \r\nL 311.791174 26.454327 \r\nL 312.126309 26.319433 \r\nL 312.461444 26.739249 \r\nL 312.796579 25.550457 \r\nL 313.131715 27.195511 \r\nL 313.46685 27.590712 \r\nL 313.801985 28.386338 \r\nL 314.13712 25.308627 \r\nL 314.472255 26.955179 \r\nL 314.80739 26.503292 \r\nL 315.142525 27.702849 \r\nL 315.47766 27.316166 \r\nL 315.812796 24.969976 \r\nL 316.147931 24.908903 \r\nL 316.483066 26.111652 \r\nL 316.818201 26.615252 \r\nL 317.153336 28.184914 \r\nL 317.488471 27.425202 \r\nL 317.823606 27.078134 \r\nL 318.158742 27.504589 \r\nL 319.164147 23.179125 \r\nL 319.499282 24.873546 \r\nL 319.834417 23.992636 \r\nL 320.169552 23.906284 \r\nL 320.504687 24.264319 \r\nL 320.839823 20.84099 \r\nL 321.174958 21.788653 \r\nL 321.510093 21.316815 \r\nL 321.845228 19.085021 \r\nL 322.180363 18.918274 \r\nL 322.515498 17.677703 \r\nL 323.185769 20.447393 \r\nL 323.520904 18.708135 \r\nL 323.856039 19.641786 \r\nL 324.191174 20.184609 \r\nL 324.526309 22.255086 \r\nL 324.861444 22.123687 \r\nL 325.531715 20.052855 \r\nL 325.86685 19.873858 \r\nL 326.201985 17.459292 \r\nL 326.53712 17.815302 \r\nL 326.872255 18.486879 \r\nL 327.20739 19.504871 \r\nL 327.542525 20.987148 \r\nL 327.87766 21.306937 \r\nL 328.547931 20.60151 \r\nL 328.883066 19.789727 \r\nL 329.218201 19.38267 \r\nL 329.553336 18.271367 \r\nL 329.888471 18.310049 \r\nL 330.223606 18.064565 \r\nL 330.558742 19.09322 \r\nL 331.229012 17.392583 \r\nL 331.564147 17.083636 \r\nL 331.899282 19.913918 \r\nL 332.234417 21.05864 \r\nL 332.569552 20.738352 \r\nL 332.904687 18.792824 \r\nL 333.239823 18.396391 \r\nL 333.574958 18.692477 \r\nL 334.580363 22.497778 \r\nL 334.915498 23.271187 \r\nL 335.250633 22.665062 \r\nL 335.585769 21.398096 \r\nL 335.920904 21.138396 \r\nL 336.256039 20.05704 \r\nL 336.591174 20.072113 \r\nL 336.926309 19.403616 \r\nL 337.261444 20.260918 \r\nL 337.596579 22.421287 \r\nL 338.26685 23.071604 \r\nL 338.601985 22.747522 \r\nL 338.93712 22.070466 \r\nL 339.60739 24.103721 \r\nL 339.942525 26.414775 \r\nL 340.27766 24.222898 \r\nL 340.612796 26.878975 \r\nL 340.947931 26.411625 \r\nL 341.283066 26.964116 \r\nL 341.618201 23.63423 \r\nL 342.623606 26.373199 \r\nL 342.958742 25.259839 \r\nL 343.293877 25.016671 \r\nL 343.629012 29.067333 \r\nL 344.299282 25.6052 \r\nL 344.634417 23.933936 \r\nL 344.969552 24.830051 \r\nL 345.304688 22.899798 \r\nL 345.639823 21.824632 \r\nL 345.974958 22.565076 \r\nL 346.310093 22.918979 \r\nL 346.645228 27.325793 \r\nL 346.980363 27.21025 \r\nL 347.315498 27.94233 \r\nL 347.650633 26.324629 \r\nL 347.985769 25.905945 \r\nL 348.320904 27.123837 \r\nL 348.991174 25.315169 \r\nL 349.326309 23.646995 \r\nL 349.661444 24.345805 \r\nL 349.996579 22.830082 \r\nL 350.66685 24.258238 \r\nL 351.001985 24.634864 \r\nL 351.672255 22.31849 \r\nL 352.00739 24.158773 \r\nL 352.342525 24.452049 \r\nL 352.67766 25.337843 \r\nL 353.012796 27.340949 \r\nL 353.347931 27.257331 \r\nL 354.018201 31.721556 \r\nL 354.353336 32.588377 \r\nL 355.023606 33.74381 \r\nL 355.358742 33.284336 \r\nL 355.693877 32.364267 \r\nL 356.029012 34.007587 \r\nL 356.364147 29.593711 \r\nL 357.034417 32.756408 \r\nL 357.704688 29.383088 \r\nL 358.039823 28.590339 \r\nL 358.710093 33.278229 \r\nL 359.045228 32.709897 \r\nL 359.715498 30.029227 \r\nL 360.050633 29.298032 \r\nL 360.385769 27.975894 \r\nL 360.720904 29.391097 \r\nL 361.056039 29.804601 \r\nL 361.391174 29.675734 \r\nL 361.726309 29.967491 \r\nL 362.061444 29.251316 \r\nL 362.396579 31.93287 \r\nL 363.06685 34.879534 \r\nL 363.401985 32.220516 \r\nL 363.73712 32.545585 \r\nL 364.072255 30.717252 \r\nL 364.742525 29.975929 \r\nL 365.07766 30.746744 \r\nL 365.412796 33.066807 \r\nL 365.747931 31.927569 \r\nL 366.418201 32.04355 \r\nL 366.753336 29.930979 \r\nL 367.088471 25.790795 \r\nL 367.423606 26.0203 \r\nL 367.758742 28.582784 \r\nL 368.093877 28.808392 \r\nL 368.429012 28.23821 \r\nL 368.764147 28.171647 \r\nL 369.099282 28.594788 \r\nL 369.434417 28.535724 \r\nL 369.769552 29.818431 \r\nL 370.104688 28.814504 \r\nL 370.104688 28.814504 \r\n\" style=\"fill:none;stroke:#ff7f0e;stroke-linecap:square;stroke-width:1.5;\"/>\r\n   </g>\r\n   <g id=\"line2d_44\">\r\n    <path clip-path=\"url(#p908ec32487)\" d=\"M 35.304688 92.557394 \r\nL 35.639823 92.987881 \r\nL 35.974958 95.163175 \r\nL 36.310093 92.025715 \r\nL 36.645228 93.693917 \r\nL 36.980363 97.03274 \r\nL 37.315498 95.203951 \r\nL 37.650633 94.314456 \r\nL 37.985769 94.09051 \r\nL 38.320904 97.253941 \r\nL 38.656039 97.2061 \r\nL 38.991174 100.099785 \r\nL 39.326309 100.933301 \r\nL 39.661444 102.980515 \r\nL 39.996579 102.206707 \r\nL 40.331715 101.116008 \r\nL 41.001985 97.454184 \r\nL 41.33712 96.263236 \r\nL 41.672255 95.686081 \r\nL 42.00739 98.010693 \r\nL 42.342525 96.333775 \r\nL 42.67766 98.071698 \r\nL 43.012796 96.224161 \r\nL 43.347931 96.587368 \r\nL 43.683066 97.237068 \r\nL 44.018201 98.626124 \r\nL 44.353336 101.332065 \r\nL 44.688471 101.112798 \r\nL 45.023606 100.750894 \r\nL 45.358742 99.385388 \r\nL 45.693877 97.329992 \r\nL 46.029012 99.783003 \r\nL 46.364147 101.260846 \r\nL 46.699282 102.08803 \r\nL 47.034417 101.658415 \r\nL 47.369552 101.679227 \r\nL 47.704688 104.208631 \r\nL 48.039823 103.20805 \r\nL 48.710093 104.682437 \r\nL 49.380363 108.852677 \r\nL 49.715498 110.213608 \r\nL 50.050633 110.509452 \r\nL 50.385769 112.134098 \r\nL 50.720904 112.810514 \r\nL 51.056039 112.916639 \r\nL 51.391174 112.789575 \r\nL 51.726309 111.75587 \r\nL 52.061444 109.991472 \r\nL 52.396579 112.713543 \r\nL 52.731715 111.535399 \r\nL 53.06685 112.230382 \r\nL 53.401985 111.540543 \r\nL 53.73712 111.376325 \r\nL 54.072255 110.603777 \r\nL 54.40739 108.108556 \r\nL 54.742525 112.207073 \r\nL 55.07766 108.524286 \r\nL 55.412796 110.929006 \r\nL 55.747931 107.812414 \r\nL 56.083066 107.587024 \r\nL 56.418201 108.473818 \r\nL 56.753336 105.931231 \r\nL 57.088471 108.136953 \r\nL 57.423606 105.860037 \r\nL 57.758742 108.254426 \r\nL 58.093877 107.577232 \r\nL 58.429012 108.196297 \r\nL 58.764147 111.270957 \r\nL 59.099282 110.5238 \r\nL 59.769552 115.01656 \r\nL 60.104687 115.123516 \r\nL 60.439823 112.646401 \r\nL 60.774958 111.855976 \r\nL 61.110093 108.281184 \r\nL 61.445228 106.425837 \r\nL 61.780363 106.629069 \r\nL 62.115498 106.629956 \r\nL 62.450633 109.242114 \r\nL 62.785769 108.012512 \r\nL 63.120904 107.697683 \r\nL 63.456039 107.654789 \r\nL 63.791174 106.83523 \r\nL 64.126309 107.343937 \r\nL 64.461444 106.69129 \r\nL 65.131715 110.351645 \r\nL 65.46685 110.513403 \r\nL 65.801985 111.588533 \r\nL 66.13712 112.282172 \r\nL 66.80739 115.887113 \r\nL 67.142525 114.369429 \r\nL 67.47766 115.899455 \r\nL 67.812796 114.813687 \r\nL 68.147931 115.099512 \r\nL 68.483066 113.288573 \r\nL 68.818201 112.473506 \r\nL 69.153336 110.100837 \r\nL 69.488471 111.085592 \r\nL 69.823606 114.245194 \r\nL 70.158742 113.183427 \r\nL 70.493877 114.996171 \r\nL 70.829012 114.122665 \r\nL 71.164147 113.641412 \r\nL 71.499282 114.272055 \r\nL 71.834417 113.450364 \r\nL 72.504687 112.927126 \r\nL 72.839823 113.119026 \r\nL 73.174958 111.001133 \r\nL 73.510093 112.263179 \r\nL 73.845228 112.939537 \r\nL 74.180363 112.03408 \r\nL 74.515498 110.427464 \r\nL 74.850633 110.811528 \r\nL 75.185769 112.67987 \r\nL 75.520904 113.200282 \r\nL 76.191174 117.78799 \r\nL 76.526309 117.875947 \r\nL 76.861444 117.352205 \r\nL 77.196579 115.170768 \r\nL 77.531715 116.153749 \r\nL 77.86685 116.24149 \r\nL 78.201985 115.655079 \r\nL 78.53712 115.704349 \r\nL 78.872255 118.04218 \r\nL 79.20739 117.829905 \r\nL 79.542525 115.870506 \r\nL 79.87766 115.928049 \r\nL 80.212796 116.330912 \r\nL 80.547931 117.727125 \r\nL 80.883066 118.43955 \r\nL 81.218201 118.300649 \r\nL 81.553336 119.035545 \r\nL 81.888471 118.478404 \r\nL 82.558742 119.566861 \r\nL 83.899282 112.734991 \r\nL 84.234417 112.406428 \r\nL 84.569552 113.106478 \r\nL 84.904687 112.445388 \r\nL 85.239823 112.792466 \r\nL 85.574958 112.580388 \r\nL 86.245228 113.575597 \r\nL 86.580363 114.267006 \r\nL 87.250633 116.87738 \r\nL 87.585769 118.515079 \r\nL 87.920904 118.425615 \r\nL 88.256039 117.654621 \r\nL 88.591174 117.71437 \r\nL 88.926309 119.146179 \r\nL 89.261444 119.936479 \r\nL 89.931715 122.534403 \r\nL 90.601985 124.613911 \r\nL 90.93712 123.520621 \r\nL 91.272255 121.745492 \r\nL 91.60739 122.665822 \r\nL 91.942525 123.095686 \r\nL 92.27766 121.094026 \r\nL 92.612796 120.297958 \r\nL 92.947931 120.563255 \r\nL 93.283066 121.879172 \r\nL 93.618201 122.465909 \r\nL 93.953336 122.637781 \r\nL 94.288471 123.119674 \r\nL 94.623606 119.417852 \r\nL 95.293877 122.707812 \r\nL 95.629012 122.210599 \r\nL 95.964147 120.828208 \r\nL 96.634417 117.125582 \r\nL 96.969552 118.825968 \r\nL 97.304688 117.775005 \r\nL 97.639823 117.708047 \r\nL 97.974958 117.06227 \r\nL 98.645228 113.749363 \r\nL 98.980363 114.654091 \r\nL 99.650633 115.180727 \r\nL 99.985769 114.70468 \r\nL 100.320904 113.787867 \r\nL 100.656039 112.173824 \r\nL 100.991174 116.208502 \r\nL 101.326309 115.542929 \r\nL 101.661444 119.069184 \r\nL 101.996579 118.882767 \r\nL 102.331715 121.732705 \r\nL 102.66685 123.141191 \r\nL 103.001985 123.721479 \r\nL 103.33712 122.734067 \r\nL 103.672255 122.474453 \r\nL 104.00739 123.187123 \r\nL 104.342525 122.362517 \r\nL 104.67766 127.221653 \r\nL 105.012796 129.550713 \r\nL 105.347931 128.48468 \r\nL 105.683066 130.104421 \r\nL 106.018201 130.539052 \r\nL 106.353336 131.551097 \r\nL 106.688471 132.970607 \r\nL 107.023606 130.920832 \r\nL 107.358742 131.009128 \r\nL 107.693877 130.701364 \r\nL 108.029012 132.578859 \r\nL 108.364147 133.078029 \r\nL 108.699282 134.332311 \r\nL 109.034417 137.436636 \r\nL 109.369552 136.123102 \r\nL 109.704688 136.169202 \r\nL 110.039823 136.861469 \r\nL 110.374958 139.547795 \r\nL 110.710093 139.330809 \r\nL 111.045228 140.419979 \r\nL 111.380363 137.472634 \r\nL 111.715498 140.359884 \r\nL 112.050633 139.494831 \r\nL 112.385769 141.208419 \r\nL 112.720904 144.898165 \r\nL 113.056039 145.598283 \r\nL 113.391174 145.368548 \r\nL 113.726309 143.166307 \r\nL 114.061444 143.960273 \r\nL 114.396579 145.782484 \r\nL 114.731715 145.334315 \r\nL 115.06685 147.704722 \r\nL 115.73712 149.983794 \r\nL 116.072255 147.368349 \r\nL 116.40739 147.546307 \r\nL 116.742525 148.792031 \r\nL 117.07766 148.542056 \r\nL 117.412796 151.006437 \r\nL 117.747931 150.441379 \r\nL 118.083066 146.978681 \r\nL 118.418201 145.655142 \r\nL 118.753336 145.735741 \r\nL 119.088471 143.774686 \r\nL 119.423606 143.306108 \r\nL 119.758742 144.075745 \r\nL 120.093877 143.969932 \r\nL 120.429012 146.798555 \r\nL 120.764147 145.245762 \r\nL 121.099282 144.606169 \r\nL 121.434417 143.124733 \r\nL 121.769552 142.483239 \r\nL 122.104687 142.748089 \r\nL 122.439823 142.155178 \r\nL 122.774958 144.300272 \r\nL 123.110093 144.03158 \r\nL 123.445228 145.802563 \r\nL 123.780363 143.194153 \r\nL 124.115498 143.87605 \r\nL 124.450633 142.645862 \r\nL 124.785769 142.400859 \r\nL 125.120904 145.192809 \r\nL 125.456039 144.413942 \r\nL 125.791174 141.792263 \r\nL 126.126309 142.892257 \r\nL 126.461444 143.052149 \r\nL 126.796579 142.291429 \r\nL 127.131715 144.17077 \r\nL 127.46685 144.11947 \r\nL 127.801985 144.356598 \r\nL 128.13712 144.186946 \r\nL 128.472255 142.885193 \r\nL 128.80739 142.971109 \r\nL 129.142525 144.402759 \r\nL 129.812796 148.452244 \r\nL 130.147931 147.689764 \r\nL 130.483066 148.018848 \r\nL 130.818201 146.192114 \r\nL 131.153336 147.237374 \r\nL 131.488471 144.437062 \r\nL 132.158742 145.475425 \r\nL 132.493877 144.495797 \r\nL 132.829012 145.046095 \r\nL 133.164147 145.155489 \r\nL 133.499282 143.663898 \r\nL 133.834417 143.527218 \r\nL 134.504687 145.945764 \r\nL 134.839823 143.558251 \r\nL 135.510093 145.931985 \r\nL 135.845228 147.357776 \r\nL 136.180363 146.98396 \r\nL 136.515498 149.432383 \r\nL 136.850633 149.54717 \r\nL 137.185769 151.028681 \r\nL 137.520904 151.965018 \r\nL 137.856039 150.917847 \r\nL 138.526309 154.068256 \r\nL 138.861444 155.022795 \r\nL 139.531715 159.512344 \r\nL 139.86685 160.668806 \r\nL 140.201985 160.91353 \r\nL 140.53712 158.764058 \r\nL 140.872255 160.813217 \r\nL 141.20739 160.160316 \r\nL 141.542525 158.607199 \r\nL 141.87766 159.742686 \r\nL 142.212796 156.457663 \r\nL 142.547931 155.240984 \r\nL 142.883066 153.530358 \r\nL 143.218201 154.175732 \r\nL 143.553336 153.197597 \r\nL 143.888471 151.42245 \r\nL 144.223606 151.713686 \r\nL 144.893877 155.025543 \r\nL 145.229012 154.388389 \r\nL 145.564147 155.073459 \r\nL 145.899282 154.040826 \r\nL 146.234417 153.886756 \r\nL 146.569552 155.624024 \r\nL 147.239823 156.680131 \r\nL 147.574958 155.895954 \r\nL 148.245228 153.331624 \r\nL 148.580363 153.205739 \r\nL 149.250633 149.366458 \r\nL 149.585769 151.504826 \r\nL 149.920904 152.517959 \r\nL 150.256039 152.511721 \r\nL 150.591174 152.236924 \r\nL 150.926309 149.652091 \r\nL 151.261444 148.612176 \r\nL 151.596579 148.487973 \r\nL 151.931715 150.226458 \r\nL 152.26685 151.161522 \r\nL 152.601985 151.452837 \r\nL 153.272255 155.195519 \r\nL 153.60739 154.364522 \r\nL 153.942525 154.101544 \r\nL 154.27766 155.497879 \r\nL 154.612796 156.290921 \r\nL 154.947931 157.658759 \r\nL 155.283066 158.250175 \r\nL 155.618201 158.077779 \r\nL 155.953336 158.776469 \r\nL 156.288471 157.719202 \r\nL 156.623606 158.064177 \r\nL 157.293877 159.823056 \r\nL 157.629012 159.228043 \r\nL 157.964147 157.884116 \r\nL 158.299282 154.756527 \r\nL 158.634417 155.297486 \r\nL 158.969552 156.891501 \r\nL 159.304688 157.280782 \r\nL 159.639823 153.990066 \r\nL 159.974958 153.945055 \r\nL 160.310093 153.399198 \r\nL 160.645228 154.621178 \r\nL 160.980363 153.580133 \r\nL 161.650633 157.530517 \r\nL 161.985769 156.76736 \r\nL 162.656039 155.980202 \r\nL 162.991174 154.674574 \r\nL 163.326309 154.644676 \r\nL 163.661444 155.149803 \r\nL 163.996579 154.509021 \r\nL 164.331715 153.396106 \r\nL 164.66685 153.099854 \r\nL 165.001985 154.008633 \r\nL 165.33712 153.511461 \r\nL 165.672255 154.297375 \r\nL 166.00739 153.451196 \r\nL 166.342525 153.851649 \r\nL 166.67766 153.34191 \r\nL 167.012796 153.467902 \r\nL 167.347931 154.959617 \r\nL 167.683066 152.637145 \r\nL 168.018201 152.320172 \r\nL 168.353336 150.611108 \r\nL 168.688471 149.549633 \r\nL 169.023606 150.62985 \r\nL 169.358742 148.743108 \r\nL 169.693877 150.714117 \r\nL 170.029012 149.378389 \r\nL 170.364147 149.465357 \r\nL 170.699282 147.024434 \r\nL 171.034417 147.680314 \r\nL 171.369552 147.806226 \r\nL 172.039823 151.998619 \r\nL 172.374958 149.067097 \r\nL 172.710093 147.400106 \r\nL 173.045228 149.510785 \r\nL 173.380363 148.331625 \r\nL 173.715498 147.872418 \r\nL 174.050633 148.822404 \r\nL 174.385769 145.743071 \r\nL 175.056039 150.288014 \r\nL 176.061444 145.673755 \r\nL 176.396579 145.469693 \r\nL 176.731715 146.404139 \r\nL 177.06685 147.001375 \r\nL 177.401985 148.470728 \r\nL 177.73712 147.853472 \r\nL 178.072255 148.440309 \r\nL 178.742525 148.164517 \r\nL 179.07766 150.452951 \r\nL 179.412796 149.254369 \r\nL 179.747931 149.952088 \r\nL 180.083066 151.186661 \r\nL 180.418201 153.476418 \r\nL 180.753336 152.461615 \r\nL 181.088471 154.218131 \r\nL 181.423606 153.887117 \r\nL 181.758742 153.398293 \r\nL 182.093877 152.185685 \r\nL 182.429012 153.114445 \r\nL 182.764147 151.995342 \r\nL 183.099282 149.673044 \r\nL 183.434417 148.737957 \r\nL 183.769552 147.175789 \r\nL 184.104687 147.564367 \r\nL 184.439823 151.510762 \r\nL 185.110093 155.535553 \r\nL 185.445228 155.923068 \r\nL 185.780363 156.635885 \r\nL 186.115498 156.922574 \r\nL 186.785769 159.813519 \r\nL 187.456039 156.085724 \r\nL 187.791174 155.897414 \r\nL 188.126309 157.148835 \r\nL 188.461444 156.156358 \r\nL 188.796579 155.87091 \r\nL 189.131715 155.818896 \r\nL 189.46685 156.155446 \r\nL 189.801985 156.278676 \r\nL 190.13712 154.854339 \r\nL 190.472255 158.195407 \r\nL 190.80739 159.203417 \r\nL 191.142525 160.764806 \r\nL 191.47766 163.412649 \r\nL 191.812796 160.841124 \r\nL 192.147931 161.509303 \r\nL 192.818201 169.340387 \r\nL 193.153336 168.711911 \r\nL 193.488471 169.536293 \r\nL 193.823606 169.602602 \r\nL 194.158742 168.566286 \r\nL 194.493877 166.130571 \r\nL 194.829012 165.868018 \r\nL 195.164147 165.151487 \r\nL 195.499282 163.971495 \r\nL 196.169552 166.254549 \r\nL 196.504687 167.783476 \r\nL 196.839823 167.01856 \r\nL 197.174958 165.942921 \r\nL 197.510093 168.817143 \r\nL 197.845228 166.956228 \r\nL 198.180363 166.200199 \r\nL 198.515498 164.851509 \r\nL 198.850633 164.616194 \r\nL 199.185769 166.046246 \r\nL 199.520904 169.09414 \r\nL 199.856039 169.936991 \r\nL 200.191174 170.247532 \r\nL 200.526309 169.473332 \r\nL 200.861444 169.685853 \r\nL 201.196579 170.173969 \r\nL 201.531715 174.520936 \r\nL 201.86685 177.273805 \r\nL 202.201985 176.96205 \r\nL 202.53712 173.852683 \r\nL 202.872255 173.416631 \r\nL 203.20739 173.411675 \r\nL 203.87766 175.61604 \r\nL 204.212796 174.245568 \r\nL 204.547931 173.456439 \r\nL 204.883066 171.168902 \r\nL 205.218201 169.842289 \r\nL 205.553336 170.549915 \r\nL 205.888471 172.604938 \r\nL 206.223606 173.562727 \r\nL 206.558742 172.539163 \r\nL 206.893877 173.930825 \r\nL 207.564147 170.279515 \r\nL 207.899282 171.224203 \r\nL 208.234417 170.96154 \r\nL 208.569552 166.950647 \r\nL 208.904687 170.564539 \r\nL 209.239823 168.389882 \r\nL 209.574958 167.361291 \r\nL 209.910093 167.928824 \r\nL 210.245228 167.739402 \r\nL 210.915498 160.999416 \r\nL 211.585769 163.805461 \r\nL 212.256039 165.881161 \r\nL 212.591174 165.384927 \r\nL 212.926309 164.42779 \r\nL 213.596579 161.490671 \r\nL 213.931715 159.145166 \r\nL 214.26685 158.528241 \r\nL 214.601985 155.954347 \r\nL 214.93712 158.475992 \r\nL 215.272255 158.46832 \r\nL 215.60739 157.874157 \r\nL 215.942525 159.741404 \r\nL 216.27766 160.640195 \r\nL 216.612796 160.65024 \r\nL 216.947931 164.713028 \r\nL 217.283066 163.876709 \r\nL 217.618201 167.010409 \r\nL 217.953336 168.23824 \r\nL 218.288471 166.223188 \r\nL 218.958742 170.322402 \r\nL 219.293877 169.049918 \r\nL 219.629012 168.622327 \r\nL 219.964147 166.33637 \r\nL 220.299282 168.113486 \r\nL 220.634417 167.534717 \r\nL 220.969552 167.761019 \r\nL 221.639823 163.78501 \r\nL 222.645228 168.672764 \r\nL 222.980363 171.315908 \r\nL 223.650633 173.42121 \r\nL 223.985769 175.450157 \r\nL 224.656039 176.788574 \r\nL 225.326309 181.90384 \r\nL 225.661444 179.211598 \r\nL 225.996579 179.387736 \r\nL 226.331715 176.977169 \r\nL 226.66685 178.953454 \r\nL 227.001985 177.931024 \r\nL 227.33712 174.992184 \r\nL 227.672255 176.018408 \r\nL 228.00739 174.15018 \r\nL 228.342525 173.668132 \r\nL 228.67766 172.345341 \r\nL 229.012796 172.444363 \r\nL 229.347931 175.158945 \r\nL 229.683066 176.300985 \r\nL 230.018201 176.134881 \r\nL 230.353336 177.851155 \r\nL 230.688471 177.611845 \r\nL 231.023606 177.719206 \r\nL 231.358742 175.634432 \r\nL 231.693877 177.098578 \r\nL 232.029012 176.664859 \r\nL 232.364147 178.706045 \r\nL 232.699282 179.624707 \r\nL 233.034417 179.488276 \r\nL 233.369552 180.195487 \r\nL 233.704688 182.045723 \r\nL 234.039823 181.521194 \r\nL 234.710093 182.646645 \r\nL 235.045228 182.434393 \r\nL 235.380363 181.363967 \r\nL 236.050633 178.085973 \r\nL 236.385769 179.893974 \r\nL 237.056039 179.190966 \r\nL 237.391174 178.007385 \r\nL 237.726309 179.652192 \r\nL 238.061444 177.508788 \r\nL 238.396579 177.911463 \r\nL 238.731715 175.943827 \r\nL 239.06685 177.092107 \r\nL 239.73712 171.674987 \r\nL 240.40739 173.49659 \r\nL 240.742525 175.85781 \r\nL 241.07766 174.604822 \r\nL 241.412796 173.942761 \r\nL 241.747931 178.342867 \r\nL 242.083066 178.497289 \r\nL 242.418201 179.652388 \r\nL 242.753336 179.557182 \r\nL 243.088471 177.627015 \r\nL 243.758742 180.983297 \r\nL 244.093877 179.051048 \r\nL 244.764147 182.047846 \r\nL 245.099282 179.118538 \r\nL 245.769552 182.137148 \r\nL 246.104687 180.459017 \r\nL 246.439823 181.693524 \r\nL 246.774958 183.35271 \r\nL 247.110093 184.332425 \r\nL 247.445228 184.8398 \r\nL 247.780363 186.322553 \r\nL 248.115498 187.116071 \r\nL 248.785769 182.928265 \r\nL 249.120904 183.095039 \r\nL 249.791174 182.205601 \r\nL 250.126309 183.767044 \r\nL 250.461444 184.593329 \r\nL 251.131715 188.218656 \r\nL 251.46685 190.371902 \r\nL 251.801985 189.32996 \r\nL 252.13712 190.272573 \r\nL 252.472255 188.619708 \r\nL 252.80739 187.707772 \r\nL 253.142525 185.568492 \r\nL 253.812796 182.818054 \r\nL 254.147931 179.018191 \r\nL 254.483066 180.113363 \r\nL 254.818201 178.994425 \r\nL 255.153336 178.980402 \r\nL 255.488471 179.593583 \r\nL 255.823606 181.278602 \r\nL 256.158742 179.697959 \r\nL 256.493877 180.200143 \r\nL 256.829012 180.243773 \r\nL 257.164147 176.703212 \r\nL 257.499282 178.404793 \r\nL 257.834417 179.182276 \r\nL 258.169552 177.149128 \r\nL 258.504687 178.681826 \r\nL 258.839823 178.825966 \r\nL 259.510093 181.625729 \r\nL 259.845228 182.106611 \r\nL 260.515498 186.721069 \r\nL 260.850633 186.61758 \r\nL 261.185769 187.85908 \r\nL 261.520904 185.681455 \r\nL 261.856039 185.382294 \r\nL 262.191174 185.798026 \r\nL 262.526309 185.644206 \r\nL 262.861444 186.903486 \r\nL 263.196579 182.546084 \r\nL 263.531715 182.805819 \r\nL 263.86685 185.614151 \r\nL 264.201985 183.85773 \r\nL 264.53712 179.757958 \r\nL 264.872255 179.498577 \r\nL 265.20739 181.562578 \r\nL 265.542525 181.835573 \r\nL 265.87766 181.320403 \r\nL 266.212796 177.854883 \r\nL 266.547931 178.082157 \r\nL 267.218201 175.74926 \r\nL 267.553336 175.877768 \r\nL 267.888471 173.530261 \r\nL 268.223606 173.325115 \r\nL 268.558742 172.790185 \r\nL 268.893877 173.45096 \r\nL 269.229012 177.629306 \r\nL 269.564147 178.002368 \r\nL 269.899282 181.910983 \r\nL 270.234417 180.884547 \r\nL 270.569552 176.216198 \r\nL 271.574958 174.492455 \r\nL 272.245228 176.530638 \r\nL 272.580363 179.09923 \r\nL 272.915498 179.773646 \r\nL 273.250633 178.279288 \r\nL 273.585769 178.412796 \r\nL 273.920904 176.062323 \r\nL 274.256039 176.839641 \r\nL 274.591174 175.936544 \r\nL 274.926309 174.469542 \r\nL 275.261444 171.927428 \r\nL 275.596579 174.498653 \r\nL 275.931715 174.423897 \r\nL 276.26685 177.142591 \r\nL 276.601985 176.333302 \r\nL 276.93712 177.683212 \r\nL 277.272255 176.093595 \r\nL 277.60739 173.284697 \r\nL 277.942525 174.196739 \r\nL 278.27766 174.261222 \r\nL 278.612796 175.963783 \r\nL 278.947931 175.031244 \r\nL 279.283066 176.889102 \r\nL 279.618201 178.014809 \r\nL 279.953336 178.179309 \r\nL 280.288471 178.075531 \r\nL 280.623606 176.833858 \r\nL 280.958742 176.771909 \r\nL 281.293877 177.889692 \r\nL 281.629012 175.573871 \r\nL 281.964147 174.365769 \r\nL 282.299282 174.514304 \r\nL 282.634417 175.591208 \r\nL 282.969552 175.817718 \r\nL 283.304688 177.960996 \r\nL 283.639823 179.004359 \r\nL 283.974958 181.62057 \r\nL 284.310093 183.345087 \r\nL 284.645228 183.390853 \r\nL 284.980363 181.670057 \r\nL 286.320904 189.344966 \r\nL 286.656039 189.351907 \r\nL 286.991174 186.896068 \r\nL 287.326309 185.885655 \r\nL 287.661444 185.544396 \r\nL 287.996579 184.354318 \r\nL 288.331715 184.463689 \r\nL 288.66685 187.328114 \r\nL 289.001985 187.528996 \r\nL 289.33712 186.835425 \r\nL 289.672255 183.470986 \r\nL 290.00739 184.151578 \r\nL 290.67766 183.700732 \r\nL 291.012796 184.003367 \r\nL 291.347931 184.516229 \r\nL 291.683066 185.586032 \r\nL 292.018201 184.298575 \r\nL 292.353336 186.221134 \r\nL 292.688471 184.84349 \r\nL 293.023606 185.21923 \r\nL 293.358742 185.049448 \r\nL 293.693877 185.092652 \r\nL 294.029012 186.948908 \r\nL 294.364147 185.985178 \r\nL 294.699282 184.412244 \r\nL 295.034417 183.381866 \r\nL 295.369552 184.081529 \r\nL 295.704688 183.420928 \r\nL 296.374958 184.739506 \r\nL 296.710093 183.762375 \r\nL 297.045228 182.176369 \r\nL 297.380363 186.200066 \r\nL 297.715498 185.066936 \r\nL 298.050633 184.604559 \r\nL 298.385769 184.995428 \r\nL 299.391174 187.450927 \r\nL 299.726309 186.833095 \r\nL 300.061444 187.453996 \r\nL 300.396579 186.253682 \r\nL 300.731715 187.194969 \r\nL 301.73712 185.973258 \r\nL 302.072255 186.18741 \r\nL 302.742525 187.232694 \r\nL 303.412796 189.969261 \r\nL 303.747931 190.329722 \r\nL 304.083066 189.619606 \r\nL 304.418201 188.182702 \r\nL 305.088471 192.977761 \r\nL 305.423606 193.208816 \r\nL 305.758742 193.93345 \r\nL 306.093877 193.857864 \r\nL 306.429012 195.213679 \r\nL 306.764147 195.002754 \r\nL 307.099282 195.295385 \r\nL 307.434417 196.539282 \r\nL 307.769552 195.722759 \r\nL 308.104688 199.487192 \r\nL 308.439823 199.438922 \r\nL 308.774958 201.716719 \r\nL 309.110093 200.519262 \r\nL 309.780363 203.346393 \r\nL 310.115498 202.977236 \r\nL 310.450633 201.040546 \r\nL 310.785769 202.114574 \r\nL 311.120904 200.665 \r\nL 311.456039 201.029937 \r\nL 311.791174 200.640619 \r\nL 312.461444 203.006039 \r\nL 312.796579 203.63987 \r\nL 313.131715 202.830454 \r\nL 313.46685 203.419843 \r\nL 313.801985 204.75938 \r\nL 314.13712 208.581903 \r\nL 314.472255 210.096631 \r\nL 314.80739 212.6363 \r\nL 315.142525 212.429288 \r\nL 315.47766 210.97156 \r\nL 315.812796 211.577819 \r\nL 316.147931 213.496601 \r\nL 316.818201 207.967233 \r\nL 317.488471 208.210635 \r\nL 317.823606 208.718729 \r\nL 318.158742 208.398613 \r\nL 318.493877 208.233612 \r\nL 318.829012 204.797917 \r\nL 319.164147 204.761284 \r\nL 319.499282 202.658844 \r\nL 319.834417 203.377911 \r\nL 320.169552 202.768537 \r\nL 320.504687 202.716987 \r\nL 320.839823 203.031889 \r\nL 321.174958 202.905633 \r\nL 321.510093 203.485096 \r\nL 321.845228 201.49194 \r\nL 322.180363 197.891177 \r\nL 322.515498 196.869231 \r\nL 322.850633 196.553582 \r\nL 323.185769 198.928545 \r\nL 323.520904 199.648682 \r\nL 323.856039 200.820808 \r\nL 324.191174 198.641373 \r\nL 324.526309 198.127601 \r\nL 324.861444 200.577433 \r\nL 325.196579 200.96927 \r\nL 325.531715 203.696291 \r\nL 325.86685 202.325448 \r\nL 326.201985 203.985655 \r\nL 326.53712 204.976242 \r\nL 326.872255 205.303371 \r\nL 327.20739 207.755991 \r\nL 327.542525 209.323895 \r\nL 327.87766 209.91323 \r\nL 328.212796 209.703481 \r\nL 328.547931 213.376523 \r\nL 328.883066 214.42443 \r\nL 329.218201 214.756364 \r\nL 329.553336 211.758964 \r\nL 329.888471 212.108508 \r\nL 330.223606 208.747727 \r\nL 330.558742 207.602259 \r\nL 330.893877 208.628905 \r\nL 331.229012 208.910634 \r\nL 331.564147 209.953072 \r\nL 331.899282 212.235166 \r\nL 332.234417 213.316697 \r\nL 333.239823 208.616355 \r\nL 333.574958 208.656636 \r\nL 333.910093 210.748379 \r\nL 334.245228 208.323595 \r\nL 334.580363 208.95963 \r\nL 335.250633 210.659364 \r\nL 335.585769 210.720655 \r\nL 336.591174 212.824161 \r\nL 337.931715 206.872836 \r\nL 338.26685 207.124816 \r\nL 338.601985 206.749393 \r\nL 338.93712 206.571284 \r\nL 339.272255 206.859975 \r\nL 339.942525 204.547273 \r\nL 340.27766 205.959825 \r\nL 340.612796 208.111218 \r\nL 340.947931 206.894175 \r\nL 341.283066 207.110657 \r\nL 341.618201 207.623013 \r\nL 341.953336 206.160133 \r\nL 342.288471 206.435076 \r\nL 342.958742 209.948885 \r\nL 343.293877 210.286238 \r\nL 343.629012 207.858645 \r\nL 343.964147 209.88545 \r\nL 344.299282 210.083205 \r\nL 344.634417 207.855553 \r\nL 344.969552 210.396604 \r\nL 345.304688 209.874172 \r\nL 345.639823 208.807092 \r\nL 345.974958 205.83706 \r\nL 346.310093 204.592895 \r\nL 346.645228 202.612549 \r\nL 346.980363 202.674863 \r\nL 347.315498 203.367628 \r\nL 347.985769 203.343387 \r\nL 348.320904 201.951663 \r\nL 348.656039 204.180371 \r\nL 348.991174 203.341699 \r\nL 349.326309 205.058163 \r\nL 349.661444 204.337971 \r\nL 349.996579 205.611991 \r\nL 350.331715 208.060419 \r\nL 350.66685 211.529304 \r\nL 351.001985 210.535329 \r\nL 351.672255 205.513602 \r\nL 352.00739 205.380995 \r\nL 352.342525 205.438771 \r\nL 352.67766 203.451135 \r\nL 353.683066 207.513518 \r\nL 354.018201 207.22514 \r\nL 354.353336 207.154902 \r\nL 354.688471 207.434385 \r\nL 355.023606 209.262273 \r\nL 355.358742 209.297647 \r\nL 355.693877 209.202004 \r\nL 356.029012 209.544275 \r\nL 356.364147 207.846485 \r\nL 356.699282 206.819209 \r\nL 357.034417 206.603597 \r\nL 357.369552 207.64409 \r\nL 357.704688 208.12622 \r\nL 358.039823 208.192251 \r\nL 358.710093 209.420283 \r\nL 359.045228 208.629664 \r\nL 359.380363 206.769159 \r\nL 359.715498 208.23584 \r\nL 360.050633 207.852608 \r\nL 360.385769 206.959242 \r\nL 360.720904 206.740858 \r\nL 361.056039 207.213501 \r\nL 361.726309 204.926619 \r\nL 362.396579 203.886716 \r\nL 362.731715 201.521998 \r\nL 363.06685 202.037768 \r\nL 363.401985 201.891528 \r\nL 363.73712 199.965829 \r\nL 364.072255 200.561698 \r\nL 364.40739 203.399538 \r\nL 364.742525 202.854452 \r\nL 365.07766 204.404787 \r\nL 365.412796 204.734294 \r\nL 365.747931 204.412375 \r\nL 366.083066 205.890837 \r\nL 366.418201 205.772815 \r\nL 366.753336 206.419269 \r\nL 367.088471 207.323427 \r\nL 367.423606 206.043966 \r\nL 367.758742 206.345377 \r\nL 368.093877 206.175671 \r\nL 368.429012 207.271789 \r\nL 368.764147 209.817803 \r\nL 369.099282 211.39432 \r\nL 369.434417 209.96321 \r\nL 369.769552 210.261301 \r\nL 370.104688 208.99208 \r\nL 370.104688 208.99208 \r\n\" style=\"fill:none;stroke:#2ca02c;stroke-linecap:square;stroke-width:1.5;\"/>\r\n   </g>\r\n   <g id=\"line2d_45\">\r\n    <path clip-path=\"url(#p908ec32487)\" d=\"M 35.304688 92.112626 \r\nL 35.639823 94.692937 \r\nL 36.645228 95.938328 \r\nL 36.980363 93.472348 \r\nL 37.315498 89.107903 \r\nL 37.650633 90.016845 \r\nL 37.985769 88.460932 \r\nL 38.320904 90.711559 \r\nL 38.656039 91.901137 \r\nL 39.326309 92.708933 \r\nL 39.661444 96.159603 \r\nL 39.996579 94.725543 \r\nL 40.331715 94.291139 \r\nL 40.66685 93.398766 \r\nL 41.001985 92.159392 \r\nL 41.672255 93.965565 \r\nL 42.00739 91.248242 \r\nL 42.342525 93.838989 \r\nL 42.67766 92.161307 \r\nL 43.012796 94.729061 \r\nL 43.683066 92.735534 \r\nL 44.018201 91.1087 \r\nL 44.688471 93.768813 \r\nL 45.023606 92.869175 \r\nL 45.358742 93.74293 \r\nL 45.693877 94.189427 \r\nL 46.029012 92.617658 \r\nL 46.699282 94.66861 \r\nL 47.034417 96.124629 \r\nL 47.369552 96.600366 \r\nL 47.704688 98.684235 \r\nL 48.039823 99.625243 \r\nL 48.374958 99.749912 \r\nL 48.710093 102.120202 \r\nL 49.045228 102.299922 \r\nL 49.380363 103.869331 \r\nL 49.715498 102.24757 \r\nL 50.050633 106.511637 \r\nL 50.385769 105.930882 \r\nL 50.720904 107.38332 \r\nL 51.056039 109.944244 \r\nL 51.726309 110.167033 \r\nL 52.061444 112.233603 \r\nL 52.396579 112.812414 \r\nL 52.731715 113.826923 \r\nL 53.06685 112.238519 \r\nL 53.401985 113.66217 \r\nL 53.73712 116.576399 \r\nL 54.072255 116.96877 \r\nL 54.40739 119.851019 \r\nL 54.742525 120.61572 \r\nL 55.07766 120.675665 \r\nL 55.412796 118.02215 \r\nL 55.747931 116.989276 \r\nL 56.418201 115.84435 \r\nL 56.753336 116.750374 \r\nL 57.088471 115.3616 \r\nL 57.423606 116.052192 \r\nL 58.093877 108.797219 \r\nL 58.429012 108.816399 \r\nL 58.764147 109.281014 \r\nL 59.099282 107.77181 \r\nL 59.434417 108.983609 \r\nL 59.769552 108.976507 \r\nL 60.439823 111.710485 \r\nL 60.774958 112.942908 \r\nL 61.110093 112.674705 \r\nL 61.445228 110.872793 \r\nL 61.780363 111.092685 \r\nL 62.115498 109.799133 \r\nL 62.450633 110.741453 \r\nL 62.785769 108.799037 \r\nL 63.120904 110.235787 \r\nL 63.456039 108.2894 \r\nL 63.791174 107.846341 \r\nL 64.126309 109.241869 \r\nL 65.131715 111.672326 \r\nL 65.46685 111.882551 \r\nL 66.13712 114.36192 \r\nL 66.472255 114.130226 \r\nL 66.80739 113.436812 \r\nL 67.142525 114.496431 \r\nL 67.47766 113.1898 \r\nL 67.812796 115.012518 \r\nL 68.147931 113.469617 \r\nL 68.818201 115.308664 \r\nL 69.488471 113.153531 \r\nL 69.823606 114.203841 \r\nL 70.158742 115.968637 \r\nL 70.493877 117.084882 \r\nL 70.829012 116.307717 \r\nL 71.164147 120.216427 \r\nL 71.499282 116.918285 \r\nL 71.834417 117.646509 \r\nL 72.504687 119.549939 \r\nL 72.839823 119.672561 \r\nL 73.174958 119.230426 \r\nL 73.510093 119.488727 \r\nL 74.180363 117.009242 \r\nL 74.515498 116.283248 \r\nL 74.850633 114.938468 \r\nL 75.185769 112.216808 \r\nL 76.191174 117.740716 \r\nL 76.526309 113.472395 \r\nL 76.861444 112.544999 \r\nL 77.196579 114.314612 \r\nL 77.531715 113.6588 \r\nL 78.201985 114.268089 \r\nL 78.53712 113.081488 \r\nL 78.872255 115.900338 \r\nL 79.20739 114.765086 \r\nL 79.87766 116.645107 \r\nL 80.212796 117.160789 \r\nL 80.547931 113.898342 \r\nL 81.218201 111.611961 \r\nL 81.553336 111.550622 \r\nL 81.888471 110.782167 \r\nL 82.223606 112.43185 \r\nL 82.558742 112.221979 \r\nL 83.229012 111.153516 \r\nL 83.564147 109.583528 \r\nL 83.899282 111.403629 \r\nL 84.234417 114.352776 \r\nL 84.569552 111.546623 \r\nL 85.239823 108.601494 \r\nL 85.574958 108.534845 \r\nL 86.245228 105.3966 \r\nL 86.580363 105.687974 \r\nL 86.915498 105.61884 \r\nL 87.250633 104.99195 \r\nL 87.585769 102.79302 \r\nL 87.920904 103.334334 \r\nL 88.591174 97.17204 \r\nL 88.926309 98.067605 \r\nL 89.261444 99.713205 \r\nL 89.596579 97.668067 \r\nL 90.26685 97.329681 \r\nL 90.601985 97.738537 \r\nL 90.93712 99.872133 \r\nL 91.272255 100.746898 \r\nL 91.60739 100.894024 \r\nL 91.942525 98.714206 \r\nL 92.612796 103.066023 \r\nL 92.947931 102.118069 \r\nL 93.283066 100.356631 \r\nL 93.618201 99.568157 \r\nL 93.953336 100.4171 \r\nL 94.288471 99.195464 \r\nL 94.623606 98.922137 \r\nL 94.958742 98.168177 \r\nL 95.293877 96.440625 \r\nL 95.629012 98.579308 \r\nL 96.299282 104.410207 \r\nL 96.634417 105.545117 \r\nL 96.969552 106.121056 \r\nL 97.304688 103.0254 \r\nL 97.639823 100.999592 \r\nL 99.315498 95.673106 \r\nL 99.650633 96.600944 \r\nL 99.985769 99.714819 \r\nL 100.320904 98.22727 \r\nL 100.656039 98.7374 \r\nL 100.991174 96.343382 \r\nL 101.661444 99.294972 \r\nL 101.996579 98.123763 \r\nL 102.331715 99.252367 \r\nL 102.66685 97.333149 \r\nL 103.672255 94.721616 \r\nL 104.00739 94.97287 \r\nL 104.342525 95.423751 \r\nL 104.67766 95.08325 \r\nL 105.012796 98.969182 \r\nL 105.347931 98.75563 \r\nL 105.683066 100.544145 \r\nL 106.018201 100.932901 \r\nL 106.353336 100.719274 \r\nL 106.688471 99.899032 \r\nL 107.023606 98.510362 \r\nL 107.693877 99.804076 \r\nL 108.029012 96.606535 \r\nL 108.364147 96.493718 \r\nL 108.699282 94.348911 \r\nL 109.369552 92.335078 \r\nL 110.039823 95.850035 \r\nL 110.374958 94.705729 \r\nL 110.710093 96.721358 \r\nL 111.045228 97.365894 \r\nL 111.380363 97.440946 \r\nL 112.050633 92.538653 \r\nL 112.385769 91.30535 \r\nL 112.720904 92.628003 \r\nL 113.056039 93.323781 \r\nL 113.391174 92.21043 \r\nL 113.726309 92.114635 \r\nL 114.061444 92.934519 \r\nL 114.396579 95.499294 \r\nL 114.731715 95.726504 \r\nL 115.06685 97.311728 \r\nL 115.401985 97.117603 \r\nL 115.73712 96.792492 \r\nL 116.072255 98.257576 \r\nL 116.40739 98.216365 \r\nL 116.742525 96.969542 \r\nL 117.07766 96.52673 \r\nL 117.412796 93.638891 \r\nL 117.747931 93.827018 \r\nL 118.083066 94.913261 \r\nL 118.418201 95.008301 \r\nL 119.088471 92.155637 \r\nL 120.093877 90.679434 \r\nL 120.429012 89.661104 \r\nL 120.764147 87.024586 \r\nL 121.099282 85.954823 \r\nL 121.434417 86.268954 \r\nL 121.769552 87.571504 \r\nL 122.104687 83.594431 \r\nL 122.439823 83.380264 \r\nL 122.774958 82.955815 \r\nL 123.110093 79.589624 \r\nL 123.445228 78.313733 \r\nL 123.780363 78.401072 \r\nL 124.115498 80.114295 \r\nL 124.785769 74.321471 \r\nL 125.120904 77.14181 \r\nL 125.456039 75.069369 \r\nL 125.791174 74.76824 \r\nL 126.126309 75.497223 \r\nL 126.461444 73.09314 \r\nL 126.796579 71.903168 \r\nL 127.131715 68.93858 \r\nL 127.46685 71.425874 \r\nL 127.801985 71.734674 \r\nL 128.13712 73.851071 \r\nL 128.472255 74.859487 \r\nL 128.80739 76.328926 \r\nL 129.142525 76.87248 \r\nL 129.47766 75.755452 \r\nL 129.812796 75.697971 \r\nL 130.147931 76.463663 \r\nL 130.483066 76.337656 \r\nL 130.818201 75.155073 \r\nL 131.153336 76.758981 \r\nL 131.488471 73.614289 \r\nL 131.823606 75.856138 \r\nL 132.158742 75.00245 \r\nL 132.493877 73.620897 \r\nL 132.829012 74.669155 \r\nL 133.164147 75.301136 \r\nL 133.499282 76.844409 \r\nL 133.834417 76.276022 \r\nL 134.169552 80.073787 \r\nL 134.504687 77.884722 \r\nL 134.839823 81.389839 \r\nL 135.174958 79.541642 \r\nL 135.845228 82.876864 \r\nL 136.180363 81.273956 \r\nL 136.515498 81.91798 \r\nL 137.520904 84.57774 \r\nL 137.856039 83.572081 \r\nL 138.526309 86.241556 \r\nL 138.861444 85.453062 \r\nL 139.196579 86.139198 \r\nL 139.531715 84.745466 \r\nL 139.86685 81.741055 \r\nL 140.201985 82.194628 \r\nL 140.53712 81.680326 \r\nL 140.872255 79.410079 \r\nL 141.20739 78.954962 \r\nL 141.542525 78.308297 \r\nL 141.87766 78.201487 \r\nL 142.212796 79.06917 \r\nL 142.547931 77.631034 \r\nL 142.883066 81.035196 \r\nL 143.218201 81.788966 \r\nL 143.553336 79.902417 \r\nL 143.888471 81.815824 \r\nL 144.223606 82.402578 \r\nL 144.558742 80.580389 \r\nL 144.893877 80.996953 \r\nL 145.229012 81.097463 \r\nL 145.564147 80.557604 \r\nL 145.899282 78.399504 \r\nL 146.234417 80.642293 \r\nL 146.569552 81.148402 \r\nL 146.904687 79.196514 \r\nL 147.239823 82.022742 \r\nL 147.574958 83.592972 \r\nL 147.910093 83.586169 \r\nL 148.245228 84.746297 \r\nL 148.580363 83.042433 \r\nL 148.915498 85.408033 \r\nL 149.250633 85.082228 \r\nL 149.585769 85.885524 \r\nL 149.920904 86.254439 \r\nL 150.256039 84.135682 \r\nL 150.591174 86.418805 \r\nL 150.926309 86.299728 \r\nL 151.261444 86.761445 \r\nL 151.596579 84.398499 \r\nL 151.931715 84.992514 \r\nL 152.26685 84.492104 \r\nL 152.601985 86.575937 \r\nL 152.93712 86.510519 \r\nL 153.272255 86.262759 \r\nL 153.60739 86.473889 \r\nL 153.942525 85.458776 \r\nL 154.27766 83.800101 \r\nL 154.612796 83.904904 \r\nL 154.947931 84.55643 \r\nL 155.283066 84.615827 \r\nL 155.618201 86.564488 \r\nL 155.953336 87.631314 \r\nL 156.288471 85.196545 \r\nL 156.623606 85.389057 \r\nL 156.958742 85.819491 \r\nL 157.293877 87.235558 \r\nL 157.964147 90.542745 \r\nL 158.299282 88.299588 \r\nL 158.969552 94.013736 \r\nL 159.304688 90.943517 \r\nL 159.639823 91.874906 \r\nL 160.310093 94.306462 \r\nL 160.645228 92.183133 \r\nL 160.980363 92.348513 \r\nL 161.315498 91.417463 \r\nL 161.650633 91.418764 \r\nL 161.985769 91.780498 \r\nL 162.320904 91.835372 \r\nL 162.656039 90.526707 \r\nL 162.991174 91.005114 \r\nL 163.326309 91.157442 \r\nL 163.661444 91.846106 \r\nL 163.996579 91.459426 \r\nL 164.331715 92.508098 \r\nL 164.66685 92.506647 \r\nL 165.001985 92.041942 \r\nL 165.33712 90.453431 \r\nL 165.672255 91.452571 \r\nL 166.00739 93.234614 \r\nL 166.342525 91.660229 \r\nL 166.67766 91.926642 \r\nL 167.347931 88.249804 \r\nL 167.683066 90.171641 \r\nL 168.018201 90.983513 \r\nL 168.353336 93.621999 \r\nL 168.688471 89.451808 \r\nL 169.023606 88.965581 \r\nL 169.358742 89.301231 \r\nL 169.693877 91.234628 \r\nL 170.029012 92.104958 \r\nL 170.364147 89.167416 \r\nL 170.699282 88.773178 \r\nL 171.034417 86.165851 \r\nL 171.369552 87.772424 \r\nL 171.704688 87.945492 \r\nL 172.039823 90.005124 \r\nL 172.374958 93.557667 \r\nL 172.710093 93.164157 \r\nL 173.045228 93.237177 \r\nL 173.380363 92.481733 \r\nL 173.715498 94.032679 \r\nL 174.050633 94.685432 \r\nL 174.385769 97.412015 \r\nL 174.720904 98.061604 \r\nL 175.056039 98.031981 \r\nL 175.391174 97.499523 \r\nL 175.726309 98.865025 \r\nL 176.061444 97.511435 \r\nL 176.396579 99.114835 \r\nL 177.06685 103.137008 \r\nL 177.401985 102.525665 \r\nL 177.73712 102.599307 \r\nL 178.072255 102.159479 \r\nL 178.40739 98.134457 \r\nL 178.742525 100.497808 \r\nL 179.07766 100.392427 \r\nL 179.747931 106.707163 \r\nL 180.083066 103.456144 \r\nL 180.418201 103.205657 \r\nL 180.753336 103.384844 \r\nL 181.088471 103.02478 \r\nL 181.423606 102.224707 \r\nL 181.758742 101.038396 \r\nL 182.093877 102.757359 \r\nL 182.429012 101.394163 \r\nL 182.764147 100.656505 \r\nL 183.099282 105.039291 \r\nL 183.434417 102.910615 \r\nL 183.769552 102.989543 \r\nL 184.439823 102.650538 \r\nL 184.774958 101.539644 \r\nL 185.110093 99.635223 \r\nL 185.445228 100.884239 \r\nL 185.780363 100.477642 \r\nL 186.785769 105.42319 \r\nL 187.120904 105.554073 \r\nL 187.456039 103.726813 \r\nL 187.791174 102.944043 \r\nL 188.126309 102.588435 \r\nL 188.461444 101.127052 \r\nL 189.46685 100.371209 \r\nL 190.13712 102.278234 \r\nL 190.472255 102.570217 \r\nL 190.80739 102.409113 \r\nL 191.142525 102.606021 \r\nL 191.47766 103.334725 \r\nL 191.812796 103.585839 \r\nL 192.147931 104.882811 \r\nL 192.483066 104.37419 \r\nL 192.818201 104.770401 \r\nL 193.153336 105.898921 \r\nL 193.823606 112.846523 \r\nL 194.493877 108.599145 \r\nL 195.164147 105.636021 \r\nL 195.834417 108.429044 \r\nL 196.169552 108.636314 \r\nL 196.839823 105.453252 \r\nL 197.174958 106.602635 \r\nL 197.510093 106.637471 \r\nL 197.845228 106.913439 \r\nL 198.180363 108.967916 \r\nL 198.515498 108.196371 \r\nL 198.850633 107.80468 \r\nL 199.185769 104.723071 \r\nL 199.520904 103.058159 \r\nL 199.856039 102.107835 \r\nL 200.191174 101.711725 \r\nL 200.526309 99.206521 \r\nL 200.861444 102.61411 \r\nL 201.531715 103.813198 \r\nL 201.86685 102.346539 \r\nL 202.201985 103.148315 \r\nL 202.53712 103.392149 \r\nL 202.872255 105.262933 \r\nL 203.20739 103.789922 \r\nL 203.542525 103.115925 \r\nL 204.212796 105.351675 \r\nL 204.547931 104.734092 \r\nL 204.883066 107.347889 \r\nL 205.218201 106.923982 \r\nL 205.553336 105.035822 \r\nL 206.223606 110.354739 \r\nL 206.558742 108.869979 \r\nL 206.893877 107.955602 \r\nL 207.229012 110.11403 \r\nL 207.564147 109.086781 \r\nL 207.899282 109.89732 \r\nL 208.234417 109.207795 \r\nL 208.904687 112.099558 \r\nL 209.239823 111.989998 \r\nL 209.574958 114.733829 \r\nL 209.910093 113.704617 \r\nL 210.245228 111.812763 \r\nL 210.580363 111.661267 \r\nL 210.915498 111.895124 \r\nL 211.250633 114.041712 \r\nL 211.585769 109.587755 \r\nL 212.256039 113.184997 \r\nL 212.591174 113.512335 \r\nL 212.926309 114.461425 \r\nL 213.261444 115.780584 \r\nL 213.596579 115.44774 \r\nL 213.931715 112.830635 \r\nL 214.26685 108.610898 \r\nL 214.601985 109.619284 \r\nL 214.93712 108.262074 \r\nL 215.272255 110.257321 \r\nL 215.60739 110.449844 \r\nL 215.942525 108.314556 \r\nL 216.27766 109.682517 \r\nL 216.947931 108.683277 \r\nL 217.283066 106.435735 \r\nL 217.618201 105.273953 \r\nL 217.953336 106.650121 \r\nL 218.288471 106.97203 \r\nL 218.623606 106.972262 \r\nL 218.958742 108.254408 \r\nL 219.293877 107.911949 \r\nL 219.629012 108.444932 \r\nL 219.964147 108.667753 \r\nL 220.634417 106.127729 \r\nL 220.969552 106.465267 \r\nL 221.304688 105.680887 \r\nL 221.639823 107.234999 \r\nL 221.974958 105.670967 \r\nL 222.310093 102.432207 \r\nL 222.645228 100.986889 \r\nL 222.980363 103.498748 \r\nL 223.315498 104.501872 \r\nL 223.650633 104.499074 \r\nL 223.985769 106.183061 \r\nL 224.320904 106.898127 \r\nL 224.656039 102.473611 \r\nL 225.326309 105.344645 \r\nL 225.661444 105.856188 \r\nL 225.996579 109.036424 \r\nL 226.331715 109.585455 \r\nL 226.66685 109.13863 \r\nL 227.33712 103.752713 \r\nL 227.672255 106.432227 \r\nL 228.00739 107.531595 \r\nL 228.342525 107.254805 \r\nL 228.67766 109.219488 \r\nL 229.347931 111.657515 \r\nL 230.018201 112.816606 \r\nL 230.353336 112.028349 \r\nL 230.688471 114.337013 \r\nL 231.023606 114.900161 \r\nL 231.358742 114.881082 \r\nL 231.693877 115.280614 \r\nL 232.029012 116.331162 \r\nL 232.364147 117.856177 \r\nL 232.699282 118.174992 \r\nL 233.034417 119.84638 \r\nL 233.369552 118.262406 \r\nL 234.039823 123.53629 \r\nL 234.374958 124.722389 \r\nL 234.710093 122.314067 \r\nL 235.380363 122.001702 \r\nL 235.715498 120.421431 \r\nL 236.050633 119.848266 \r\nL 236.385769 118.763261 \r\nL 236.720904 119.978832 \r\nL 237.056039 119.903452 \r\nL 237.391174 122.986762 \r\nL 237.726309 121.39477 \r\nL 238.061444 121.090511 \r\nL 238.396579 122.049593 \r\nL 238.731715 121.180761 \r\nL 239.06685 121.357161 \r\nL 239.401985 120.038681 \r\nL 239.73712 120.496315 \r\nL 240.072255 119.88922 \r\nL 240.40739 121.743903 \r\nL 240.742525 121.553057 \r\nL 241.07766 119.582775 \r\nL 241.412796 116.211008 \r\nL 242.083066 120.758606 \r\nL 242.418201 120.524626 \r\nL 242.753336 123.576534 \r\nL 243.088471 124.03336 \r\nL 243.423606 123.867153 \r\nL 243.758742 124.684833 \r\nL 244.429012 121.353148 \r\nL 244.764147 120.656966 \r\nL 245.099282 120.635347 \r\nL 245.434417 121.276505 \r\nL 245.769552 120.000383 \r\nL 246.104687 117.450785 \r\nL 246.439823 116.641799 \r\nL 246.774958 117.697467 \r\nL 247.110093 117.700918 \r\nL 247.445228 120.71402 \r\nL 247.780363 116.859087 \r\nL 248.450633 116.031136 \r\nL 248.785769 117.03832 \r\nL 249.120904 118.750039 \r\nL 249.791174 118.157514 \r\nL 250.126309 119.200415 \r\nL 250.461444 120.689854 \r\nL 250.796579 120.182701 \r\nL 251.131715 122.107871 \r\nL 251.46685 121.818507 \r\nL 251.801985 120.979438 \r\nL 252.13712 120.882927 \r\nL 252.472255 118.750952 \r\nL 253.142525 119.49649 \r\nL 253.47766 118.907141 \r\nL 254.147931 116.723675 \r\nL 254.483066 112.486156 \r\nL 254.818201 112.05602 \r\nL 255.153336 113.273215 \r\nL 255.488471 115.432152 \r\nL 256.158742 113.846658 \r\nL 256.493877 114.101513 \r\nL 256.829012 114.792153 \r\nL 257.164147 114.765075 \r\nL 257.499282 115.44319 \r\nL 258.169552 117.907371 \r\nL 258.504687 115.823627 \r\nL 258.839823 112.372675 \r\nL 259.174958 113.588447 \r\nL 259.510093 112.633311 \r\nL 259.845228 113.645899 \r\nL 260.180363 115.664488 \r\nL 260.515498 115.590105 \r\nL 260.850633 117.213617 \r\nL 261.185769 120.767208 \r\nL 261.520904 121.517693 \r\nL 261.856039 119.610778 \r\nL 262.191174 118.75052 \r\nL 262.526309 120.3516 \r\nL 262.861444 122.533937 \r\nL 263.196579 123.615503 \r\nL 263.531715 124.301448 \r\nL 263.86685 125.538177 \r\nL 264.201985 127.28166 \r\nL 264.872255 126.832825 \r\nL 265.20739 127.754987 \r\nL 265.542525 126.37657 \r\nL 265.87766 126.399537 \r\nL 266.212796 126.992509 \r\nL 266.547931 126.901095 \r\nL 266.883066 129.175847 \r\nL 267.218201 126.387629 \r\nL 267.553336 127.445288 \r\nL 267.888471 129.443718 \r\nL 268.223606 128.393625 \r\nL 268.558742 132.582023 \r\nL 268.893877 130.434943 \r\nL 269.564147 133.227172 \r\nL 269.899282 137.491796 \r\nL 270.234417 135.463317 \r\nL 270.569552 136.181511 \r\nL 270.904687 134.66624 \r\nL 271.239823 130.509611 \r\nL 271.574958 128.715651 \r\nL 271.910093 130.349568 \r\nL 272.580363 127.996324 \r\nL 272.915498 129.166523 \r\nL 273.250633 128.337034 \r\nL 273.585769 128.267828 \r\nL 273.920904 128.79642 \r\nL 274.591174 130.615929 \r\nL 274.926309 132.230889 \r\nL 275.261444 131.303534 \r\nL 275.931715 126.724011 \r\nL 276.601985 124.065333 \r\nL 277.272255 128.198275 \r\nL 277.60739 128.582816 \r\nL 278.27766 125.938482 \r\nL 278.612796 129.006841 \r\nL 279.618201 126.908906 \r\nL 279.953336 126.969508 \r\nL 280.288471 128.593683 \r\nL 280.623606 128.118867 \r\nL 280.958742 128.246436 \r\nL 281.629012 125.000398 \r\nL 281.964147 124.888481 \r\nL 282.299282 125.743438 \r\nL 282.969552 128.953276 \r\nL 283.304688 130.339993 \r\nL 283.639823 131.026464 \r\nL 283.974958 129.662586 \r\nL 284.310093 133.242972 \r\nL 284.645228 132.579185 \r\nL 284.980363 132.767307 \r\nL 285.315498 132.096365 \r\nL 285.650633 133.098315 \r\nL 285.985769 131.695096 \r\nL 286.320904 131.634572 \r\nL 286.656039 132.435992 \r\nL 286.991174 131.916348 \r\nL 287.326309 130.390746 \r\nL 287.661444 130.105475 \r\nL 287.996579 131.767751 \r\nL 288.331715 131.217145 \r\nL 288.66685 128.929855 \r\nL 289.001985 129.437822 \r\nL 289.33712 127.078861 \r\nL 290.00739 124.226086 \r\nL 290.342525 123.328792 \r\nL 290.67766 123.441242 \r\nL 291.012796 122.71224 \r\nL 291.347931 122.613934 \r\nL 291.683066 121.500454 \r\nL 292.018201 118.957914 \r\nL 292.353336 118.05426 \r\nL 292.688471 118.741978 \r\nL 293.023606 117.820686 \r\nL 293.358742 117.898134 \r\nL 293.693877 118.293025 \r\nL 294.029012 118.266878 \r\nL 294.364147 115.38537 \r\nL 294.699282 115.600286 \r\nL 295.034417 117.194324 \r\nL 295.369552 116.912079 \r\nL 295.704688 117.348947 \r\nL 296.039823 118.685819 \r\nL 296.374958 118.437692 \r\nL 297.045228 121.837196 \r\nL 297.380363 120.696918 \r\nL 297.715498 122.764422 \r\nL 298.050633 123.609318 \r\nL 298.385769 122.202983 \r\nL 298.720904 122.886133 \r\nL 299.056039 124.532822 \r\nL 299.391174 125.567046 \r\nL 299.726309 124.790854 \r\nL 300.061444 125.980454 \r\nL 300.396579 125.809785 \r\nL 300.731715 129.22196 \r\nL 301.401985 133.798878 \r\nL 301.73712 136.317122 \r\nL 302.072255 137.214913 \r\nL 302.40739 140.923912 \r\nL 302.742525 141.433541 \r\nL 303.07766 141.108432 \r\nL 303.747931 144.773111 \r\nL 304.083066 143.470199 \r\nL 304.418201 143.987143 \r\nL 304.753336 142.913693 \r\nL 305.088471 143.245487 \r\nL 305.423606 143.294167 \r\nL 305.758742 145.30707 \r\nL 306.093877 146.287976 \r\nL 306.764147 141.655544 \r\nL 307.099282 142.470136 \r\nL 307.769552 142.231843 \r\nL 308.104688 141.491308 \r\nL 308.439823 145.216127 \r\nL 308.774958 145.883254 \r\nL 309.110093 147.89673 \r\nL 309.445228 145.71458 \r\nL 309.780363 147.171645 \r\nL 310.115498 146.217681 \r\nL 310.450633 145.674951 \r\nL 310.785769 140.667448 \r\nL 311.456039 142.272268 \r\nL 311.791174 141.258446 \r\nL 312.126309 141.894542 \r\nL 312.461444 141.349654 \r\nL 312.796579 139.570866 \r\nL 313.131715 139.512068 \r\nL 313.46685 139.330404 \r\nL 313.801985 140.248432 \r\nL 314.13712 142.10046 \r\nL 314.472255 145.013509 \r\nL 314.80739 144.159165 \r\nL 315.142525 144.945813 \r\nL 315.47766 147.322314 \r\nL 315.812796 144.705732 \r\nL 316.147931 143.773037 \r\nL 316.483066 141.767827 \r\nL 316.818201 142.213954 \r\nL 317.488471 137.902167 \r\nL 317.823606 139.463475 \r\nL 318.158742 138.794237 \r\nL 318.493877 136.011405 \r\nL 318.829012 136.004506 \r\nL 319.164147 136.944471 \r\nL 319.499282 140.57431 \r\nL 319.834417 139.671394 \r\nL 320.169552 138.412939 \r\nL 320.504687 138.312322 \r\nL 320.839823 136.332164 \r\nL 321.174958 137.876049 \r\nL 321.510093 140.298932 \r\nL 321.845228 137.989585 \r\nL 322.180363 138.248136 \r\nL 322.515498 137.093434 \r\nL 322.850633 138.239049 \r\nL 323.185769 137.312217 \r\nL 323.520904 137.977272 \r\nL 323.856039 137.627761 \r\nL 324.191174 134.637076 \r\nL 324.526309 134.203045 \r\nL 324.861444 135.227864 \r\nL 325.196579 134.003508 \r\nL 325.531715 130.176795 \r\nL 325.86685 131.467773 \r\nL 326.201985 129.74695 \r\nL 326.53712 125.317128 \r\nL 327.20739 123.192226 \r\nL 327.542525 124.271554 \r\nL 328.212796 121.822447 \r\nL 328.547931 122.036495 \r\nL 328.883066 123.62828 \r\nL 329.218201 123.262308 \r\nL 329.553336 123.23229 \r\nL 330.223606 122.814359 \r\nL 330.558742 125.086231 \r\nL 330.893877 123.557804 \r\nL 331.229012 122.954126 \r\nL 331.564147 124.995191 \r\nL 331.899282 121.392707 \r\nL 332.234417 120.083485 \r\nL 332.904687 123.08124 \r\nL 333.239823 123.48723 \r\nL 333.574958 124.710489 \r\nL 333.910093 121.280848 \r\nL 334.245228 123.439617 \r\nL 334.580363 123.667695 \r\nL 334.915498 123.376936 \r\nL 335.250633 122.236295 \r\nL 335.585769 122.720123 \r\nL 335.920904 123.5267 \r\nL 336.256039 121.206104 \r\nL 336.591174 121.42309 \r\nL 336.926309 122.113386 \r\nL 337.261444 125.739536 \r\nL 337.596579 125.290167 \r\nL 337.931715 126.682163 \r\nL 338.601985 123.370956 \r\nL 338.93712 123.328002 \r\nL 339.272255 124.138667 \r\nL 339.60739 123.514308 \r\nL 340.947931 119.547303 \r\nL 341.283066 121.022077 \r\nL 341.618201 121.149111 \r\nL 341.953336 119.739288 \r\nL 342.288471 120.00706 \r\nL 342.623606 119.816155 \r\nL 342.958742 120.467331 \r\nL 343.293877 119.989842 \r\nL 344.299282 124.193636 \r\nL 344.634417 120.952791 \r\nL 345.304688 120.945657 \r\nL 345.639823 119.855393 \r\nL 345.974958 119.731333 \r\nL 346.310093 116.147415 \r\nL 346.980363 120.077757 \r\nL 347.315498 120.327566 \r\nL 347.985769 122.642917 \r\nL 348.320904 122.515202 \r\nL 348.656039 122.900993 \r\nL 348.991174 122.805759 \r\nL 349.326309 122.508005 \r\nL 349.661444 121.728591 \r\nL 349.996579 121.890093 \r\nL 350.331715 122.721068 \r\nL 350.66685 123.152124 \r\nL 351.001985 122.001943 \r\nL 351.33712 120.213779 \r\nL 352.00739 120.963288 \r\nL 352.342525 120.636495 \r\nL 352.67766 121.255935 \r\nL 353.012796 118.568725 \r\nL 353.683066 118.838553 \r\nL 354.018201 122.509579 \r\nL 354.353336 122.028934 \r\nL 354.688471 120.428415 \r\nL 355.023606 122.126545 \r\nL 355.358742 123.202443 \r\nL 355.693877 123.786434 \r\nL 356.029012 123.151677 \r\nL 356.364147 118.484365 \r\nL 356.699282 117.723694 \r\nL 357.034417 119.846572 \r\nL 357.704688 118.924331 \r\nL 358.039823 120.461094 \r\nL 358.374958 120.041038 \r\nL 358.710093 122.098229 \r\nL 359.045228 122.577839 \r\nL 359.380363 120.566913 \r\nL 359.715498 121.242737 \r\nL 360.050633 120.82203 \r\nL 360.720904 124.981235 \r\nL 361.056039 129.695153 \r\nL 361.391174 130.255604 \r\nL 361.726309 129.140551 \r\nL 362.061444 128.752923 \r\nL 362.396579 127.365265 \r\nL 362.731715 127.906306 \r\nL 363.06685 127.80946 \r\nL 363.401985 128.643025 \r\nL 363.73712 126.616184 \r\nL 364.072255 126.282154 \r\nL 364.40739 123.482806 \r\nL 364.742525 125.9018 \r\nL 365.07766 123.300064 \r\nL 365.412796 122.969829 \r\nL 365.747931 120.957521 \r\nL 366.083066 121.718935 \r\nL 366.418201 120.309243 \r\nL 366.753336 122.24838 \r\nL 367.088471 121.346794 \r\nL 367.423606 121.987544 \r\nL 368.093877 126.395698 \r\nL 368.429012 125.56156 \r\nL 368.764147 123.912017 \r\nL 369.099282 124.318529 \r\nL 369.434417 121.517026 \r\nL 369.769552 120.791889 \r\nL 370.104688 122.290894 \r\nL 370.104688 122.290894 \r\n\" style=\"fill:none;stroke:#d62728;stroke-linecap:square;stroke-width:1.5;\"/>\r\n   </g>\r\n   <g id=\"patch_3\">\r\n    <path d=\"M 35.304688 224.64 \r\nL 35.304688 7.2 \r\n\" style=\"fill:none;stroke:#000000;stroke-linecap:square;stroke-linejoin:miter;stroke-width:0.8;\"/>\r\n   </g>\r\n   <g id=\"patch_4\">\r\n    <path d=\"M 370.104688 224.64 \r\nL 370.104688 7.2 \r\n\" style=\"fill:none;stroke:#000000;stroke-linecap:square;stroke-linejoin:miter;stroke-width:0.8;\"/>\r\n   </g>\r\n   <g id=\"patch_5\">\r\n    <path d=\"M 35.304688 224.64 \r\nL 370.104688 224.64 \r\n\" style=\"fill:none;stroke:#000000;stroke-linecap:square;stroke-linejoin:miter;stroke-width:0.8;\"/>\r\n   </g>\r\n   <g id=\"patch_6\">\r\n    <path d=\"M 35.304688 7.2 \r\nL 370.104688 7.2 \r\n\" style=\"fill:none;stroke:#000000;stroke-linecap:square;stroke-linejoin:miter;stroke-width:0.8;\"/>\r\n   </g>\r\n   <g id=\"legend_1\">\r\n    <g id=\"patch_7\">\r\n     <path d=\"M 42.304688 219.64 \r\nL 82.004688 219.64 \r\nQ 84.004688 219.64 84.004688 217.64 \r\nL 84.004688 159.9275 \r\nQ 84.004688 157.9275 82.004688 157.9275 \r\nL 42.304688 157.9275 \r\nQ 40.304688 157.9275 40.304688 159.9275 \r\nL 40.304688 217.64 \r\nQ 40.304688 219.64 42.304688 219.64 \r\nz\r\n\" style=\"fill:#ffffff;opacity:0.8;stroke:#cccccc;stroke-linejoin:miter;\"/>\r\n    </g>\r\n    <g id=\"line2d_46\">\r\n     <path d=\"M 44.304688 166.025937 \r\nL 64.304688 166.025937 \r\n\" style=\"fill:none;stroke:#1f77b4;stroke-linecap:square;stroke-width:1.5;\"/>\r\n    </g>\r\n    <g id=\"line2d_47\"/>\r\n    <g id=\"text_14\">\r\n     <!-- A -->\r\n     <defs>\r\n      <path d=\"M 34.1875 63.1875 \r\nL 20.796875 26.90625 \r\nL 47.609375 26.90625 \r\nz\r\nM 28.609375 72.90625 \r\nL 39.796875 72.90625 \r\nL 67.578125 0 \r\nL 57.328125 0 \r\nL 50.6875 18.703125 \r\nL 17.828125 18.703125 \r\nL 11.1875 0 \r\nL 0.78125 0 \r\nz\r\n\" id=\"DejaVuSans-65\"/>\r\n     </defs>\r\n     <g transform=\"translate(72.304688 169.525937)scale(0.1 -0.1)\">\r\n      <use xlink:href=\"#DejaVuSans-65\"/>\r\n     </g>\r\n    </g>\r\n    <g id=\"line2d_48\">\r\n     <path d=\"M 44.304688 180.704062 \r\nL 64.304688 180.704062 \r\n\" style=\"fill:none;stroke:#ff7f0e;stroke-linecap:square;stroke-width:1.5;\"/>\r\n    </g>\r\n    <g id=\"line2d_49\"/>\r\n    <g id=\"text_15\">\r\n     <!-- B -->\r\n     <defs>\r\n      <path d=\"M 19.671875 34.8125 \r\nL 19.671875 8.109375 \r\nL 35.5 8.109375 \r\nQ 43.453125 8.109375 47.28125 11.40625 \r\nQ 51.125 14.703125 51.125 21.484375 \r\nQ 51.125 28.328125 47.28125 31.5625 \r\nQ 43.453125 34.8125 35.5 34.8125 \r\nz\r\nM 19.671875 64.796875 \r\nL 19.671875 42.828125 \r\nL 34.28125 42.828125 \r\nQ 41.5 42.828125 45.03125 45.53125 \r\nQ 48.578125 48.25 48.578125 53.8125 \r\nQ 48.578125 59.328125 45.03125 62.0625 \r\nQ 41.5 64.796875 34.28125 64.796875 \r\nz\r\nM 9.8125 72.90625 \r\nL 35.015625 72.90625 \r\nQ 46.296875 72.90625 52.390625 68.21875 \r\nQ 58.5 63.53125 58.5 54.890625 \r\nQ 58.5 48.1875 55.375 44.234375 \r\nQ 52.25 40.28125 46.1875 39.3125 \r\nQ 53.46875 37.75 57.5 32.78125 \r\nQ 61.53125 27.828125 61.53125 20.40625 \r\nQ 61.53125 10.640625 54.890625 5.3125 \r\nQ 48.25 0 35.984375 0 \r\nL 9.8125 0 \r\nz\r\n\" id=\"DejaVuSans-66\"/>\r\n     </defs>\r\n     <g transform=\"translate(72.304688 184.204062)scale(0.1 -0.1)\">\r\n      <use xlink:href=\"#DejaVuSans-66\"/>\r\n     </g>\r\n    </g>\r\n    <g id=\"line2d_50\">\r\n     <path d=\"M 44.304688 195.382187 \r\nL 64.304688 195.382187 \r\n\" style=\"fill:none;stroke:#2ca02c;stroke-linecap:square;stroke-width:1.5;\"/>\r\n    </g>\r\n    <g id=\"line2d_51\"/>\r\n    <g id=\"text_16\">\r\n     <!-- C -->\r\n     <defs>\r\n      <path d=\"M 64.40625 67.28125 \r\nL 64.40625 56.890625 \r\nQ 59.421875 61.53125 53.78125 63.8125 \r\nQ 48.140625 66.109375 41.796875 66.109375 \r\nQ 29.296875 66.109375 22.65625 58.46875 \r\nQ 16.015625 50.828125 16.015625 36.375 \r\nQ 16.015625 21.96875 22.65625 14.328125 \r\nQ 29.296875 6.6875 41.796875 6.6875 \r\nQ 48.140625 6.6875 53.78125 8.984375 \r\nQ 59.421875 11.28125 64.40625 15.921875 \r\nL 64.40625 5.609375 \r\nQ 59.234375 2.09375 53.4375 0.328125 \r\nQ 47.65625 -1.421875 41.21875 -1.421875 \r\nQ 24.65625 -1.421875 15.125 8.703125 \r\nQ 5.609375 18.84375 5.609375 36.375 \r\nQ 5.609375 53.953125 15.125 64.078125 \r\nQ 24.65625 74.21875 41.21875 74.21875 \r\nQ 47.75 74.21875 53.53125 72.484375 \r\nQ 59.328125 70.75 64.40625 67.28125 \r\nz\r\n\" id=\"DejaVuSans-67\"/>\r\n     </defs>\r\n     <g transform=\"translate(72.304688 198.882187)scale(0.1 -0.1)\">\r\n      <use xlink:href=\"#DejaVuSans-67\"/>\r\n     </g>\r\n    </g>\r\n    <g id=\"line2d_52\">\r\n     <path d=\"M 44.304688 210.060313 \r\nL 64.304688 210.060313 \r\n\" style=\"fill:none;stroke:#d62728;stroke-linecap:square;stroke-width:1.5;\"/>\r\n    </g>\r\n    <g id=\"line2d_53\"/>\r\n    <g id=\"text_17\">\r\n     <!-- D -->\r\n     <defs>\r\n      <path d=\"M 19.671875 64.796875 \r\nL 19.671875 8.109375 \r\nL 31.59375 8.109375 \r\nQ 46.6875 8.109375 53.6875 14.9375 \r\nQ 60.6875 21.78125 60.6875 36.53125 \r\nQ 60.6875 51.171875 53.6875 57.984375 \r\nQ 46.6875 64.796875 31.59375 64.796875 \r\nz\r\nM 9.8125 72.90625 \r\nL 30.078125 72.90625 \r\nQ 51.265625 72.90625 61.171875 64.09375 \r\nQ 71.09375 55.28125 71.09375 36.53125 \r\nQ 71.09375 17.671875 61.125 8.828125 \r\nQ 51.171875 0 30.078125 0 \r\nL 9.8125 0 \r\nz\r\n\" id=\"DejaVuSans-68\"/>\r\n     </defs>\r\n     <g transform=\"translate(72.304688 213.560313)scale(0.1 -0.1)\">\r\n      <use xlink:href=\"#DejaVuSans-68\"/>\r\n     </g>\r\n    </g>\r\n   </g>\r\n  </g>\r\n </g>\r\n <defs>\r\n  <clipPath id=\"p908ec32487\">\r\n   <rect height=\"217.44\" width=\"334.8\" x=\"35.304688\" y=\"7.2\"/>\r\n  </clipPath>\r\n </defs>\r\n</svg>\r\n",
      "image/png": "[encoded data removed]"
     },
     "metadata": {
      "needs_background": "light"
     }
    }
   ],
   "source": [
    "df = pd.DataFrame(np.random.randn(1000, 4), index=ts.index,\n",
    "   .....:                   columns=['A', 'B', 'C', 'D'])\n",
    "   .....: \n",
    "        \n",
    "df = df.cumsum()\n",
    "\n",
    "plt.figure(); df.plot(); plt.legend(loc='best')"
   ]
  },
  {
   "cell_type": "code",
   "execution_count": null,
   "metadata": {},
   "outputs": [],
   "source": []
  },
  {
   "cell_type": "code",
   "execution_count": null,
   "metadata": {},
   "outputs": [],
   "source": []
  },
  {
   "cell_type": "code",
   "execution_count": null,
   "metadata": {},
   "outputs": [],
   "source": []
  }
 ],
 "metadata": {
  "kernelspec": {
   "display_name": "Python 3.7.5 64-bit",
   "language": "python",
   "name": "python37564bit5307efeb92474673af7a58ac41b8c62b"
  },
  "language_info": {
   "codemirror_mode": {
    "name": "ipython",
    "version": 2
   },
   "file_extension": ".py",
   "mimetype": "text/x-python",
   "name": "python",
   "nbconvert_exporter": "python",
   "pygments_lexer": "ipython2",
   "version": "3.7.5-final"
  },
  "toc": {
   "base_numbering": 1,
   "nav_menu": {},
   "number_sections": false,
   "sideBar": true,
   "skip_h1_title": false,
   "title_cell": "MarkDown菜单",
   "title_sidebar": "Contents",
   "toc_cell": false,
   "toc_position": {},
   "toc_section_display": true,
   "toc_window_display": false
  }
 },
 "nbformat": 4,
 "nbformat_minor": 1
}